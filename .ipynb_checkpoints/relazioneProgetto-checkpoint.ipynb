{
 "cells": [
  {
   "cell_type": "markdown",
   "metadata": {
    "vscode": {
     "languageId": "r"
    }
   },
   "source": [
    "# Relazione di Web Mining\n",
    "\n",
    "1. Introduzione\n",
    "    1. [Ambiente di Sviluppo](###-1.1-Ambiente-di-Sviluppo)\n",
    "    2. [Introdizuone alla nostra Rete](###-1.2-Introduzione-alla-nostra-Rete)\n",
    "        - Proprietà della Rete\n",
    "        - Statistiche di Rete\n"
   ]
  },
  {
   "cell_type": "markdown",
   "metadata": {},
   "source": [
    "# 1. Introduzione\n",
    "## 1.1 Ambiente di Sviluppo\n",
    "Nel nostro caso abbiamo deciso di utilizzare come ambiente di sviluppo i Github Codespaces offerti dall'Università, utilizzando delle impostazioni di configurazione manuale per impostare R, linguaggio di programmazione utilizzato durante il corso, e Jupiter, un ambiente di sviluppo interattivo con il quale è stata scritta questa relazione.\\\n",
    "Per ottenere un ambiente di sviluppo identico al nostro basta creare una repository di Github, inserire la cartella .devcontainer al suo interno e poi creare un codespace sulla repository."
   ]
  },
  {
   "cell_type": "markdown",
   "metadata": {},
   "source": [
    "## 1.2 Introduzione alla nostra Rete\n",
    "La [rete da noi scelta](http://vlado.fmf.uni-lj.si/pub/networks/data/esna/metalWT.htm) descrive il commercio di oggetti in metallo tra 80 paesi nel mondo nel 1994. \\\n",
    "Un collegamento $Y_{ij}$ rappresenta le importazioni da un paese ad un altro riguardanti oggetti in metallo, in parole semplici possiamo vedere un collegamento $Y_{ij}$ come la richiesta di oggetti in metallo da parte del nodo $i$ al nodo $j$. "
   ]
  },
  {
   "cell_type": "markdown",
   "metadata": {},
   "source": [
    "### Proprietà della Rete\n",
    "La nostra rete contiene 80 nodi (paesi) e 1000 collegamenti (scambi commerciali) e ogni nodo contiene i seguenti attributi:\n",
    "- Il loro Continente di appartenenza\n",
    "- La loro Posizione rispetto alla Struttura del Sistema Mondiale nel 1994\n",
    "- Il loro PIL diviso per il numero di cittadini all'interno di tale paese nel 1995\n",
    "\n",
    "---\n",
    "\n",
    "Dal sito è possibile scaricare soltanto il file 'world_trade.paj' che contiene i nomi delle nazioni, la edge list corrispondente alla nostra rete e gli attributi nodali.\n",
    "Da questo file abbiamo ricavato il file 'edge_list.txt', contenente la lista degli archi della nostra rete, e 'nodes_attr.txt' contenente i nomi e i relativi attributi nodali dei nodi.\n",
    "Dopodiché tramite l'utilizzo della libreria igraph abbiamo impostato la nostra rete in R:"
   ]
  },
  {
   "cell_type": "code",
   "execution_count": 9,
   "metadata": {
    "vscode": {
     "languageId": "r"
    }
   },
   "outputs": [],
   "source": [
    "# Rimozione dati dalla sessione di R in caso fossero presenti\n",
    "rm(list = ls())\n",
    "\n",
    "setwd(\"C:\\\\Users\\\\Alexc\\\\Documents\\\\R files\\\\R-Project\")\n",
    "\n",
    "# Abilita l'utilizzo della libreria 'igraph'\n",
    "load(\"workspace.Rdata\")\n",
    "library(igraph)\n",
    "library(ergm)\n",
    "library(intergraph)\n",
    "library(sbm)\n",
    "library(ggplot2)\n",
    "library(grid)\n",
    "library(gridExtra)"
   ]
  },
  {
   "cell_type": "code",
   "execution_count": 10,
   "metadata": {
    "editable": true,
    "slideshow": {
     "slide_type": ""
    },
    "tags": [],
    "vscode": {
     "languageId": "r"
    }
   },
   "outputs": [
    {
     "name": "stdout",
     "output_type": "stream",
     "text": [
      "IGRAPH a9cf31a DN-- 80 1000 -- \n",
      "+ attr: continent (v/n), gdp (v/n), world_partition (v/n), xCoordinate\n",
      "| (v/n), yCoordinate (v/n), name (v/c)\n",
      "+ edges from a9cf31a (vertex names):\n",
      " [1] United States->French Guiana France       ->French Guiana\n",
      " [3] Germany      ->French Guiana Italy        ->French Guiana\n",
      " [5] United States->Guadeloupe    Belgium/Lux. ->Guadeloupe   \n",
      " [7] France       ->Guadeloupe    Germany      ->Guadeloupe   \n",
      " [9] Italy        ->Guadeloupe    United States->Norway       \n",
      "[11] Japan        ->Norway        China        ->Norway       \n",
      "[13] Belgium/Lux. ->Norway        Denmark      ->Norway       \n",
      "+ ... omitted several edges\n"
     ]
    }
   ],
   "source": [
    "# Importazione della edge list \n",
    "edgeList <- read.table(\"edge_list.txt\", sep = \"\", head = FALSE)\n",
    "\n",
    "# Importazione degli attributi dei nodi\n",
    "attr <- read.table(\"nodes_attr.txt\", sep = \"\", head = TRUE)\n",
    "\n",
    "# Creazione del grafo e assegnazione degli attributi ai nodi\n",
    "g <- graph_from_edgelist(as.matrix(edgeList), directed = TRUE)\n",
    "V(g)$continent <- attr$Continents\n",
    "V(g)$gdp <- attr$GDP\n",
    "V(g)$world_partition <- attr$World_Partitions\n",
    "V(g)$xCoordinate <- attr$xCoordinates\n",
    "V(g)$yCoordinate <- attr$yCoordinates\n",
    "V(g)$name <- attr$Names\n",
    "\n",
    "print(g)"
   ]
  },
  {
   "cell_type": "markdown",
   "metadata": {},
   "source": [
    "\n",
    "<img src=\"MapChart_Map.png\" alt=\"drawing\" width=\"1400\"/> <br>\n",
    "Questa è una rappresentazione dei nostri 80 paesi divisi in base all'attributo \"Continent\" secondo i nostri dati"
   ]
  },
  {
   "cell_type": "markdown",
   "metadata": {},
   "source": [
    "### Statistiche di Rete\n",
    "Dopodichè tramite l'utilizzo dei seguenti comandi abbiamo calcolato le nostre statistiche di Rete."
   ]
  },
  {
   "cell_type": "code",
   "execution_count": 52,
   "metadata": {
    "vscode": {
     "languageId": "r"
    }
   },
   "outputs": [
    {
     "data": {
      "text/plain": [
       "\n",
       "\n",
       "|Name                            |     Value|\n",
       "|:-------------------------------|---------:|\n",
       "|Edge Density                    | 0.1582278|\n",
       "|Reciprocity                     | 0.2460000|\n",
       "|Transitivity                    | 0.4595687|\n",
       "|Tau                             | 4.5239900|\n",
       "|Assortativity (Continent)       | 0.3472101|\n",
       "|Assortativity (GDP)             | 0.1603055|\n",
       "|Assortativity (World Partition) | 0.1960746|"
      ]
     },
     "metadata": {},
     "output_type": "display_data"
    }
   ],
   "source": [
    "# Creazione della matrice di adiacenza relativa al grafo g\n",
    "Y <- as_adjacency_matrix(g)\n",
    "diag(Y) <- NA\n",
    "\n",
    "# Calcolo delle statistiche di rete\n",
    "rho <- edge_density(g)\n",
    "reciprocity <- reciprocity(g)\n",
    "transitivity <- transitivity(g)\n",
    "odd_rho <- rho / (1 - rho)\n",
    "odd_transitivity <- transitivity / (1 - transitivity)\n",
    "tau <- odd_transitivity / odd_rho\n",
    "assortativity_continent <- assortativity(g, V(g)$continent, directed = TRUE)\n",
    "assortativity_gdp <- assortativity(g, V(g)$gdp, directed = TRUE)\n",
    "assortativity_worldpartition <- assortativity(g, V(g)$world_partition, directed = TRUE)\n",
    "\n",
    "# Create a table with names and values\n",
    "table <- data.frame(\n",
    "\tName = c(\"Edge Density\", \"Reciprocity\", \"Transitivity\", \"Tau\", \"Assortativity (Continent)\", \"Assortativity (GDP)\", \"Assortativity (World Partition)\"),\n",
    "\tValue = c(rho, reciprocity, transitivity, tau, assortativity_continent, assortativity_gdp, assortativity_worldpartition)\n",
    ")\n",
    "\n",
    "# print.data.frame(table, right = 0, row.names = FALSE)\n",
    "knitr::kable(table)"
   ]
  },
  {
   "cell_type": "markdown",
   "metadata": {},
   "source": [
    "Dall'immagine sopra possiamo estrapolare delle informazioni riguardo alla nostra rete, cioè: \n",
    "- Circa 1/4 delle connessioni è reciprocata.\n",
    "- La transitività nella nostra rete è molto alta, circa 4 volte di più rispetto al caso random.\n",
    "- Il coefficiente di assortatività è positivo per tutti e 3 gli attributi nodali.\n",
    "Con queste informazioni possiamo già dire che la nostra rete ha un'alta tendenza a formare dei cluster (o gruppi)."
   ]
  },
  {
   "cell_type": "markdown",
   "metadata": {},
   "source": [
    "### Statistiche Nodali\n",
    "Per quanto riguarda le Statistiche Nodali, cioè:\n",
    "- Degree Centrality\n",
    "- Closeness Centrality\n",
    "- Betweenness Centrality\n",
    "- Eigen-Vector Centrality\n",
    "\n",
    "abbiamo ottenuto i seguenti risultati:"
   ]
  },
  {
   "cell_type": "markdown",
   "metadata": {},
   "source": [
    "#### Degree Centrality\n",
    "Essendo la nostra rete una rete direzionata, dobbiamo osservare sia la In-Degree Centrality che la Out-Degree Centrality."
   ]
  },
  {
   "cell_type": "code",
   "execution_count": 12,
   "metadata": {
    "vscode": {
     "languageId": "r"
    }
   },
   "outputs": [],
   "source": [
    "in_degree <- degree(g, mode = \"in\")\n",
    "out_degree <- degree(g, mode = \"out\")"
   ]
  },
  {
   "cell_type": "markdown",
   "metadata": {},
   "source": [
    "##### In-Degree Centrality\n",
    "I dati da noi ottenuti per la In-Degree Centrality sono i seguenti:"
   ]
  },
  {
   "cell_type": "code",
   "execution_count": 13,
   "metadata": {
    "vscode": {
     "languageId": "r"
    }
   },
   "outputs": [
    {
     "data": {
      "image/png": "[encoded data removed]",
      "text/plain": [
       "Plot with title \"Histogram of in_degree\""
      ]
     },
     "metadata": {
      "image/png": {
       "height": 420,
       "width": 420
      }
     },
     "output_type": "display_data"
    }
   ],
   "source": [
    "# Istogramma dell'In Degree Centrality\n",
    "hist(in_degree)"
   ]
  },
  {
   "cell_type": "code",
   "execution_count": 14,
   "metadata": {
    "vscode": {
     "languageId": "r"
    }
   },
   "outputs": [
    {
     "data": {
      "text/plain": [
       "   Min. 1st Qu.  Median    Mean 3rd Qu.    Max. \n",
       "    4.0    10.0    13.0    12.5    15.0    18.0 "
      ]
     },
     "metadata": {},
     "output_type": "display_data"
    }
   ],
   "source": [
    "# Stampo il Summary dell'In Degree Centrality\n",
    "summary(in_degree)"
   ]
  },
  {
   "cell_type": "code",
   "execution_count": 15,
   "metadata": {
    "vscode": {
     "languageId": "r"
    }
   },
   "outputs": [
    {
     "data": {
      "text/plain": [
       "\n",
       "\n",
       "|                | IN_Degree|\n",
       "|:---------------|---------:|\n",
       "|Australia       |        18|\n",
       "|Germany         |        18|\n",
       "|Southern Africa |        18|\n",
       "|Chile           |        17|\n",
       "|Jordan          |        17|"
      ]
     },
     "metadata": {},
     "output_type": "display_data"
    }
   ],
   "source": [
    "# Stampo le 5 Nazioni con In Degree più Alto\n",
    "# matrix(c(V(g)$name[order(in_degree, decreasing = TRUE)[1:5]], in_degree[order(in_degree, decreasing = TRUE)[1:5]]), \n",
    "#     nrow = 2, ncol = 5, byrow = TRUE,\n",
    "#     dimnames = list(c(\"Nazioni\", \"In Degree\"), c(1:5)))\n",
    "\n",
    "# Create a table with names and values\n",
    "table <- data.frame(\n",
    "\tIN_Degree = c(in_degree[order(in_degree, decreasing = TRUE)[1:5]])\n",
    ")\n",
    "\n",
    "#print.data.frame(table, right = 0, row.names = FALSE)\n",
    "knitr::kable(table)\n"
   ]
  },
  {
   "cell_type": "code",
   "execution_count": 16,
   "metadata": {
    "vscode": {
     "languageId": "r"
    }
   },
   "outputs": [
    {
     "data": {
      "text/html": [
       "0.0705015221919564"
      ],
      "text/latex": [
       "0.0705015221919564"
      ],
      "text/markdown": [
       "0.0705015221919564"
      ],
      "text/plain": [
       "[1] 0.07050152"
      ]
     },
     "metadata": {},
     "output_type": "display_data"
    }
   ],
   "source": [
    "# Stampo la centralità della Rete rispetto all'In Degree\n",
    "centr_degree(g, loops = FALSE, mode = \"in\")$centralization"
   ]
  },
  {
   "cell_type": "markdown",
   "metadata": {
    "editable": true,
    "slideshow": {
     "slide_type": ""
    },
    "tags": []
   },
   "source": [
    "Conclusioni:\n",
    "- Nella Rete non sono presenti nodi che non ricevono dei collegamenti\n",
    "- Le In Degree sono ben distribuite all'interno della Rete\n",
    "- Il valore di centralizzazione è molto basso, il che implica che la rete non è centralizzata su dei nodi specifici\n",
    " \n"
   ]
  },
  {
   "cell_type": "markdown",
   "metadata": {},
   "source": [
    "##### Out-Degree Centrality\n",
    "Invece per quanto riguarda la Out-Degree Centrality abbiamo ottenuto i seguenti risultati:"
   ]
  },
  {
   "cell_type": "code",
   "execution_count": 17,
   "metadata": {
    "vscode": {
     "languageId": "r"
    }
   },
   "outputs": [
    {
     "data": {
      "image/png": "[encoded data removed]",
      "text/plain": [
       "Plot with title \"Histogram of out_degree\""
      ]
     },
     "metadata": {
      "image/png": {
       "height": 420,
       "width": 420
      }
     },
     "output_type": "display_data"
    }
   ],
   "source": [
    "# Istogramma dell'In Degree Centrality\n",
    "hist(out_degree, breaks = 10)"
   ]
  },
  {
   "cell_type": "code",
   "execution_count": 18,
   "metadata": {
    "vscode": {
     "languageId": "r"
    }
   },
   "outputs": [
    {
     "data": {
      "text/plain": [
       "   Min. 1st Qu.  Median    Mean 3rd Qu.    Max. \n",
       "    0.0     0.0     4.0    12.5    13.0    77.0 "
      ]
     },
     "metadata": {},
     "output_type": "display_data"
    }
   ],
   "source": [
    "# Stampo il Summary dell'In Degree Centrality\n",
    "summary(out_degree)"
   ]
  },
  {
   "cell_type": "code",
   "execution_count": 19,
   "metadata": {
    "vscode": {
     "languageId": "r"
    }
   },
   "outputs": [
    {
     "data": {
      "text/plain": [
       "\n",
       "\n",
       "|               | Out_Degree|\n",
       "|:--------------|----------:|\n",
       "|Germany        |         77|\n",
       "|Italy          |         72|\n",
       "|United States  |         72|\n",
       "|United Kingdom |         63|\n",
       "|China          |         57|"
      ]
     },
     "metadata": {},
     "output_type": "display_data"
    }
   ],
   "source": [
    "# Create a table with names and values\n",
    "table <- data.frame(\n",
    "\tOut_Degree = c(out_degree[order(out_degree, decreasing = TRUE)[1:5]])\n",
    ")\n",
    "\n",
    "#print.data.frame(table, right = 0, row.names = FALSE)\n",
    "knitr::kable(table)"
   ]
  },
  {
   "cell_type": "code",
   "execution_count": 20,
   "metadata": {
    "vscode": {
     "languageId": "r"
    }
   },
   "outputs": [
    {
     "data": {
      "text/html": [
       "0.826790578432943"
      ],
      "text/latex": [
       "0.826790578432943"
      ],
      "text/markdown": [
       "0.826790578432943"
      ],
      "text/plain": [
       "[1] 0.8267906"
      ]
     },
     "metadata": {},
     "output_type": "display_data"
    }
   ],
   "source": [
    "# Stampo la centralità della Rete rispetto all'In Degree\n",
    "centr_degree(g, loops = FALSE, mode = \"out\")$centralization"
   ]
  },
  {
   "cell_type": "markdown",
   "metadata": {
    "vscode": {
     "languageId": "r"
    }
   },
   "source": [
    "Conclusioni:\n",
    "- La maggior parte dei nodi ha da 0 a 10 nodi uscenti\n",
    "- Le Out Degree all'interno della rete non sono distribuite in modo uniforme\n",
    "- Il valore di Centralizzazione è molto alto, il che indica che la rete dipende da dei nodi in particolare."
   ]
  },
  {
   "cell_type": "markdown",
   "metadata": {},
   "source": [
    "#### Closeness Centrality\n",
    "Essendo la nostra rete una rete direzionata, dobbiamo osservare sia la In-Closeness Centrality che la Out-Closeness Centrality."
   ]
  },
  {
   "cell_type": "code",
   "execution_count": 21,
   "metadata": {
    "vscode": {
     "languageId": "r"
    }
   },
   "outputs": [],
   "source": [
    "closeness_in <- closeness(g, mode = \"in\")\n",
    "closeness_out <- closeness(g, mode = \"out\")"
   ]
  },
  {
   "cell_type": "markdown",
   "metadata": {},
   "source": [
    "##### In-Closeness Centrality\n",
    "I Dati da noi ottenuti per la In-Closeness Centrality sono i seguenti"
   ]
  },
  {
   "cell_type": "code",
   "execution_count": 22,
   "metadata": {
    "vscode": {
     "languageId": "r"
    }
   },
   "outputs": [
    {
     "data": {
      "image/png": "[encoded data removed]",
      "text/plain": [
       "Plot with title \"Histogram of closeness_in\""
      ]
     },
     "metadata": {
      "image/png": {
       "height": 420,
       "width": 420
      }
     },
     "output_type": "display_data"
    }
   ],
   "source": [
    "#Istogramma dell'In-Closeness Centrality\n",
    "hist(closeness_in)"
   ]
  },
  {
   "cell_type": "code",
   "execution_count": 23,
   "metadata": {
    "vscode": {
     "languageId": "r"
    }
   },
   "outputs": [
    {
     "data": {
      "text/plain": [
       "    Min.  1st Qu.   Median     Mean  3rd Qu.     Max. \n",
       "0.005848 0.006623 0.006944 0.007488 0.007634 0.011364 "
      ]
     },
     "metadata": {},
     "output_type": "display_data"
    }
   ],
   "source": [
    "summary(closeness_in)"
   ]
  },
  {
   "cell_type": "code",
   "execution_count": 24,
   "metadata": {
    "vscode": {
     "languageId": "r"
    }
   },
   "outputs": [
    {
     "data": {
      "text/plain": [
       "\n",
       "\n",
       "|            | In_Closeness|\n",
       "|:-----------|------------:|\n",
       "|El Salvador |    0.0113636|\n",
       "|Honduras    |    0.0112360|\n",
       "|Guatemala   |    0.0111111|\n",
       "|Peru        |    0.0109890|\n",
       "|Nicaragua   |    0.0108696|"
      ]
     },
     "metadata": {},
     "output_type": "display_data"
    }
   ],
   "source": [
    "# Create a table with names and values\n",
    "table <- data.frame(\n",
    "\tIn_Closeness = c(closeness_in[order(closeness_in, decreasing = TRUE)[1:5]])\n",
    ")\n",
    "\n",
    "#print.data.frame(table, right = 0, row.names = FALSE)\n",
    "knitr::kable(table)"
   ]
  },
  {
   "cell_type": "code",
   "execution_count": 25,
   "metadata": {
    "vscode": {
     "languageId": "r"
    }
   },
   "outputs": [
    {
     "data": {
      "text/html": [
       "0.17667852352639"
      ],
      "text/latex": [
       "0.17667852352639"
      ],
      "text/markdown": [
       "0.17667852352639"
      ],
      "text/plain": [
       "[1] 0.1766785"
      ]
     },
     "metadata": {},
     "output_type": "display_data"
    }
   ],
   "source": [
    "centr_clo(g, mode = \"in\")$centralization"
   ]
  },
  {
   "cell_type": "markdown",
   "metadata": {},
   "source": [
    "Conclusioni:\n",
    "- Da Capire"
   ]
  },
  {
   "cell_type": "markdown",
   "metadata": {},
   "source": [
    "##### Out-Closeness Centrality\n",
    "I Dati da noi ottenuti per la In-Closeness Centrality sono i seguenti"
   ]
  },
  {
   "cell_type": "code",
   "execution_count": 26,
   "metadata": {
    "vscode": {
     "languageId": "r"
    }
   },
   "outputs": [
    {
     "data": {
      "image/png": "[encoded data removed]",
      "text/plain": [
       "Plot with title \"Histogram of closeness_out\""
      ]
     },
     "metadata": {
      "image/png": {
       "height": 420,
       "width": 420
      }
     },
     "output_type": "display_data"
    }
   ],
   "source": [
    "#Istogramma dell'Out-Closeness Centrality\n",
    "hist(closeness_out, breaks = 20)"
   ]
  },
  {
   "cell_type": "code",
   "execution_count": 27,
   "metadata": {
    "vscode": {
     "languageId": "r"
    }
   },
   "outputs": [
    {
     "data": {
      "text/plain": [
       "    Min.  1st Qu.   Median     Mean  3rd Qu.     Max.     NA's \n",
       "0.001435 0.004959 0.006645 0.056027 0.009901 0.500000       24 "
      ]
     },
     "metadata": {},
     "output_type": "display_data"
    }
   ],
   "source": [
    "summary(closeness_out)"
   ]
  },
  {
   "cell_type": "code",
   "execution_count": 28,
   "metadata": {
    "vscode": {
     "languageId": "r"
    }
   },
   "outputs": [
    {
     "data": {
      "text/plain": [
       "\n",
       "\n",
       "|                | Out_Closeness|\n",
       "|:---------------|-------------:|\n",
       "|Barbados        |     0.5000000|\n",
       "|Romania         |     0.5000000|\n",
       "|Trinidad Tobago |     0.5000000|\n",
       "|Tunisia         |     0.5000000|\n",
       "|Moldava         |     0.3333333|"
      ]
     },
     "metadata": {},
     "output_type": "display_data"
    }
   ],
   "source": [
    "# Create a table with names and values\n",
    "table <- data.frame(\n",
    "\tOut_Closeness = c(closeness_out[order(closeness_out, decreasing = TRUE)[1:5]])\n",
    ")\n",
    "\n",
    "#print.data.frame(table, right = 0, row.names = FALSE)\n",
    "knitr::kable(table)"
   ]
  },
  {
   "cell_type": "code",
   "execution_count": 29,
   "metadata": {
    "vscode": {
     "languageId": "r"
    }
   },
   "outputs": [
    {
     "data": {
      "text/html": [
       "NaN"
      ],
      "text/latex": [
       "NaN"
      ],
      "text/markdown": [
       "NaN"
      ],
      "text/plain": [
       "[1] NaN"
      ]
     },
     "metadata": {},
     "output_type": "display_data"
    }
   ],
   "source": [
    "centr_clo(g, mode = \"out\")$centralization"
   ]
  },
  {
   "cell_type": "markdown",
   "metadata": {},
   "source": [
    "Conclusioni:\n",
    "- ziocan da capiress"
   ]
  },
  {
   "cell_type": "markdown",
   "metadata": {},
   "source": [
    "#### Betweenness Centrality"
   ]
  },
  {
   "cell_type": "code",
   "execution_count": 30,
   "metadata": {
    "vscode": {
     "languageId": "r"
    }
   },
   "outputs": [],
   "source": [
    "betweenness <- betweenness(g, directed = TRUE)"
   ]
  },
  {
   "cell_type": "markdown",
   "metadata": {},
   "source": [
    "I dati da noi ottenuti per la Betweenness Centrality sono i seguenti:"
   ]
  },
  {
   "cell_type": "code",
   "execution_count": 31,
   "metadata": {
    "vscode": {
     "languageId": "r"
    }
   },
   "outputs": [
    {
     "data": {
      "image/png": "[encoded data removed]",
      "text/plain": [
       "Plot with title \"Histogram of betweenness\""
      ]
     },
     "metadata": {
      "image/png": {
       "height": 420,
       "width": 420
      }
     },
     "output_type": "display_data"
    }
   ],
   "source": [
    "# Istogramma della Betweenness Centrality\n",
    "hist(betweenness)"
   ]
  },
  {
   "cell_type": "code",
   "execution_count": 32,
   "metadata": {
    "vscode": {
     "languageId": "r"
    }
   },
   "outputs": [
    {
     "data": {
      "text/plain": [
       "   Min. 1st Qu.  Median    Mean 3rd Qu.    Max. \n",
       "  0.000   0.000   8.899  90.763  60.417 899.793 "
      ]
     },
     "metadata": {},
     "output_type": "display_data"
    }
   ],
   "source": [
    "summary(betweenness)"
   ]
  },
  {
   "cell_type": "code",
   "execution_count": 33,
   "metadata": {
    "vscode": {
     "languageId": "r"
    }
   },
   "outputs": [
    {
     "data": {
      "text/plain": [
       "\n",
       "\n",
       "|              | Betweenness|\n",
       "|:-------------|-----------:|\n",
       "|United States |    899.7931|\n",
       "|Brazil        |    756.7533|\n",
       "|Argentina     |    676.8798|\n",
       "|Chile         |    647.8950|\n",
       "|Colombia      |    548.4743|"
      ]
     },
     "metadata": {},
     "output_type": "display_data"
    }
   ],
   "source": [
    "# Create a table with names and values\n",
    "table <- data.frame(\n",
    "\tBetweenness = c(betweenness[order(betweenness, decreasing = TRUE)[1:5]])\n",
    ")\n",
    "\n",
    "#print.data.frame(table, right = 0, row.names = FALSE)\n",
    "knitr::kable(table)"
   ]
  },
  {
   "cell_type": "code",
   "execution_count": 34,
   "metadata": {
    "vscode": {
     "languageId": "r"
    }
   },
   "outputs": [
    {
     "data": {
      "text/html": [
       "0.132955452527705"
      ],
      "text/latex": [
       "0.132955452527705"
      ],
      "text/markdown": [
       "0.132955452527705"
      ],
      "text/plain": [
       "[1] 0.1329555"
      ]
     },
     "metadata": {},
     "output_type": "display_data"
    }
   ],
   "source": [
    "centr_betw(g, directed = TRUE)$centralization"
   ]
  },
  {
   "cell_type": "markdown",
   "metadata": {},
   "source": [
    "Conclusioni: \n",
    "- le metterò tutte alla fine zamnn"
   ]
  },
  {
   "cell_type": "markdown",
   "metadata": {},
   "source": [
    "#### EigeVector Centrality"
   ]
  },
  {
   "cell_type": "code",
   "execution_count": 35,
   "metadata": {
    "vscode": {
     "languageId": "r"
    }
   },
   "outputs": [],
   "source": [
    "eigen_centrality <- eigen_centrality(g)$vector"
   ]
  },
  {
   "cell_type": "markdown",
   "metadata": {},
   "source": [
    "I Dati da noi ottenuti per la EigenVector Centrality sono i seguenti:"
   ]
  },
  {
   "cell_type": "code",
   "execution_count": 36,
   "metadata": {
    "vscode": {
     "languageId": "r"
    }
   },
   "outputs": [
    {
     "data": {
      "image/png": "[encoded data removed]",
      "text/plain": [
       "Plot with title \"Histogram of eigen_centrality\""
      ]
     },
     "metadata": {
      "image/png": {
       "height": 420,
       "width": 420
      }
     },
     "output_type": "display_data"
    }
   ],
   "source": [
    "# Istrogramma dell'EigenVector Centrality\n",
    "hist(eigen_centrality)"
   ]
  },
  {
   "cell_type": "code",
   "execution_count": 37,
   "metadata": {
    "vscode": {
     "languageId": "r"
    }
   },
   "outputs": [
    {
     "data": {
      "text/plain": [
       "   Min. 1st Qu.  Median    Mean 3rd Qu.    Max. \n",
       "0.08979 0.19907 0.28056 0.34384 0.36383 1.00000 "
      ]
     },
     "metadata": {},
     "output_type": "display_data"
    }
   ],
   "source": [
    "summary(eigen_centrality)"
   ]
  },
  {
   "cell_type": "code",
   "execution_count": 38,
   "metadata": {
    "vscode": {
     "languageId": "r"
    }
   },
   "outputs": [
    {
     "data": {
      "text/plain": [
       "\n",
       "\n",
       "|               | EigenVector_Value|\n",
       "|:--------------|-----------------:|\n",
       "|Germany        |         1.0000000|\n",
       "|Italy          |         0.9265606|\n",
       "|United Kingdom |         0.9258601|\n",
       "|United States  |         0.9064565|\n",
       "|Japan          |         0.8049780|"
      ]
     },
     "metadata": {},
     "output_type": "display_data"
    }
   ],
   "source": [
    "# Create a table with names and values\n",
    "table <- data.frame(\n",
    "\tEigenVector_Value = c(eigen_centrality[order(eigen_centrality, decreasing = TRUE)[1:5]])\n",
    ")\n",
    "\n",
    "#print.data.frame(table, right = 0, row.names = FALSE)\n",
    "knitr::kable(table)"
   ]
  },
  {
   "cell_type": "markdown",
   "metadata": {},
   "source": [
    "Conclusioni:\n",
    "- Che abbiamo finito le Statistiche Nodali, yuppiii"
   ]
  },
  {
   "cell_type": "markdown",
   "metadata": {},
   "source": [
    "### Models\n",
    "Adesso andiamo ad analizzare i Modelli da noi studiati durante il corso e cercheremo di creare il modello migliore per il nostro caso\n",
    "#### Simple Random Graph Model (SRG)"
   ]
  },
  {
   "cell_type": "code",
   "execution_count": 39,
   "metadata": {
    "vscode": {
     "languageId": "r"
    }
   },
   "outputs": [
    {
     "data": {
      "text/plain": [
       "Call:\n",
       "ergm(formula = net ~ edges, control = control.ergm(seed = 1, \n",
       "    checkpoint = \"mod0_step_%03d.RData\"))\n",
       "\n",
       "Maximum Likelihood Results:\n",
       "\n",
       "      Estimate Std. Error MCMC % z value Pr(>|z|)    \n",
       "edges -1.67385    0.03449      0  -48.52   <1e-04 ***\n",
       "---\n",
       "Signif. codes:  0 '***' 0.001 '**' 0.01 '*' 0.05 '.' 0.1 ' ' 1\n",
       "\n",
       "     Null Deviance: 8761  on 6320  degrees of freedom\n",
       " Residual Deviance: 5513  on 6319  degrees of freedom\n",
       " \n",
       "AIC: 5515  BIC: 5522  (Smaller is better. MC Std. Err. = 0)"
      ]
     },
     "metadata": {},
     "output_type": "display_data"
    }
   ],
   "source": [
    "summary(model_SRG)"
   ]
  },
  {
   "cell_type": "markdown",
   "metadata": {},
   "source": [
    "#### Non-Homogeneus Simple Random Graph Model (NH-SRG)"
   ]
  },
  {
   "cell_type": "code",
   "execution_count": 40,
   "metadata": {
    "vscode": {
     "languageId": "r"
    }
   },
   "outputs": [
    {
     "data": {
      "text/plain": [
       "Call:\n",
       "ergm(formula = net ~ edges + receiver + sender, control = control.ergm(seed = 1))\n",
       "\n",
       "Maximum Likelihood Results:\n",
       "\n",
       "             Estimate Std. Error MCMC % z value Pr(>|z|)    \n",
       "edges      -1.638e+01  2.631e+02      0  -0.062  0.95034    \n",
       "receiver2  -1.651e-01  5.952e-01      0  -0.277  0.78147    \n",
       "receiver3   6.666e-01  5.658e-01      0   1.178  0.23875    \n",
       "receiver4  -9.456e-02  5.974e-01      0  -0.158  0.87422    \n",
       "receiver5  -5.561e-01  6.131e-01      0  -0.907  0.36446    \n",
       "receiver6  -9.956e-01  6.383e-01      0  -1.560  0.11881    \n",
       "receiver7  -6.426e-02  5.955e-01      0  -0.108  0.91406    \n",
       "receiver8  -5.595e-01  6.128e-01      0  -0.913  0.36123    \n",
       "receiver9  -3.604e-01  6.030e-01      0  -0.598  0.55004    \n",
       "receiver10 -1.283e-01  5.974e-01      0  -0.215  0.82993    \n",
       "receiver11 -9.715e-01  6.408e-01      0  -1.516  0.12951    \n",
       "receiver12  4.996e-01  5.697e-01      0   0.877  0.38054    \n",
       "receiver13 -1.102e+00  6.573e-01      0  -1.676  0.09365 .  \n",
       "receiver14  2.559e-02  5.886e-01      0   0.043  0.96532    \n",
       "receiver15 -1.741e-01  5.943e-01      0  -0.293  0.76950    \n",
       "receiver16 -1.763e-01  5.941e-01      0  -0.297  0.76659    \n",
       "receiver17 -7.571e-01  6.258e-01      0  -1.210  0.22635    \n",
       "receiver18  2.129e-01  5.827e-01      0   0.365  0.71488    \n",
       "receiver19  5.000e-03  5.869e-01      0   0.009  0.99320    \n",
       "receiver20  1.735e-01  5.802e-01      0   0.299  0.76487    \n",
       "receiver21 -1.674e-01  5.950e-01      0  -0.281  0.77843    \n",
       "receiver22 -3.623e-01  6.028e-01      0  -0.601  0.54776    \n",
       "receiver23  1.877e-01  5.814e-01      0   0.323  0.74685    \n",
       "receiver24 -6.309e-01  6.249e-01      0  -1.009  0.31274    \n",
       "receiver25 -2.547e+00  7.831e-01      0  -3.253  0.00114 ** \n",
       "receiver26  7.718e-01  5.591e-01      0   1.380  0.16745    \n",
       "receiver27 -1.674e-01  5.950e-01      0  -0.281  0.77843    \n",
       "receiver28 -2.149e+00  7.361e-01      0  -2.920  0.00350 ** \n",
       "receiver29 -1.674e-01  5.950e-01      0  -0.281  0.77843    \n",
       "receiver30  5.000e-03  5.869e-01      0   0.009  0.99320    \n",
       "receiver31 -1.193e+00  6.594e-01      0  -1.808  0.07055 .  \n",
       "receiver32  1.820e-01  5.810e-01      0   0.313  0.75405    \n",
       "receiver33 -5.595e-01  6.128e-01      0  -0.913  0.36123    \n",
       "receiver34  5.199e-02  5.897e-01      0   0.088  0.92975    \n",
       "receiver35  1.007e-02  5.874e-01      0   0.017  0.98633    \n",
       "receiver36 -7.682e-01  6.246e-01      0  -1.230  0.21872    \n",
       "receiver37  1.735e-01  5.802e-01      0   0.299  0.76487    \n",
       "receiver38 -9.502e-03  5.882e-01      0  -0.016  0.98711    \n",
       "receiver39  1.373e-01  5.846e-01      0   0.235  0.81426    \n",
       "receiver40  4.822e-01  5.682e-01      0   0.849  0.39606    \n",
       "receiver41 -7.154e-01  6.286e-01      0  -1.138  0.25510    \n",
       "receiver42 -7.697e-01  6.244e-01      0  -1.233  0.21772    \n",
       "receiver43 -7.697e-01  6.244e-01      0  -1.233  0.21772    \n",
       "receiver44  4.490e-15  5.864e-01      0   0.000  1.00000    \n",
       "receiver45  1.933e-01  5.818e-01      0   0.332  0.73966    \n",
       "receiver46 -2.149e+00  7.361e-01      0  -2.920  0.00350 ** \n",
       "receiver47  1.679e-01  5.797e-01      0   0.290  0.77206    \n",
       "receiver48 -1.497e+00  6.772e-01      0  -2.210  0.02709 *  \n",
       "receiver49  1.679e-01  5.797e-01      0   0.290  0.77206    \n",
       "receiver50  1.113e-01  5.875e-01      0   0.189  0.84978    \n",
       "receiver51  3.347e-01  5.742e-01      0   0.583  0.56000    \n",
       "receiver52 -3.623e-01  6.028e-01      0  -0.601  0.54776    \n",
       "receiver53 -1.651e-01  5.952e-01      0  -0.277  0.78147    \n",
       "receiver54 -9.956e-01  6.383e-01      0  -1.560  0.11881    \n",
       "receiver55 -7.697e-01  6.244e-01      0  -1.233  0.21772    \n",
       "receiver56 -5.507e-01  6.137e-01      0  -0.897  0.36952    \n",
       "receiver57 -7.697e-01  6.244e-01      0  -1.233  0.21772    \n",
       "receiver58  1.764e-01  5.805e-01      0   0.304  0.76126    \n",
       "receiver59  8.000e-15  5.864e-01      0   0.000  1.00000    \n",
       "receiver60  1.820e-01  5.810e-01      0   0.313  0.75405    \n",
       "receiver61 -5.525e-01  6.135e-01      0  -0.901  0.36780    \n",
       "receiver62 -2.149e+00  7.362e-01      0  -2.919  0.00351 ** \n",
       "receiver63 -1.809e+00  7.018e-01      0  -2.578  0.00995 ** \n",
       "receiver64  3.347e-01  5.742e-01      0   0.583  0.56000    \n",
       "receiver65 -5.595e-01  6.128e-01      0  -0.913  0.36123    \n",
       "receiver66  3.796e-01  5.766e-01      0   0.658  0.51038    \n",
       "receiver67 -7.621e-01  6.253e-01      0  -1.219  0.22294    \n",
       "receiver68  6.493e-01  5.649e-01      0   1.149  0.25045    \n",
       "receiver69  9.035e-02  5.891e-01      0   0.153  0.87809    \n",
       "receiver70  4.822e-01  5.682e-01      0   0.849  0.39606    \n",
       "receiver71  4.337e-01  5.746e-01      0   0.755  0.45034    \n",
       "receiver72 -6.969e-01  6.289e-01      0  -1.108  0.26781    \n",
       "receiver73 -7.571e-01  6.258e-01      0  -1.210  0.22635    \n",
       "receiver74 -5.561e-01  6.131e-01      0  -0.907  0.36446    \n",
       "receiver75  5.000e-03  5.869e-01      0   0.009  0.99320    \n",
       "receiver76  1.262e-02  5.877e-01      0   0.021  0.98286    \n",
       "receiver77  4.682e-01  5.705e-01      0   0.821  0.41183    \n",
       "receiver78  1.602e-01  5.810e-01      0   0.276  0.78275    \n",
       "receiver79 -5.595e-01  6.128e-01      0  -0.913  0.36123    \n",
       "receiver80  1.990e-01  5.821e-01      0   0.342  0.73252    \n",
       "sender2     1.383e+01  2.631e+02      0   0.053  0.95806    \n",
       "sender3     1.463e+01  2.631e+02      0   0.056  0.95565    \n",
       "sender4     1.631e+01  2.631e+02      0   0.062  0.95057    \n",
       "sender5     1.286e+01  2.631e+02      0   0.049  0.96100    \n",
       "sender6          -Inf  0.000e+00      0    -Inf  < 1e-04 ***\n",
       "sender7     1.698e+01  2.631e+02      0   0.065  0.94854    \n",
       "sender8          -Inf  0.000e+00      0    -Inf  < 1e-04 ***\n",
       "sender9     1.216e+01  2.631e+02      0   0.046  0.96314    \n",
       "sender10    1.550e+01  2.631e+02      0   0.059  0.95301    \n",
       "sender11    1.519e+01  2.631e+02      0   0.058  0.95395    \n",
       "sender12    1.385e+01  2.631e+02      0   0.053  0.95802    \n",
       "sender13    1.771e+01  2.631e+02      0   0.067  0.94634    \n",
       "sender14    1.462e+01  2.631e+02      0   0.056  0.95569    \n",
       "sender15    1.216e+01  2.631e+02      0   0.046  0.96314    \n",
       "sender16         -Inf  0.000e+00      0    -Inf  < 1e-04 ***\n",
       "sender17    1.435e+01  2.631e+02      0   0.055  0.95650    \n",
       "sender18    1.520e+01  2.631e+02      0   0.058  0.95391    \n",
       "sender19    1.287e+01  2.631e+02      0   0.049  0.96098    \n",
       "sender20    1.287e+01  2.631e+02      0   0.049  0.96097    \n",
       "sender21    1.359e+01  2.631e+02      0   0.052  0.95879    \n",
       "sender22         -Inf  0.000e+00      0    -Inf  < 1e-04 ***\n",
       "sender23    1.421e+01  2.631e+02      0   0.054  0.95692    \n",
       "sender24    1.765e+01  2.631e+02      0   0.067  0.94652    \n",
       "sender25         -Inf  0.000e+00      0    -Inf  < 1e-04 ***\n",
       "sender26    2.062e+01  2.631e+02      0   0.078  0.93752    \n",
       "sender27    1.359e+01  2.631e+02      0   0.052  0.95879    \n",
       "sender28         -Inf  0.000e+00      0    -Inf  < 1e-04 ***\n",
       "sender29    1.359e+01  2.631e+02      0   0.052  0.95879    \n",
       "sender30    1.287e+01  2.631e+02      0   0.049  0.96098    \n",
       "sender31    1.612e+01  2.631e+02      0   0.061  0.95113    \n",
       "sender32    1.384e+01  2.631e+02      0   0.053  0.95804    \n",
       "sender33         -Inf  0.000e+00      0    -Inf  < 1e-04 ***\n",
       "sender34    1.551e+01  2.631e+02      0   0.059  0.95300    \n",
       "sender35    1.360e+01  2.631e+02      0   0.052  0.95878    \n",
       "sender36    1.215e+01  2.631e+02      0   0.046  0.96315    \n",
       "sender37    1.287e+01  2.631e+02      0   0.049  0.96097    \n",
       "sender38    1.923e+01  2.631e+02      0   0.073  0.94172    \n",
       "sender39    1.772e+01  2.631e+02      0   0.067  0.94628    \n",
       "sender40         -Inf  0.000e+00      0    -Inf  < 1e-04 ***\n",
       "sender41    1.601e+01  2.631e+02      0   0.061  0.95147    \n",
       "sender42         -Inf  0.000e+00      0    -Inf  < 1e-04 ***\n",
       "sender43         -Inf  0.000e+00      0    -Inf  < 1e-04 ***\n",
       "sender44         -Inf  0.000e+00      0    -Inf  < 1e-04 ***\n",
       "sender45    1.450e+01  2.631e+02      0   0.055  0.95605    \n",
       "sender46         -Inf  0.000e+00      0    -Inf  < 1e-04 ***\n",
       "sender47         -Inf  0.000e+00      0    -Inf  < 1e-04 ***\n",
       "sender48    1.482e+01  2.631e+02      0   0.056  0.95506    \n",
       "sender49         -Inf  0.000e+00      0    -Inf  < 1e-04 ***\n",
       "sender50    1.692e+01  2.631e+02      0   0.064  0.94870    \n",
       "sender51    1.288e+01  2.631e+02      0   0.049  0.96096    \n",
       "sender52         -Inf  0.000e+00      0    -Inf  < 1e-04 ***\n",
       "sender53    1.383e+01  2.631e+02      0   0.053  0.95806    \n",
       "sender54         -Inf  0.000e+00      0    -Inf  < 1e-04 ***\n",
       "sender55         -Inf  0.000e+00      0    -Inf  < 1e-04 ***\n",
       "sender56    1.383e+01  2.631e+02      0   0.053  0.95807    \n",
       "sender57         -Inf  0.000e+00      0    -Inf  < 1e-04 ***\n",
       "sender58    1.330e+01  2.631e+02      0   0.051  0.95969    \n",
       "sender59         -Inf  0.000e+00      0    -Inf  < 1e-04 ***\n",
       "sender60    1.384e+01  2.631e+02      0   0.053  0.95804    \n",
       "sender61    1.359e+01  2.631e+02      0   0.052  0.95880    \n",
       "sender62    1.215e+01  2.631e+02      0   0.046  0.96317    \n",
       "sender63         -Inf  0.000e+00      0    -Inf  < 1e-04 ***\n",
       "sender64    1.288e+01  2.631e+02      0   0.049  0.96096    \n",
       "sender65         -Inf  0.000e+00      0    -Inf  < 1e-04 ***\n",
       "sender66    1.529e+01  2.631e+02      0   0.058  0.95366    \n",
       "sender67    1.383e+01  2.631e+02      0   0.053  0.95808    \n",
       "sender68    1.385e+01  2.631e+02      0   0.053  0.95801    \n",
       "sender69    1.642e+01  2.631e+02      0   0.062  0.95022    \n",
       "sender70         -Inf  0.000e+00      0    -Inf  < 1e-04 ***\n",
       "sender71    1.670e+01  2.631e+02      0   0.063  0.94937    \n",
       "sender72    1.641e+01  2.631e+02      0   0.062  0.95026    \n",
       "sender73    1.435e+01  2.631e+02      0   0.055  0.95650    \n",
       "sender74    1.286e+01  2.631e+02      0   0.049  0.96100    \n",
       "sender75    1.287e+01  2.631e+02      0   0.049  0.96098    \n",
       "sender76    1.384e+01  2.631e+02      0   0.053  0.95805    \n",
       "sender77    1.819e+01  2.631e+02      0   0.069  0.94487    \n",
       "sender78    1.923e+01  2.631e+02      0   0.073  0.94171    \n",
       "sender79         -Inf  0.000e+00      0    -Inf  < 1e-04 ***\n",
       "sender80    1.473e+01  2.631e+02      0   0.056  0.95533    \n",
       "---\n",
       "Signif. codes:  0 '***' 0.001 '**' 0.01 '*' 0.05 '.' 0.1 ' ' 1\n",
       "\n",
       "     Null Deviance: 6242  on 4503  degrees of freedom\n",
       " Residual Deviance: 2783  on 4344  degrees of freedom\n",
       " \n",
       "AIC: 3055  BIC: 3927  (Smaller is better. MC Std. Err. = 0)\n",
       "\n",
       " Warning: The following terms have infinite coefficient estimates:\n",
       "  sender6 sender8 sender16 sender22 sender25 sender28 sender33 sender40 sender42 sender43 sender44 sender46 sender47 sender49 sender52 sender54 sender55 sender57 sender59 sender63 sender65 sender70 sender79 "
      ]
     },
     "metadata": {},
     "output_type": "display_data"
    }
   ],
   "source": [
    "summary(model_NHSRG)"
   ]
  },
  {
   "cell_type": "markdown",
   "metadata": {},
   "source": [
    "Da come possiamo notare alcuni Sender Effect hanno valore Infinito, dunque siamo costretti a togliere dal modello il Sender Effect."
   ]
  },
  {
   "cell_type": "code",
   "execution_count": 41,
   "metadata": {
    "vscode": {
     "languageId": "r"
    }
   },
   "outputs": [
    {
     "data": {
      "text/plain": [
       "Call:\n",
       "ergm(formula = net ~ edges + receiver, control = control.ergm(seed = 1, \n",
       "    checkpoint = \"mod1_receiver_step_%03d.RData\"))\n",
       "\n",
       "Maximum Likelihood Results:\n",
       "\n",
       "             Estimate Std. Error MCMC % z value Pr(>|z|)    \n",
       "edges      -1.535e+00  2.946e-01      0  -5.211   <1e-04 ***\n",
       "receiver2  -8.938e-02  4.230e-01      0  -0.211   0.8326    \n",
       "receiver3   3.148e-01  3.984e-01      0   0.790   0.4295    \n",
       "receiver4  -8.938e-02  4.230e-01      0  -0.211   0.8326    \n",
       "receiver5  -2.863e-01  4.387e-01      0  -0.653   0.5140    \n",
       "receiver6  -5.159e-01  4.607e-01      0  -1.120   0.2627    \n",
       "receiver7  -8.938e-02  4.230e-01      0  -0.211   0.8326    \n",
       "receiver8  -2.863e-01  4.387e-01      0  -0.653   0.5140    \n",
       "receiver9  -1.845e-01  4.302e-01      0  -0.429   0.6681    \n",
       "receiver10 -8.938e-02  4.230e-01      0  -0.211   0.8326    \n",
       "receiver11 -5.159e-01  4.607e-01      0  -1.120   0.2627    \n",
       "receiver12  2.414e-01  4.022e-01      0   0.600   0.5484    \n",
       "receiver13 -6.479e-01  4.753e-01      0  -1.363   0.1728    \n",
       "receiver14 -3.282e-14  4.167e-01      0   0.000   1.0000    \n",
       "receiver15 -8.938e-02  4.230e-01      0  -0.211   0.8326    \n",
       "receiver16 -8.938e-02  4.230e-01      0  -0.211   0.8326    \n",
       "receiver17 -3.962e-01  4.487e-01      0  -0.883   0.3772    \n",
       "receiver18  8.450e-02  4.112e-01      0   0.205   0.8372    \n",
       "receiver19 -3.216e-14  4.167e-01      0   0.000   1.0000    \n",
       "receiver20  8.450e-02  4.112e-01      0   0.205   0.8372    \n",
       "receiver21 -8.938e-02  4.230e-01      0  -0.211   0.8326    \n",
       "receiver22 -1.845e-01  4.302e-01      0  -0.429   0.6681    \n",
       "receiver23  8.450e-02  4.112e-01      0   0.205   0.8372    \n",
       "receiver24 -3.962e-01  4.487e-01      0  -0.883   0.3772    \n",
       "receiver25 -1.396e+00  5.917e-01      0  -2.359   0.0183 *  \n",
       "receiver26  3.148e-01  3.984e-01      0   0.790   0.4295    \n",
       "receiver27 -8.938e-02  4.230e-01      0  -0.211   0.8326    \n",
       "receiver28 -1.159e+00  5.480e-01      0  -2.116   0.0344 *  \n",
       "receiver29 -8.938e-02  4.230e-01      0  -0.211   0.8326    \n",
       "receiver30 -3.110e-14  4.167e-01      0   0.000   1.0000    \n",
       "receiver31 -6.479e-01  4.753e-01      0  -1.363   0.1728    \n",
       "receiver32  8.450e-02  4.112e-01      0   0.205   0.8372    \n",
       "receiver33 -2.863e-01  4.387e-01      0  -0.653   0.5140    \n",
       "receiver34 -3.134e-14  4.167e-01      0   0.000   1.0000    \n",
       "receiver35 -2.971e-14  4.167e-01      0   0.000   1.0000    \n",
       "receiver36 -3.962e-01  4.487e-01      0  -0.883   0.3772    \n",
       "receiver37  8.450e-02  4.112e-01      0   0.205   0.8372    \n",
       "receiver38 -8.938e-02  4.230e-01      0  -0.211   0.8326    \n",
       "receiver39 -3.128e-14  4.167e-01      0   0.000   1.0000    \n",
       "receiver40  2.414e-01  4.022e-01      0   0.600   0.5484    \n",
       "receiver41 -3.962e-01  4.487e-01      0  -0.883   0.3772    \n",
       "receiver42 -3.962e-01  4.487e-01      0  -0.883   0.3772    \n",
       "receiver43 -3.962e-01  4.487e-01      0  -0.883   0.3772    \n",
       "receiver44 -3.090e-14  4.167e-01      0   0.000   1.0000    \n",
       "receiver45  8.450e-02  4.112e-01      0   0.205   0.8372    \n",
       "receiver46 -1.159e+00  5.480e-01      0  -2.116   0.0344 *  \n",
       "receiver47  8.450e-02  4.112e-01      0   0.205   0.8372    \n",
       "receiver48 -7.954e-01  4.935e-01      0  -1.612   0.1070    \n",
       "receiver49  8.450e-02  4.112e-01      0   0.205   0.8372    \n",
       "receiver50 -2.855e-14  4.167e-01      0   0.000   1.0000    \n",
       "receiver51  1.648e-01  4.064e-01      0   0.405   0.6852    \n",
       "receiver52 -1.845e-01  4.302e-01      0  -0.429   0.6681    \n",
       "receiver53 -8.938e-02  4.230e-01      0  -0.211   0.8326    \n",
       "receiver54 -5.159e-01  4.607e-01      0  -1.120   0.2627    \n",
       "receiver55 -3.962e-01  4.487e-01      0  -0.883   0.3772    \n",
       "receiver56 -2.863e-01  4.387e-01      0  -0.653   0.5140    \n",
       "receiver57 -3.962e-01  4.487e-01      0  -0.883   0.3772    \n",
       "receiver58  8.450e-02  4.112e-01      0   0.205   0.8372    \n",
       "receiver59 -3.236e-14  4.167e-01      0   0.000   1.0000    \n",
       "receiver60  8.450e-02  4.112e-01      0   0.205   0.8372    \n",
       "receiver61 -2.863e-01  4.387e-01      0  -0.653   0.5140    \n",
       "receiver62 -1.159e+00  5.480e-01      0  -2.116   0.0344 *  \n",
       "receiver63 -9.634e-01  5.169e-01      0  -1.864   0.0623 .  \n",
       "receiver64  1.648e-01  4.064e-01      0   0.405   0.6852    \n",
       "receiver65 -2.863e-01  4.387e-01      0  -0.653   0.5140    \n",
       "receiver66  1.648e-01  4.064e-01      0   0.405   0.6852    \n",
       "receiver67 -3.962e-01  4.487e-01      0  -0.883   0.3772    \n",
       "receiver68  3.148e-01  3.984e-01      0   0.790   0.4295    \n",
       "receiver69 -3.097e-14  4.167e-01      0   0.000   1.0000    \n",
       "receiver70  2.414e-01  4.022e-01      0   0.600   0.5484    \n",
       "receiver71  1.648e-01  4.064e-01      0   0.405   0.6852    \n",
       "receiver72 -3.962e-01  4.487e-01      0  -0.883   0.3772    \n",
       "receiver73 -3.962e-01  4.487e-01      0  -0.883   0.3772    \n",
       "receiver74 -2.863e-01  4.387e-01      0  -0.653   0.5140    \n",
       "receiver75 -3.476e-14  4.167e-01      0   0.000   1.0000    \n",
       "receiver76 -3.066e-14  4.167e-01      0   0.000   1.0000    \n",
       "receiver77  1.648e-01  4.064e-01      0   0.405   0.6852    \n",
       "receiver78 -3.344e-14  4.167e-01      0   0.000   1.0000    \n",
       "receiver79 -2.863e-01  4.387e-01      0  -0.653   0.5140    \n",
       "receiver80  8.450e-02  4.112e-01      0   0.205   0.8372    \n",
       "---\n",
       "Signif. codes:  0 '***' 0.001 '**' 0.01 '*' 0.05 '.' 0.1 ' ' 1\n",
       "\n",
       "     Null Deviance: 8761  on 6320  degrees of freedom\n",
       " Residual Deviance: 5432  on 6240  degrees of freedom\n",
       " \n",
       "AIC: 5592  BIC: 6132  (Smaller is better. MC Std. Err. = 0)"
      ]
     },
     "metadata": {},
     "output_type": "display_data"
    }
   ],
   "source": [
    "summary(model_NHSRG_onlyReceiver)"
   ]
  },
  {
   "cell_type": "markdown",
   "metadata": {},
   "source": [
    "Da come si può notare i Receiver Effect hanno un livelli di significatività molto basso, quindi possiamo tranquillamente rimuovere anche il Receiver Effect"
   ]
  },
  {
   "cell_type": "markdown",
   "metadata": {},
   "source": [
    "#### P1 Model"
   ]
  },
  {
   "cell_type": "code",
   "execution_count": 42,
   "metadata": {
    "vscode": {
     "languageId": "r"
    }
   },
   "outputs": [
    {
     "data": {
      "text/plain": [
       "Call:\n",
       "ergm(formula = net ~ edges + mutual, control = control.ergm(seed = 1))\n",
       "\n",
       "Monte Carlo Maximum Likelihood Results:\n",
       "\n",
       "       Estimate Std. Error MCMC % z value Pr(>|z|)    \n",
       "edges  -1.80765    0.04673      0 -38.684   <1e-04 ***\n",
       "mutual  0.69042    0.12252      0   5.635   <1e-04 ***\n",
       "---\n",
       "Signif. codes:  0 '***' 0.001 '**' 0.01 '*' 0.05 '.' 0.1 ' ' 1\n",
       "\n",
       "     Null Deviance: 8761  on 6320  degrees of freedom\n",
       " Residual Deviance: 5481  on 6318  degrees of freedom\n",
       " \n",
       "AIC: 5485  BIC: 5499  (Smaller is better. MC Std. Err. = 1.073)"
      ]
     },
     "metadata": {},
     "output_type": "display_data"
    }
   ],
   "source": [
    "summary(model_P1_onlyMutual)"
   ]
  },
  {
   "cell_type": "markdown",
   "metadata": {},
   "source": [
    "#### Aggiungiamo gli Attributi dei Nodi ai Modelli"
   ]
  },
  {
   "cell_type": "code",
   "execution_count": 43,
   "metadata": {
    "vscode": {
     "languageId": "r"
    }
   },
   "outputs": [
    {
     "data": {
      "text/plain": [
       "Call:\n",
       "ergm(formula = net ~ edges + mutual + nodecov(\"gdp\") + nodefactor(\"continent\") + \n",
       "    nodefactor(\"partition\") + absdiff(\"gdp\") + nodematch(\"continent\") + \n",
       "    nodematch(\"partition\"), control = control.ergm(seed = 1))\n",
       "\n",
       "Monte Carlo Maximum Likelihood Results:\n",
       "\n",
       "                         Estimate Std. Error MCMC % z value Pr(>|z|)    \n",
       "edges                   3.074e+00  3.389e-01      0   9.069  < 1e-04 ***\n",
       "mutual                 -1.912e+00  1.795e-01      0 -10.655  < 1e-04 ***\n",
       "nodecov.gdp             1.251e-05  4.386e-06      0   2.852 0.004342 ** \n",
       "nodefactor.continent.2 -2.665e-02  1.265e-01      0  -0.211 0.833080    \n",
       "nodefactor.continent.3 -6.301e-01  1.314e-01      0  -4.795  < 1e-04 ***\n",
       "nodefactor.continent.4  9.280e-01  1.654e-01      0   5.609  < 1e-04 ***\n",
       "nodefactor.continent.5  7.066e-01  2.123e-01      0   3.328 0.000876 ***\n",
       "nodefactor.continent.6 -2.808e-02  1.304e-01      0  -0.215 0.829440    \n",
       "nodefactor.partition.2 -2.834e+00  1.500e-01      0 -18.890  < 1e-04 ***\n",
       "nodefactor.partition.3 -4.086e+00  1.946e-01      0 -20.993  < 1e-04 ***\n",
       "absdiff.gdp            -2.512e-05  5.522e-06      0  -4.550  < 1e-04 ***\n",
       "nodematch.continent     2.257e+00  1.266e-01      0  17.834  < 1e-04 ***\n",
       "nodematch.partition    -1.908e-01  1.333e-01      0  -1.431 0.152417    \n",
       "---\n",
       "Signif. codes:  0 '***' 0.001 '**' 0.01 '*' 0.05 '.' 0.1 ' ' 1\n",
       "\n",
       "     Null Deviance: 8761  on 6320  degrees of freedom\n",
       " Residual Deviance: 3845  on 6307  degrees of freedom\n",
       " \n",
       "AIC: 3871  BIC: 3959  (Smaller is better. MC Std. Err. = 1.166)"
      ]
     },
     "metadata": {},
     "output_type": "display_data"
    }
   ],
   "source": [
    "summary(model_P1_onlyMutual_NodeAttr)"
   ]
  },
  {
   "cell_type": "markdown",
   "metadata": {},
   "source": [
    "Dal summary possiamo notare che l'effetto di Omofilia dell'attributo Partition non risulta essere significativo, quindi procediamo a togliere tale effetto dal nostro modello"
   ]
  },
  {
   "cell_type": "code",
   "execution_count": 44,
   "metadata": {
    "vscode": {
     "languageId": "r"
    }
   },
   "outputs": [
    {
     "data": {
      "text/plain": [
       "Call:\n",
       "ergm(formula = net ~ edges + mutual + nodecov(\"gdp\") + nodefactor(\"continent\") + \n",
       "    nodefactor(\"partition\") + absdiff(\"gdp\") + nodematch(\"continent\"), \n",
       "    control = control.ergm(seed = 1))\n",
       "\n",
       "Monte Carlo Maximum Likelihood Results:\n",
       "\n",
       "                         Estimate Std. Error MCMC % z value Pr(>|z|)    \n",
       "edges                   3.116e+00  3.353e-01      0   9.294  < 1e-04 ***\n",
       "mutual                 -1.902e+00  1.809e-01      0 -10.515  < 1e-04 ***\n",
       "nodecov.gdp             1.184e-05  4.379e-06      0   2.703  0.00687 ** \n",
       "nodefactor.continent.2 -3.527e-02  1.278e-01      0  -0.276  0.78259    \n",
       "nodefactor.continent.3 -6.300e-01  1.337e-01      0  -4.713  < 1e-04 ***\n",
       "nodefactor.continent.4  9.170e-01  1.590e-01      0   5.769  < 1e-04 ***\n",
       "nodefactor.continent.5  6.947e-01  2.180e-01      0   3.187  0.00144 ** \n",
       "nodefactor.continent.6 -2.337e-02  1.359e-01      0  -0.172  0.86351    \n",
       "nodefactor.partition.2 -2.928e+00  1.355e-01      0 -21.615  < 1e-04 ***\n",
       "nodefactor.partition.3 -4.109e+00  1.943e-01      0 -21.148  < 1e-04 ***\n",
       "absdiff.gdp            -2.313e-05  5.542e-06      0  -4.173  < 1e-04 ***\n",
       "nodematch.continent     2.238e+00  1.214e-01      0  18.444  < 1e-04 ***\n",
       "---\n",
       "Signif. codes:  0 '***' 0.001 '**' 0.01 '*' 0.05 '.' 0.1 ' ' 1\n",
       "\n",
       "     Null Deviance: 8761  on 6320  degrees of freedom\n",
       " Residual Deviance: 3846  on 6308  degrees of freedom\n",
       " \n",
       "AIC: 3870  BIC: 3951  (Smaller is better. MC Std. Err. = 1.15)"
      ]
     },
     "metadata": {},
     "output_type": "display_data"
    }
   ],
   "source": [
    "summary(model_P1_onlyMutual_NodeAttr_noPartitionHomophily)"
   ]
  },
  {
   "cell_type": "markdown",
   "metadata": {
    "vscode": {
     "languageId": "r"
    }
   },
   "source": [
    "Verifichiamo qual'è il modello P1 più performante tra i nostri modelli"
   ]
  },
  {
   "cell_type": "code",
   "execution_count": 48,
   "metadata": {
    "vscode": {
     "languageId": "r"
    }
   },
   "outputs": [
    {
     "data": {
      "text/html": [
       "<table class=\"dataframe\">\n",
       "<caption>A data.frame: 3 × 2</caption>\n",
       "<thead>\n",
       "\t<tr><th></th><th scope=col>df</th><th scope=col>AIC</th></tr>\n",
       "\t<tr><th></th><th scope=col>&lt;dbl&gt;</th><th scope=col>&lt;dbl&gt;</th></tr>\n",
       "</thead>\n",
       "<tbody>\n",
       "\t<tr><th scope=row>model_P1_onlyMutual</th><td> 2</td><td>5485.363</td></tr>\n",
       "\t<tr><th scope=row>model_P1_onlyMutual_NodeAttr</th><td>13</td><td>3870.819</td></tr>\n",
       "\t<tr><th scope=row>model_P1_onlyMutual_NodeAttr_noPartitionHomophily</th><td>12</td><td>3869.681</td></tr>\n",
       "</tbody>\n",
       "</table>\n"
      ],
      "text/latex": [
       "A data.frame: 3 × 2\n",
       "\\begin{tabular}{r|ll}\n",
       "  & df & AIC\\\\\n",
       "  & <dbl> & <dbl>\\\\\n",
       "\\hline\n",
       "\tmodel\\_P1\\_onlyMutual &  2 & 5485.363\\\\\n",
       "\tmodel\\_P1\\_onlyMutual\\_NodeAttr & 13 & 3870.819\\\\\n",
       "\tmodel\\_P1\\_onlyMutual\\_NodeAttr\\_noPartitionHomophily & 12 & 3869.681\\\\\n",
       "\\end{tabular}\n"
      ],
      "text/markdown": [
       "\n",
       "A data.frame: 3 × 2\n",
       "\n",
       "| <!--/--> | df &lt;dbl&gt; | AIC &lt;dbl&gt; |\n",
       "|---|---|---|\n",
       "| model_P1_onlyMutual |  2 | 5485.363 |\n",
       "| model_P1_onlyMutual_NodeAttr | 13 | 3870.819 |\n",
       "| model_P1_onlyMutual_NodeAttr_noPartitionHomophily | 12 | 3869.681 |\n",
       "\n"
      ],
      "text/plain": [
       "                                                  df AIC     \n",
       "model_P1_onlyMutual                                2 5485.363\n",
       "model_P1_onlyMutual_NodeAttr                      13 3870.819\n",
       "model_P1_onlyMutual_NodeAttr_noPartitionHomophily 12 3869.681"
      ]
     },
     "metadata": {},
     "output_type": "display_data"
    },
    {
     "data": {
      "text/html": [
       "<table class=\"dataframe\">\n",
       "<caption>A data.frame: 3 × 2</caption>\n",
       "<thead>\n",
       "\t<tr><th></th><th scope=col>df</th><th scope=col>BIC</th></tr>\n",
       "\t<tr><th></th><th scope=col>&lt;dbl&gt;</th><th scope=col>&lt;dbl&gt;</th></tr>\n",
       "</thead>\n",
       "<tbody>\n",
       "\t<tr><th scope=row>model_P1_onlyMutual</th><td> 2</td><td>5498.866</td></tr>\n",
       "\t<tr><th scope=row>model_P1_onlyMutual_NodeAttr</th><td>13</td><td>3958.588</td></tr>\n",
       "\t<tr><th scope=row>model_P1_onlyMutual_NodeAttr_noPartitionHomophily</th><td>12</td><td>3950.699</td></tr>\n",
       "</tbody>\n",
       "</table>\n"
      ],
      "text/latex": [
       "A data.frame: 3 × 2\n",
       "\\begin{tabular}{r|ll}\n",
       "  & df & BIC\\\\\n",
       "  & <dbl> & <dbl>\\\\\n",
       "\\hline\n",
       "\tmodel\\_P1\\_onlyMutual &  2 & 5498.866\\\\\n",
       "\tmodel\\_P1\\_onlyMutual\\_NodeAttr & 13 & 3958.588\\\\\n",
       "\tmodel\\_P1\\_onlyMutual\\_NodeAttr\\_noPartitionHomophily & 12 & 3950.699\\\\\n",
       "\\end{tabular}\n"
      ],
      "text/markdown": [
       "\n",
       "A data.frame: 3 × 2\n",
       "\n",
       "| <!--/--> | df &lt;dbl&gt; | BIC &lt;dbl&gt; |\n",
       "|---|---|---|\n",
       "| model_P1_onlyMutual |  2 | 5498.866 |\n",
       "| model_P1_onlyMutual_NodeAttr | 13 | 3958.588 |\n",
       "| model_P1_onlyMutual_NodeAttr_noPartitionHomophily | 12 | 3950.699 |\n",
       "\n"
      ],
      "text/plain": [
       "                                                  df BIC     \n",
       "model_P1_onlyMutual                                2 5498.866\n",
       "model_P1_onlyMutual_NodeAttr                      13 3958.588\n",
       "model_P1_onlyMutual_NodeAttr_noPartitionHomophily 12 3950.699"
      ]
     },
     "metadata": {},
     "output_type": "display_data"
    }
   ],
   "source": [
    "AIC(model_P1_onlyMutual, model_P1_onlyMutual_NodeAttr, model_P1_onlyMutual_NodeAttr_noPartitionHomophily)\n",
    "BIC(model_P1_onlyMutual, model_P1_onlyMutual_NodeAttr, model_P1_onlyMutual_NodeAttr_noPartitionHomophily)"
   ]
  },
  {
   "cell_type": "markdown",
   "metadata": {},
   "source": [
    "\"model_P1_onlyMutual_NodeAttr\" e \"model_P1_onlyMutual_NodeAttr_noPartitionHomophily\" sono i due modelli migliori e differiscono tra di loro di veramente pochi punti, ragion per cui per decidere il miglior modello P1 confronteremo l'abilità di questi modelli nel simulare le statistiche di rete e le statistiche nodali."
   ]
  },
  {
   "cell_type": "code",
   "execution_count": null,
   "metadata": {
    "vscode": {
     "languageId": "r"
    }
   },
   "outputs": [],
   "source": [
    "extractInformationsFromGraph <- function(xx){\n",
    "\tig <- asIgraph(xx)\n",
    "\ttr <- transitivity(ig)\n",
    "\tideg <- sd(degree(ig, mode = \"in\"))\n",
    "\todeg <- sd(degree(ig, mode = \"out\"))\n",
    "\tdens <- edge_density(ig)\n",
    "\treturn(c(tr, ideg, odeg, dens))\n",
    "}\n",
    "\n",
    "sim1 <- simulate(model_P1_onlyMutual_NodeAttr, nsim = 100, verbose = TRUE, seed = 1)\n",
    "\n",
    "null.distr1 <- matrix(,100,4)\n",
    "for(b in 1:100){\n",
    "\tnull.distr1[b,] <- extractInformationsFromGraph(sim1[[b]])\n",
    "}\n",
    "\n",
    "sim2 <- simulate(model_P1_onlyMutual_NodeAttr_noPartitionHomophily, nsim = 100, verbose = TRUE, seed = 1)\n",
    "\n",
    "null.distr2 <- matrix(,100,4)\n",
    "for(b in 1:100){\n",
    "\tnull.distr2[b,] <- extractInformationsFromGraph(sim2[[b]])\n",
    "}"
   ]
  },
  {
   "cell_type": "code",
   "execution_count": 69,
   "metadata": {
    "vscode": {
     "languageId": "r"
    }
   },
   "outputs": [
    {
     "data": {
      "image/png": "[encoded data removed]",
      "text/plain": [
       "Plot with title \"Histogram of unlist(null.distr1[, 1])\""
      ]
     },
     "metadata": {
      "image/png": {
       "height": 420,
       "width": 420
      }
     },
     "output_type": "display_data"
    },
    {
     "data": {
      "image/png": "[encoded data removed]",
      "text/plain": [
       "Plot with title \"Histogram of unlist(null.distr1[, 2])\""
      ]
     },
     "metadata": {
      "image/png": {
       "height": 420,
       "width": 420
      }
     },
     "output_type": "display_data"
    },
    {
     "data": {
      "image/png": "[encoded data removed]",
      "text/plain": [
       "Plot with title \"Histogram of unlist(null.distr1[, 3])\""
      ]
     },
     "metadata": {
      "image/png": {
       "height": 420,
       "width": 420
      }
     },
     "output_type": "display_data"
    },
    {
     "data": {
      "image/png": "[encoded data removed]",
      "text/plain": [
       "Plot with title \"Histogram of unlist(null.distr1[, 4])\""
      ]
     },
     "metadata": {
      "image/png": {
       "height": 420,
       "width": 420
      }
     },
     "output_type": "display_data"
    }
   ],
   "source": [
    "hist(unlist(null.distr1[,1]), xlab = \"transitivity\", xlim=c(0.4, 0.5)); abline(v = transitivity(g), col = \"red\")\n",
    "hist(unlist(null.distr1[,2]), xlab = \"in-degree\", xlim = c(2,12)); abline(v = sd(degree(g, mode = \"in\")), col = \"red\")\n",
    "hist(unlist(null.distr1[,3]), xlab = \"out-degree\", xlim=c(5, 22)); abline(v = sd(degree(g, mode = \"out\")), col = \"red\")\n",
    "hist(unlist(null.distr1[,4]), xlab = \"density\"); abline(v = edge_density(g), col = \"red\")"
   ]
  }
 ],
 "metadata": {
  "kernelspec": {
   "display_name": "R",
   "language": "R",
   "name": "ir"
  },
  "language_info": {
   "codemirror_mode": "r",
   "file_extension": ".r",
   "mimetype": "text/x-r-source",
   "name": "R",
   "pygments_lexer": "r",
   "version": "4.3.3"
  }
 },
 "nbformat": 4,
 "nbformat_minor": 4
}
