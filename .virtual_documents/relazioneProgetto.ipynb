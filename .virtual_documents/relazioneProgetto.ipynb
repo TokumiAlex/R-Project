











# Rimozione dati dalla sessione di R in caso fossero presenti
rm(list = ls())

# Imposto la directory di Lavoro
setwd("C:\\Users\\Alexc\\Documents\\R files\\R-Project")
load("workspace.Rdata")


# Creo la funzione che gestira la creazione di immagini a partire da tabelle
createImageFromTable <- function(table, filename, width, height, res){
	png(filename, width = width, height = height, res = res)
    grid.table(table, rows = NULL)
    invisible(dev.off())
}

# Carico le librerie necessarie
library(igraph)
library(ergm)
library(intergraph)
library(sbm)
library(ggplot2)
library(grid)
library(gridExtra)


# Importazione della edge list 
edgeList <- read.table("edge_list.txt", sep = "", head = FALSE)

# Importazione degli attributi dei nodi
attr <- read.table("nodes_attr.txt", sep = "", head = TRUE)

# Creazione del grafo e assegnazione degli attributi ai nodi
g <- graph_from_edgelist(as.matrix(edgeList), directed = TRUE)
V(g)$continent <- attr$Continents
V(g)$gdp <- attr$GDP
V(g)$world_partition <- attr$World_Partitions
V(g)$xCoordinate <- attr$xCoordinates
V(g)$yCoordinate <- attr$yCoordinates
V(g)$name <- attr$Names

print(g)








# Creazione della matrice di adiacenza relativa al grafo g
Y <- as_adjacency_matrix(g)
diag(Y) <- NA

# Calcolo delle statistiche di rete
rho <- edge_density(g)
reciprocity <- reciprocity(g)
transitivity <- transitivity(g)
odd_rho <- rho / (1 - rho)
odd_transitivity <- transitivity / (1 - transitivity)
tau <- odd_transitivity / odd_rho
assortativity_continent <- assortativity(g, V(g)$continent, directed = TRUE)
assortativity_gdp <- assortativity(g, V(g)$gdp, directed = TRUE)
assortativity_worldpartition <- assortativity(g, V(g)$world_partition, directed = TRUE)

# Create a table with names and values
table <- data.frame(
	Name = c("Edge Density", "Reciprocity", "Transitivity", "Tau", "Assortativity (Continent)", "Assortativity (GDP)", "Assortativity (World Partition)"),
	Value = c(rho, reciprocity, transitivity, tau, assortativity_continent, assortativity_gdp, assortativity_worldpartition)
)

createImageFromTable(table, filename = "images/NetworkStatisticsTable.png", width = 1500, height = 1050, res = 440)

















in_degree <- degree(g, mode = "in")
out_degree <- degree(g, mode = "out")





# Istogramma dell'In Degree Centrality
hist(in_degree)


# Stampo il Summary dell'In Degree Centrality
summary(in_degree)


# Stampo le 5 Nazioni con In Degree più Alto
table <- data.frame(
	Nazioni = c(V(g)$name[order(in_degree, decreasing = TRUE)[1:10]]),
	In_Degree = c(in_degree[order(in_degree, decreasing = TRUE)[1:10]])
)

createImageFromTable(table, "images/InDegree_Top10Nations.png", 990, 1320, 420)





# Stampo la centralità della Rete rispetto all'In Degree
centr_degree(g, loops = FALSE, mode = "in")$centralization








# Istogramma dell'In Degree Centrality
hist(out_degree, breaks = 10)


# Stampo il Summary dell'In Degree Centrality
summary(out_degree)


# Create a table with names and values
table <- data.frame(
	Nazioni = c(V(g)$name[order(out_degree, decreasing = TRUE)[1:10]]),
	Out_Degree = c(out_degree[order(out_degree, decreasing = TRUE)[1:10]])
)

createImageFromTable(table, "images/OutDegree_Top10Nations.png", 1050, 1320, 420)





# Stampo la centralità della Rete rispetto all'In Degree
centr_degree(g, loops = FALSE, mode = "out")$centralization








closeness_in <- closeness(g, mode = "in")
closeness_out <- closeness(g, mode = "out")





#Istogramma dell'In-Closeness Centrality
hist(closeness_in)


summary(closeness_in)


# Create a table with names and values
table <- data.frame(
	Nazioni = c(V(g)$name[order(closeness_in, decreasing = TRUE)[1:10]]),
	In_Closeness = c(closeness_in[order(closeness_in, decreasing = TRUE)[1:10]])
)

createImageFromTable(table, "images/InCloseness_Top10Nations.png", 1000, 1320, 420)





centr_clo(g, mode = "in")$centralization








#Istogramma dell'Out-Closeness Centrality
hist(closeness_out, breaks = 20)


summary(closeness_out)


# Create a table with names and values
table <- data.frame(
	Nazioni = c(V(g)$name[order(closeness_out, decreasing = TRUE)[1:10]]),
	Out_Closeness = c(closeness_out[order(closeness_out, decreasing = TRUE)[1:10]])
)

createImageFromTable(table, "images/OutCloseness_Top10Nations.png", 1200, 1320, 420)





centr_clo(g, mode = "out")$centralization








betweenness <- betweenness(g, directed = TRUE)





# Istogramma della Betweenness Centrality
hist(betweenness)


summary(betweenness)


# Create a table with names and values
table <- data.frame(
	Nazioni = c(V(g)$name[order(betweenness, decreasing = TRUE)[1:10]]),
	Betweenness = c(betweenness[order(betweenness, decreasing = TRUE)[1:10]])
)

createImageFromTable(table, "images/Betweenness_Top10Nations.png", 1050, 1320, 420)





centr_betw(g, directed = TRUE)$centralization








eigen_centrality <- eigen_centrality(g)$vector





# Istrogramma dell'EigenVector Centrality
hist(eigen_centrality)


summary(eigen_centrality)


# Create a table with names and values
table <- data.frame(
	Nazioni = c(V(g)$name[order(eigen_centrality, decreasing = TRUE)[1:10]]),
	EigenVector_Value = c(eigen_centrality[order(eigen_centrality, decreasing = TRUE)[1:10]])
)

createImageFromTable(table, "images/EigenVectorCentrality_Top10Nations.png", 1300, 1320, 420)

















summary(model_SRG)





extractInformationsFromGraph <- function(xx){
	ig <- asIgraph(xx)
	tr <- transitivity(ig)
	ideg <- sd(degree(ig, mode = "in"))
	odeg <- sd(degree(ig, mode = "out"))
	dens <- edge_density(ig)
	return(c(tr, ideg, odeg, dens))
}

sim_SRG <- suppressMessages(simulate(model_SRG, nsim = 100, verbose = TRUE, seed = 1))

null.distr_SRG <- matrix(,100,4)
for(b in 1:100){
	null.distr_SRG[b,] <- extractInformationsFromGraph(sim_SRG[[b]])
}

par(mfrow = c(4,1))
hist(unlist(null.distr_SRG[,2]), xlab = "in-degree", xlim = c(2,5), main = "In Degree Distribution on SRG"); abline(v = sd(degree(g, mode = "in")), col = "red")
hist(unlist(null.distr_SRG[,3]), xlab = "out-degree", xlim=c(0, 22), main = "Out Degree Distribution on SRG"); abline(v = sd(degree(g, mode = "out")), col = "red")
hist(unlist(null.distr_SRG[,1]), xlab = "transitivity", xlim=c(0.2, 0.5), main = "Transitivity Distribution on SRG"); abline(v = transitivity(g), col = "red")
hist(unlist(null.distr_SRG[,4]), xlab = "density", main = "Density Distribution on SRG"); abline(v = edge_density(g), col = "red")














summary(model_NHSRG)





summary(model_NHSRG_onlyReceiver)











summary(model_P1_onlyMutual)








summary(model_P1_onlyMutual_NodeAttr)





summary(model_P1_onlyMutual_NodeAttr_noPartitionHomophily)





table <- data.frame(
    Modelli = c("model_SRG", "model_P1_onlyMutual", "model_P1_onlyMutual_NodeAttr", "model_P1_onlyMutual_NodeAttr_noPartitionHomophily"),
    AIC = AIC(model_SRG, model_P1_onlyMutual, model_P1_onlyMutual_NodeAttr, model_P1_onlyMutual_NodeAttr_noPartitionHomophily)
)
createImageFromTable(table, "images/SRG_and_P1_Models_AIC.png", 1350, 350, 230)

table <- data.frame(
    Modelli = c("model_SRG", "model_P1_onlyMutual", "model_P1_onlyMutual_NodeAttr", "model_P1_onlyMutual_NodeAttr_noPartitionHomophily"),
    BIC = BIC(model_SRG, model_P1_onlyMutual, model_P1_onlyMutual_NodeAttr, model_P1_onlyMutual_NodeAttr_noPartitionHomophily)
)
createImageFromTable(table, "images/SRG_and_P1_Models_BIC.png", 1350, 350, 230)








sim1 <- suppressMessages(simulate(model_P1_onlyMutual_NodeAttr, nsim = 100, verbose = TRUE, seed = 1))

null.distr1 <- matrix(,100,4)
for(b in 1:100){
	null.distr1[b,] <- extractInformationsFromGraph(sim1[[b]])
}

sim2 <- suppressMessages((simulate(model_P1_onlyMutual_NodeAttr_noPartitionHomophily, nsim = 100, verbose = TRUE, seed = 1)))

null.distr2 <- matrix(,100,4)
for(b in 1:100){
	null.distr2[b,] <- extractInformationsFromGraph(sim2[[b]])
}



png("images/model_P1_onlyMutual_NodeAttr_VS_model_P1_onlyMutual_NodeAttr_noPartitionHomophily__Part1.png", width = 1000, height = 1000, res = 150)
par(mfrow = c(4,1))
hist(unlist(null.distr1[,2]), xlab = "in-degree", xlim = c(2,12), main = "In Degree Distribution with Partition Homophily"); abline(v = sd(degree(g, mode = "in")), col = "red")
hist(unlist(null.distr2[,2]), xlab = "in-degree", xlim = c(2,12), main = "In Degree Distribution without Partition Homophily"); abline(v = sd(degree(g, mode = "in")), col = "red")
hist(unlist(null.distr1[,3]), xlab = "out-degree", xlim=c(5, 22), main = "Out Degree Distribution with Partition Homophily"); abline(v = sd(degree(g, mode = "out")), col = "red")
hist(unlist(null.distr2[,3]), xlab = "out-degree", xlim=c(5, 22), main = "Out Degree Distribution without Partition Homophily"); abline(v = sd(degree(g, mode = "out")), col = "red")
invisible(dev.off())

png("images/model_P1_onlyMutual_NodeAttr_VS_model_P1_onlyMutual_NodeAttr_noPartitionHomophily__Part2.png", width = 1000, height = 1000, res = 150)
par(mfrow = c(4,1))
hist(unlist(null.distr1[,1]), xlab = "transitivity", xlim=c(0.4, 0.5), main = "Transitivity Distribution with Partition Homophily"); abline(v = transitivity(g), col = "red")
hist(unlist(null.distr2[,1]), xlab = "transitivity", xlim=c(0.4, 0.5), main = "Transitivity Distribution without Partition Homophily"); abline(v = transitivity(g), col = "red")
hist(unlist(null.distr1[,4]), xlab = "density", main = "Density Distribution with Partition Homophily"); abline(v = edge_density(g), col = "red")
hist(unlist(null.distr2[,4]), xlab = "density", main = "Density Distribution without Partition Homophily"); abline(v = edge_density(g), col = "red")
invisible(dev.off())












summary(model_Markov_onlyIStar2)





summary(model_Markov_onlyIStar2_noPartitionHomophily)





summary(model_Markov_onlyAlternatingOutKStar)


summary(model_Markov_onlyAlternatingInKStar)





summary(model_Markov_onlyAlternatingOutKStar_noPartitionHomophily_noGDPMain)


summary(model_Markov_onlyAlternatingInKStar_noPartitionHomophily)


table <- data.frame(
	Modelli = c("model_Markov_onlyIStar2", "model_Markov_onlyIStar2_noPartitionHomophily", "model_Markov_onlyAlternatingOutKStar", "model_Markov_onlyAlternatingOutKStar_noPartitionHomophily_noGDPMain", "model_Markov_onlyAlternatingInKStar", "model_Markov_onlyAlternatingInKStar_noPartitionHomophily"),
	AIC = AIC(model_Markov_onlyIStar2, model_Markov_onlyIStar2_noPartitionHomophily, model_Markov_onlyAlternatingOutKStar, model_Markov_onlyAlternatingOutKStar_noPartitionHomophily_noGDPMain, model_Markov_onlyAlternatingInKStar, model_Markov_onlyAlternatingInKStar_noPartitionHomophily)
)
createImageFromTable(table, "images/markovModels_AIC.png", 1700, 470, 230)

table <- data.frame(
	Modelli = c("model_Markov_onlyIStar2", "model_Markov_onlyIStar2_noPartitionHomophily", "model_Markov_onlyAlternatingOutKStar", "model_Markov_onlyAlternatingOutKStar_noPartitionHomophily_noGDPMain", "model_Markov_onlyAlternatingInKStar", "model_Markov_onlyAlternatingInKStar_noPartitionHomophily"),
	BIC = BIC(model_Markov_onlyIStar2, model_Markov_onlyIStar2_noPartitionHomophily, model_Markov_onlyAlternatingOutKStar, model_Markov_onlyAlternatingOutKStar_noPartitionHomophily_noGDPMain, model_Markov_onlyAlternatingInKStar, model_Markov_onlyAlternatingInKStar_noPartitionHomophily)
)
createImageFromTable(table, "images/markovModels_BIC.png", 1700, 470, 230)








sim3 <- suppressMessages(simulate(model_Markov_onlyAlternatingOutKStar, nsim = 100, verbose = TRUE, seed = 1))

null.distr3 <- matrix(,100,4)
for(b in 1:100){
	null.distr3[b,] <- extractInformationsFromGraph(sim3[[b]])
}

sim4 <- suppressMessages((simulate(model_Markov_onlyAlternatingOutKStar_noPartitionHomophily_noGDPMain, nsim = 100, verbose = TRUE, seed = 1)))

null.distr4 <- matrix(,100,4)
for(b in 1:100){
	null.distr4[b,] <- extractInformationsFromGraph(sim4[[b]])
}


png("images/model_Markov_onlyAlternatingOutKStar_VS_model_Markov_onlyAlternatingOutKStar_noPartitionHomophily_noGDPMain__Part1.png", width = 1000, height = 1000, res = 150)
par(mfrow = c(4,1))
hist(unlist(null.distr3[,2]), xlab = "in-degree", xlim = c(2,10), main = "In Degree Distribution with GDP Main and Partition Homophily"); abline(v = sd(degree(g, mode = "in")), col = "red")
hist(unlist(null.distr4[,2]), xlab = "in-degree", xlim = c(2,10), main = "In Degree Distribution without GDP Main and Partition Homophily"); abline(v = sd(degree(g, mode = "in")), col = "red")
hist(unlist(null.distr3[,3]), xlab = "out-degree", xlim = c(12, 20), main = "Out Degree Distribution with GDP Main and Partition Homophily"); abline(v = sd(degree(g, mode = "out")), col = "red")
hist(unlist(null.distr4[,3]), xlab = "out-degree", xlim = c(12, 20), main = "Out Degree Distribution without GDP Main and Partition Homophily"); abline(v = sd(degree(g, mode = "out")), col = "red")
invisible(dev.off())

png("images/model_Markov_onlyAlternatingOutKStar_VS_model_Markov_onlyAlternatingOutKStar_noPartitionHomophily_noGDPMain__Part2.png", width = 1000, height = 1000, res = 150)
par(mfrow = c(4,1))
hist(unlist(null.distr3[,1]), xlab = "transitivity", xlim = c(0.40, 0.48), main = "Transitivity Distribution with GDP Main and Partition Homophily"); abline(v = transitivity(g), col = "red")
hist(unlist(null.distr4[,1]), xlab = "transitivity", xlim = c(0.40, 0.48), main = "Transitivity Distribution without GDP Main and Partition Homophily"); abline(v = transitivity(g), col = "red")
hist(unlist(null.distr3[,4]), xlab = "density", xlim = c(0.13, 0.19), main = "Density Distribution with GDP Main and Partition Homophily"); abline(v = edge_density(g), col = "red")
hist(unlist(null.distr4[,4]), xlab = "density", xlim = c(0.13, 0.19), main = "Density Distribution without GDP Main and Partition Homophily"); abline(v = edge_density(g), col = "red")
invisible(dev.off())











summary(model_SocialCirtcuit_onlyK2Paths)





summary(model_SocialCirtcuit_onlyK2Paths_NoMutualEffect_NoGDPMain)


table <- data.frame(
	Modelli = c("model_SocialCirtcuit_onlyK2Paths", "model_SocialCirtcuit_onlyK2Paths_NoMutualEffect_NoGDPMain"),
	AIC = AIC(model_SocialCirtcuit_onlyK2Paths, model_SocialCirtcuit_onlyK2Paths_NoMutualEffect_NoGDPMain)
)
createImageFromTable(table, "images/socialCircuitModels_AIC.png", 1500, 230, 230)

table <- data.frame(
    Modelli = c("model_SocialCirtcuit_onlyK2Paths", "model_SocialCirtcuit_onlyK2Paths_NoMutualEffect_NoGDPMain"),
    BIC = BIC(model_SocialCirtcuit_onlyK2Paths, model_SocialCirtcuit_onlyK2Paths_NoMutualEffect_NoGDPMain)
)
createImageFromTable(table, "images/socialCircuitModels_BIC.png", 1500, 230, 230)








sim5 <- suppressMessages(simulate(model_SocialCirtcuit_onlyK2Paths, nsim = 100, verbose = TRUE, seed = 1))

null.distr5 <- matrix(,100,4)
for(b in 1:100){
	null.distr5[b,] <- extractInformationsFromGraph(sim5[[b]])
}

sim6 <- suppressMessages((simulate(model_SocialCirtcuit_onlyK2Paths_NoMutualEffect_NoGDPMain, nsim = 100, verbose = TRUE, seed = 1)))

null.distr6 <- matrix(,100,4)
for(b in 1:100){
	null.distr6[b,] <- extractInformationsFromGraph(sim6[[b]])
}


png("images/model_SocialCirtcuit_onlyK2Paths_VS_model_SocialCirtcuit_onlyK2Paths_NoMutualEffect_NoGDPMain__Part1.png", width = 1000, height = 1000, res = 150)
par(mfrow = c(4,1))
hist(unlist(null.distr5[,2]), xlab = "in-degree", xlim = c(2,10), main = "In Degree Distribution with Mutual Effect and GDP Main"); abline(v = sd(degree(g, mode = "in")), col = "red")
hist(unlist(null.distr6[,2]), xlab = "in-degree", xlim = c(0,20), main = "In Degree Distribution without Mutual Effect and GDP Main"); abline(v = sd(degree(g, mode = "in")), col = "red")
hist(unlist(null.distr5[,3]), xlab = "out-degree", xlim=c(12, 20), main = "Out Degree Distribution with Mutual Effect and GDP Main"); abline(v = sd(degree(g, mode = "out")), col = "red")
hist(unlist(null.distr6[,3]), xlab = "out-degree", xlim=c(0, 20), main = "Out Degree Distribution without Mutual Effect and GDP Main"); abline(v = sd(degree(g, mode = "out")), col = "red")
invisible(dev.off())

png("images/model_SocialCirtcuit_onlyK2Paths_VS_model_SocialCirtcuit_onlyK2Paths_NoMutualEffect_NoGDPMain__Part2.png", width = 1000, height = 1000, res = 150)
par(mfrow = c(4,1))
hist(unlist(null.distr5[,1]), xlab = "transitivity", main = "Transitivity Distribution with Mutual Effect and GDP Main"); abline(v = transitivity(g), col = "red")
hist(unlist(null.distr6[,1]), xlab = "transitivity", main = "Transitivity Distribution without Mutual Effect and GDP Main"); abline(v = transitivity(g), col = "red")
hist(unlist(null.distr5[,4]), xlab = "density", main = "Density Distribution with Mutual Effect and GDP Main"); abline(v = edge_density(g), col = "red")
hist(unlist(null.distr6[,4]), xlab = "density", main = "Density Distribution without Mutual Effect and GDP Main"); abline(v = edge_density(g), col = "red")
invisible(dev.off())














plotMyMatrix(as.matrix(Y), dimLabels = list(row = 'nations', col = 'nations'))


png("images/estimateSBM.png", width = 1000, height = 1000, res = 150)
sbm1 <- estimateSimpleSBM(as.matrix(Y), "bernoulli", dimLabels = 'nations',
												 estimOptions = list(verbosity = 1))
invisible(dev.off())





sbm1


# prior block probabilities
sbm1$blockProp


m <- matrix(round(sbm1$connectParam$mean, 3), nrow = 6, 
  byrow = FALSE, 
  dimnames = list(c("B1", "B2", "B3", "B4", "B5", "B6"), c("B1", "B2", "B3", "B4", "B5", "B6")))

png("images/SBM_HeatMap.png", width = 1000, height = 1000, res = 150)

image(1:nrow(m), 1:ncol(m), t(apply(m, 2, rev)), axes = FALSE, main = "Matrix Heatmap of SBM", xlab = "", ylab = "", zlim = c(0, 1))

for(i in 1:nrow(m)) {
  for(j in 1:ncol(m)) {
    text(i, ncol(m)-j+1, labels = t(m)[i,j], cex = 1.2)
  }
}

mtext(rownames(m), side = 3, at = 1:nrow(m), line = 0.2)
mtext(rev(colnames(m)), side = 2, at = 1:ncol(m), line = 0.2)

invisible(dev.off())





m <- matrix(, nrow = 22, ncol = 6, dimnames = list(c(1:22), c("B1", "B2", "B3", "B4", "B5", "B6")))
indexes <- rep(1, times = 6)
for (i in 1:80) {
	m[indexes[sbm1$memberships[i]], sbm1$memberships[i]] <- V(g)$name[i]
    indexes[sbm1$memberships[i]] <- indexes[sbm1$memberships[i]] + 1
}
table <- data.frame(m)
createImageFromTable(table, "images/SBM_Memberships.png", 1000, 900, 130)



