{
 "cells": [
  {
   "cell_type": "markdown",
   "metadata": {},
   "source": [
    "\\tableofcontents"
   ]
  },
  {
   "cell_type": "markdown",
   "metadata": {},
   "source": [
    "# Introduzione"
   ]
  },
  {
   "cell_type": "markdown",
   "metadata": {},
   "source": [
    "## Ambiente di Sviluppo\n",
    "\n",
    "Nel nostro caso abbiamo deciso di utilizzare come ambiente di sviluppo i Github Codespaces offerti dall'Università, utilizzando delle impostazioni di configurazione manuale per impostare R, linguaggio di programmazione utilizzato durante il corso, e Jupyter, un ambiente di sviluppo interattivo con il quale è stata scritta questa relazione.\\\n",
    "Per ottenere un ambiente di sviluppo identico al nostro basta creare una repository di Github, inserire la cartella .devcontainer al suo interno e poi creare un codespace sulla repository scelta."
   ]
  },
  {
   "cell_type": "markdown",
   "metadata": {},
   "source": [
    "## La nostra Rete\n",
    "\n",
    "La [rete da noi scelta](http://vlado.fmf.uni-lj.si/pub/networks/data/esna/metalWT.htm) descrive il commercio di oggetti in metallo tra 80 paesi nel mondo nel 1994. \\\n",
    "Un collegamento $Y_{ij}$ rappresenta  la richiesta di oggetti in metallo da parte del nodo $i$ al nodo $j$. "
   ]
  },
  {
   "cell_type": "markdown",
   "metadata": {},
   "source": [
    "### Proprietà della Rete\n",
    "\n",
    "La nostra rete contiene 80 nodi (paesi) e 1000 collegamenti (scambi commerciali) e ogni nodo contiene i seguenti attributi:\n",
    "\n",
    "- Il loro Continente di appartenenza\n",
    "- La loro Posizione rispetto alla Struttura del Sistema Mondiale nel 1994\n",
    "- Il loro PIL diviso per il numero di cittadini all'interno di tale paese nel 1995\n",
    "\n",
    "Il commercio mondiale di manufatti metallici vari nel 1994 presenta una rete complessa di importazioni. Questi dati, che includono importazioni di prodotti ad alta tecnologia o di manifattura pesante, offrono una finestra unica per esaminare le dinamiche economiche globali. In particolare, si può indagare se esista una correlazione tra la ricchezza di un paese, misurata dal Prodotto Interno Lordo (PIL) pro capite in dollari USA nel 1995, e il suo volume di scambi nella rete. I paesi sono classificati secondo la loro posizione nel sistema mondiale nel 1994, offrendo una prospettiva storica sul loro sviluppo economico e la loro integrazione nel commercio mondiale. Inoltre, la posizione di un paese nel sistema mondiale potrebbe influenzare significativamente il suo volume di scambi: in particolare l’appartenenza continentale dei paesi potrebbe rivelare modelli regionali di commercio e ricchezza. Quindi l’analisi dei dati potrebbe mostrare se i paesi di un particolare continente tendono ad avere volumi di scambio più elevati in relazione alla loro ricchezza. Questo potrebbe indicare come la ricchezza influenzi la domanda di prodotti tecnologicamente avanzati.\n",
    "\n",
    "---\n",
    "\n",
    "Dal sito è possibile scaricare soltanto il file 'world_trade.paj' che contiene i nomi delle nazioni, la edge list corrispondente alla nostra rete e gli attributi nodali.\n",
    "Da questo file abbiamo ricavato il file 'edge_list.txt', contenente la lista degli archi della nostra rete, e 'nodes_attr.txt' contenente i nomi e i relativi attributi nodali dei nodi.\n",
    "Dopodiché tramite l'utilizzo della libreria igraph abbiamo impostato la nostra rete in R:"
   ]
  },
  {
   "cell_type": "code",
   "execution_count": null,
   "metadata": {
    "vscode": {
     "languageId": "r"
    }
   },
   "outputs": [],
   "source": [
    "# Rimozione dati dalla sessione di R in caso fossero presenti e carico il workspace\n",
    "rm(list = ls())\n",
    "load(\"workspace.Rdata\")\n",
    "\n",
    "# Creo la funzione che gestira la creazione di immagini a partire da tabelle\n",
    "createImageFromTable <- function(table, filename, width, height, res){\n",
    "\tpng(filename, width = width, height = height, res = res)\n",
    "    grid.table(table, rows = NULL)\n",
    "    invisible(dev.off())\n",
    "}\n",
    "\n",
    "# Carico le librerie necessarie\n",
    "library(igraph)\n",
    "library(ergm)\n",
    "library(intergraph)\n",
    "library(sbm)\n",
    "library(ggplot2)\n",
    "library(grid)\n",
    "library(gridExtra)"
   ]
  },
  {
   "cell_type": "code",
   "execution_count": 2,
   "metadata": {
    "editable": true,
    "slideshow": {
     "slide_type": ""
    },
    "tags": [],
    "vscode": {
     "languageId": "r"
    }
   },
   "outputs": [
    {
     "name": "stdout",
     "output_type": "stream",
     "text": [
      "IGRAPH d333001 DN-- 80 1000 -- \n",
      "+ attr: continent (v/n), gdp (v/n), world_partition (v/n), name (v/c)\n",
      "+ edges from d333001 (vertex names):\n",
      " [1] United States ->French Guiana France        ->French Guiana\n",
      " [3] Germany       ->French Guiana Italy         ->French Guiana\n",
      " [5] United States ->Guadeloupe    Belgium/Lux.  ->Guadeloupe   \n",
      " [7] France        ->Guadeloupe    Germany       ->Guadeloupe   \n",
      " [9] Italy         ->Guadeloupe    United States ->Norway       \n",
      "[11] Japan         ->Norway        China         ->Norway       \n",
      "[13] Belgium/Lux.  ->Norway        Denmark       ->Norway       \n",
      "[15] France        ->Norway        Germany       ->Norway       \n",
      "+ ... omitted several edges\n"
     ]
    }
   ],
   "source": [
    "# Importazione della edge list \n",
    "edgeList <- read.table(\"edge_list.txt\", sep = \"\", head = FALSE)\n",
    "\n",
    "# Importazione degli attributi dei nodi\n",
    "attr <- read.table(\"nodes_attr.txt\", sep = \"\", head = TRUE)\n",
    "\n",
    "# Creazione del grafo e assegnazione degli attributi ai nodi\n",
    "g <- graph_from_edgelist(as.matrix(edgeList), directed = TRUE)\n",
    "V(g)$continent <- attr$Continents\n",
    "V(g)$gdp <- attr$GDP\n",
    "V(g)$world_partition <- attr$World_Partitions\n",
    "V(g)$name <- attr$Names\n",
    "\n",
    "print(g)"
   ]
  },
  {
   "cell_type": "markdown",
   "metadata": {},
   "source": [
    "![](images/MapChart_Map.png)\n",
    "\n",
    "Questa è una rappresentazione dei nostri 80 paesi divisi in base all'attributo \"Continent\" secondo i nostri dati."
   ]
  },
  {
   "cell_type": "markdown",
   "metadata": {},
   "source": [
    "# Statistiche di Rete\n",
    "\n",
    "Dopodichè tramite l'utilizzo dei seguenti comandi abbiamo calcolato le nostre statistiche di Rete."
   ]
  },
  {
   "cell_type": "code",
   "execution_count": 3,
   "metadata": {
    "vscode": {
     "languageId": "r"
    }
   },
   "outputs": [],
   "source": [
    "# Creazione della matrice di adiacenza relativa al grafo g\n",
    "Y <- as_adjacency_matrix(g)\n",
    "diag(Y) <- NA\n",
    "\n",
    "# Calcolo delle statistiche di rete\n",
    "rho <- edge_density(g)\n",
    "reciprocity <- reciprocity(g)\n",
    "transitivity <- transitivity(g)\n",
    "odd_rho <- rho / (1 - rho)\n",
    "odd_transitivity <- transitivity / (1 - transitivity)\n",
    "tau <- odd_transitivity / odd_rho\n",
    "assortativity_continent <- assortativity(g, V(g)$continent, directed = TRUE)\n",
    "assortativity_gdp <- assortativity(g, V(g)$gdp, directed = TRUE)\n",
    "assortativity_worldpartition <- assortativity(g, V(g)$world_partition, directed = TRUE)\n",
    "\n",
    "# Create a table with names and values\n",
    "table <- data.frame(\n",
    "\tName = c(\"Edge Density\", \"Reciprocity\", \"Transitivity\", \"Tau\", \"Assortativity (Continent)\", \"Assortativity (GDP)\", \"Assortativity (World Partition)\"),\n",
    "\tValue = c(rho, reciprocity, transitivity, tau, assortativity_continent, assortativity_gdp, assortativity_worldpartition)\n",
    ")\n",
    "\n",
    "createImageFromTable(table, filename = \"images/NetworkStatisticsTable.png\", width = 1500, height = 1050, res = 440)"
   ]
  },
  {
   "cell_type": "markdown",
   "metadata": {},
   "source": [
    "![](images/NetworkStatisticsTable.png)\n",
    "\n",
    "Tabella delle Statistiche di Rete"
   ]
  },
  {
   "cell_type": "markdown",
   "metadata": {},
   "source": [
    "Dall'immagine sopra possiamo estrapolare delle informazioni riguardo alla nostra rete, cioè:\n",
    "\n",
    "- Circa 1/4 delle connessioni è reciprocata.\n",
    "- La transitività nella nostra rete è molto alta, circa 4 volte di più rispetto al caso random.\n",
    "- Il coefficiente di assortatività è positivo per tutti e 3 gli attributi nodali.\n",
    "\n",
    "Con queste informazioni possiamo già dire che la nostra rete ha un'alta tendenza a formare dei cluster (o gruppi)."
   ]
  },
  {
   "cell_type": "markdown",
   "metadata": {},
   "source": [
    "# Statistiche Nodali\n",
    "\n",
    "Per quanto riguarda le Statistiche Nodali, cioè:\n",
    "\n",
    "- Degree Centrality\n",
    "- Closeness Centrality\n",
    "- Betweenness Centrality\n",
    "- Eigen-Vector Centrality\n",
    "\n",
    "abbiamo ottenuto i seguenti risultati:"
   ]
  },
  {
   "cell_type": "markdown",
   "metadata": {},
   "source": [
    "## Degree Centrality"
   ]
  },
  {
   "cell_type": "markdown",
   "metadata": {},
   "source": [
    "Nel nostro caso la Degree Centrality può essere interpretata come un valore che indica se un paese effettua dei commerci relativi agli oggetti in metallo oppure no.\n",
    "\n",
    "Essendo la nostra rete una rete direzionata, dobbiamo osservare sia la In-Degree Centrality che la Out-Degree Centrality."
   ]
  },
  {
   "cell_type": "code",
   "execution_count": 4,
   "metadata": {
    "vscode": {
     "languageId": "r"
    }
   },
   "outputs": [],
   "source": [
    "in_degree <- degree(g, mode = \"in\")\n",
    "out_degree <- degree(g, mode = \"out\")"
   ]
  },
  {
   "cell_type": "markdown",
   "metadata": {},
   "source": [
    "### In-Degree Centrality\n",
    "\n",
    "I dati da noi ottenuti per la In-Degree Centrality sono i seguenti:"
   ]
  },
  {
   "cell_type": "code",
   "execution_count": 5,
   "metadata": {
    "vscode": {
     "languageId": "r"
    }
   },
   "outputs": [
    {
     "data": {
      "image/png": "[encoded data removed]",
      "text/plain": [
       "Plot with title \"Histogram of in_degree\""
      ]
     },
     "metadata": {
      "image/png": {
       "height": 420,
       "width": 420
      }
     },
     "output_type": "display_data"
    }
   ],
   "source": [
    "# Istogramma dell'In Degree Centrality\n",
    "hist(in_degree)"
   ]
  },
  {
   "cell_type": "code",
   "execution_count": 6,
   "metadata": {
    "vscode": {
     "languageId": "r"
    }
   },
   "outputs": [
    {
     "data": {
      "text/plain": [
       "   Min. 1st Qu.  Median    Mean 3rd Qu.    Max. \n",
       "    4.0    10.0    13.0    12.5    15.0    18.0 "
      ]
     },
     "metadata": {},
     "output_type": "display_data"
    }
   ],
   "source": [
    "# Stampo il Summary dell'In Degree Centrality\n",
    "summary(in_degree)"
   ]
  },
  {
   "cell_type": "markdown",
   "metadata": {},
   "source": [
    "![](imagesWorldMaps/In_Degree_Centrality.png)\n",
    "\n",
    "Top 10 Nazioni rispetto all'In Degree"
   ]
  },
  {
   "cell_type": "code",
   "execution_count": 7,
   "metadata": {
    "vscode": {
     "languageId": "r"
    }
   },
   "outputs": [
    {
     "data": {
      "text/html": [
       "0.0705015221919564"
      ],
      "text/latex": [
       "0.0705015221919564"
      ],
      "text/markdown": [
       "0.0705015221919564"
      ],
      "text/plain": [
       "[1] 0.07050152"
      ]
     },
     "metadata": {},
     "output_type": "display_data"
    }
   ],
   "source": [
    "# Stampo la centralità della Rete rispetto all'In Degree\n",
    "centr_degree(g, loops = FALSE, mode = \"in\")$centralization"
   ]
  },
  {
   "cell_type": "markdown",
   "metadata": {},
   "source": [
    "#### Conclusioni"
   ]
  },
  {
   "cell_type": "markdown",
   "metadata": {},
   "source": [
    "Come possiamo vedere dall'istogramma e dal valore di centralizzazione, tutti i paesi esportano metalli, e non ci sono paesi che esportano in maniera molto più marcata rispetto ad altri"
   ]
  },
  {
   "cell_type": "markdown",
   "metadata": {},
   "source": [
    "### Out-Degree Centrality\n",
    "\n",
    "Invece per quanto riguarda la Out-Degree Centrality abbiamo ottenuto i seguenti risultati:"
   ]
  },
  {
   "cell_type": "code",
   "execution_count": 8,
   "metadata": {
    "vscode": {
     "languageId": "r"
    }
   },
   "outputs": [
    {
     "data": {
      "image/png": "[encoded data removed]",
      "text/plain": [
       "Plot with title \"Histogram of out_degree\""
      ]
     },
     "metadata": {
      "image/png": {
       "height": 420,
       "width": 420
      }
     },
     "output_type": "display_data"
    }
   ],
   "source": [
    "# Istogramma dell'In Degree Centrality\n",
    "hist(out_degree, breaks = 10)"
   ]
  },
  {
   "cell_type": "code",
   "execution_count": 9,
   "metadata": {
    "vscode": {
     "languageId": "r"
    }
   },
   "outputs": [
    {
     "data": {
      "text/plain": [
       "   Min. 1st Qu.  Median    Mean 3rd Qu.    Max. \n",
       "    0.0     0.0     4.0    12.5    13.0    77.0 "
      ]
     },
     "metadata": {},
     "output_type": "display_data"
    }
   ],
   "source": [
    "# Stampo il Summary dell'In Degree Centrality\n",
    "summary(out_degree)"
   ]
  },
  {
   "cell_type": "markdown",
   "metadata": {},
   "source": [
    "![](imagesWorldMaps/Out_Degree_Centrality.png)\n",
    "\n",
    "Top 10 Nazioni rispetto all'Out Degree"
   ]
  },
  {
   "cell_type": "code",
   "execution_count": 10,
   "metadata": {
    "vscode": {
     "languageId": "r"
    }
   },
   "outputs": [
    {
     "data": {
      "text/html": [
       "0.826790578432943"
      ],
      "text/latex": [
       "0.826790578432943"
      ],
      "text/markdown": [
       "0.826790578432943"
      ],
      "text/plain": [
       "[1] 0.8267906"
      ]
     },
     "metadata": {},
     "output_type": "display_data"
    }
   ],
   "source": [
    "# Stampo la centralità della Rete rispetto all'In Degree\n",
    "centr_degree(g, loops = FALSE, mode = \"out\")$centralization"
   ]
  },
  {
   "cell_type": "markdown",
   "metadata": {},
   "source": [
    "#### Conclusioni"
   ]
  },
  {
   "cell_type": "markdown",
   "metadata": {},
   "source": [
    "Stavolta, visualizzando l'istogramma e il valore di centralizzazione possiamo vedere come ci siano alcuni nodi che sono molto più centrali di altri. Dal grafico riportato sopra possiamo concludere che questi sono i paesi più sviluppati (Stati Uniti, paesi europei e Cina)"
   ]
  },
  {
   "cell_type": "markdown",
   "metadata": {},
   "source": [
    "## Closeness Centrality\n",
    "\n",
    "Nel nostro caso non siamo riusciti a trovare un 'senso' alla Closeness Centrality, abbiamo comunque deciso di studiarla perchè forse potrebbe risultare qualche informazione interessante.\n",
    "\n",
    "Essendo la nostra rete una rete direzionata, dobbiamo osservare sia la In-Closeness Centrality che la Out-Closeness Centrality."
   ]
  },
  {
   "cell_type": "code",
   "execution_count": 11,
   "metadata": {
    "vscode": {
     "languageId": "r"
    }
   },
   "outputs": [],
   "source": [
    "closeness_in <- closeness(g, mode = \"in\")\n",
    "closeness_out <- closeness(g, mode = \"out\")"
   ]
  },
  {
   "cell_type": "markdown",
   "metadata": {},
   "source": [
    "### In-Closeness Centrality\n",
    "\n",
    "I Dati da noi ottenuti per la In-Closeness Centrality sono i seguenti"
   ]
  },
  {
   "cell_type": "code",
   "execution_count": 12,
   "metadata": {
    "vscode": {
     "languageId": "r"
    }
   },
   "outputs": [
    {
     "data": {
      "image/png": "[encoded data removed]",
      "text/plain": [
       "Plot with title \"Histogram of closeness_in\""
      ]
     },
     "metadata": {
      "image/png": {
       "height": 420,
       "width": 420
      }
     },
     "output_type": "display_data"
    }
   ],
   "source": [
    "#Istogramma dell'In-Closeness Centrality\n",
    "hist(closeness_in)"
   ]
  },
  {
   "cell_type": "code",
   "execution_count": 13,
   "metadata": {
    "vscode": {
     "languageId": "r"
    }
   },
   "outputs": [
    {
     "data": {
      "text/plain": [
       "    Min.  1st Qu.   Median     Mean  3rd Qu.     Max. \n",
       "0.005848 0.006623 0.006944 0.007488 0.007634 0.011364 "
      ]
     },
     "metadata": {},
     "output_type": "display_data"
    }
   ],
   "source": [
    "summary(closeness_in)"
   ]
  },
  {
   "cell_type": "markdown",
   "metadata": {},
   "source": [
    "![](imagesWorldMaps/In_Closeness_Centrality.png)\n",
    "\n",
    "Top 10 Nazioni rispetto all'In Closeness"
   ]
  },
  {
   "cell_type": "code",
   "execution_count": 14,
   "metadata": {
    "vscode": {
     "languageId": "r"
    }
   },
   "outputs": [
    {
     "data": {
      "text/html": [
       "0.17667852352639"
      ],
      "text/latex": [
       "0.17667852352639"
      ],
      "text/markdown": [
       "0.17667852352639"
      ],
      "text/plain": [
       "[1] 0.1766785"
      ]
     },
     "metadata": {},
     "output_type": "display_data"
    }
   ],
   "source": [
    "centr_clo(g, mode = \"in\")$centralization"
   ]
  },
  {
   "cell_type": "markdown",
   "metadata": {},
   "source": [
    "#### Conclusioni\n",
    "\n",
    "- Nella rete non sono presenti nodi con In Closeness infinita, il che implica che tutti i nodi sono raggiungibili da ogni altro nodo\n",
    "- I Paesi con l'In Closeness maggiore sono quasi tutti Paesi dell'America del Sud (questa informazione potrebbe essere interessante da studiare, ma non essendo oggetto della nostra relazione non abbiamo approfondito oltre)"
   ]
  },
  {
   "cell_type": "markdown",
   "metadata": {},
   "source": [
    "### Out-Closeness Centrality\n",
    "\n",
    "I Dati da noi ottenuti per la In-Closeness Centrality sono i seguenti"
   ]
  },
  {
   "cell_type": "code",
   "execution_count": 15,
   "metadata": {
    "vscode": {
     "languageId": "r"
    }
   },
   "outputs": [
    {
     "data": {
      "image/png": "[encoded data removed]",
      "text/plain": [
       "Plot with title \"Histogram of closeness_out\""
      ]
     },
     "metadata": {
      "image/png": {
       "height": 420,
       "width": 420
      }
     },
     "output_type": "display_data"
    }
   ],
   "source": [
    "#Istogramma dell'Out-Closeness Centrality\n",
    "hist(closeness_out, breaks = 20)"
   ]
  },
  {
   "cell_type": "code",
   "execution_count": 16,
   "metadata": {
    "vscode": {
     "languageId": "r"
    }
   },
   "outputs": [
    {
     "data": {
      "text/plain": [
       "    Min.  1st Qu.   Median     Mean  3rd Qu.     Max.     NA's \n",
       "0.001435 0.004959 0.006645 0.056027 0.009901 0.500000       24 "
      ]
     },
     "metadata": {},
     "output_type": "display_data"
    }
   ],
   "source": [
    "summary(closeness_out)"
   ]
  },
  {
   "cell_type": "markdown",
   "metadata": {
    "vscode": {
     "languageId": "r"
    }
   },
   "source": [
    "![](imagesWorldMaps/Out_Closeness_Centrality.png)\n",
    "\n",
    "Top 10 Nazioni rispetto all'Out Closeness"
   ]
  },
  {
   "cell_type": "code",
   "execution_count": 17,
   "metadata": {
    "vscode": {
     "languageId": "r"
    }
   },
   "outputs": [
    {
     "data": {
      "text/html": [
       "NaN"
      ],
      "text/latex": [
       "NaN"
      ],
      "text/markdown": [
       "NaN"
      ],
      "text/plain": [
       "[1] NaN"
      ]
     },
     "metadata": {},
     "output_type": "display_data"
    }
   ],
   "source": [
    "centr_clo(g, mode = \"out\")$centralization"
   ]
  },
  {
   "cell_type": "markdown",
   "metadata": {},
   "source": [
    "#### Conclusioni\n",
    "\n",
    "- Nella Rete sono presenti nodi con Out Closeness pari a infinito, questo è dato dal fatto che esistono nodi che non inviano collegamenti (come abbiamo visto nell'Out Degree)\n",
    "- La maggior parte dei nodi presenta un Out Closeness < 0.1\n",
    "- Il valore di centralizzazione non è disponibile dato che esistono valori per il quale l'Out Closeness è infinito"
   ]
  },
  {
   "cell_type": "markdown",
   "metadata": {},
   "source": [
    "## Betweenness Centrality\n",
    "\n",
    "Nel nostro caso potremmo interpretare la Betweenness Centrality come una misura di quanto uno specifico nodo faccia da tramite per il commercio fra i paesi"
   ]
  },
  {
   "cell_type": "code",
   "execution_count": 18,
   "metadata": {
    "vscode": {
     "languageId": "r"
    }
   },
   "outputs": [],
   "source": [
    "betweenness <- betweenness(g, directed = TRUE)"
   ]
  },
  {
   "cell_type": "markdown",
   "metadata": {},
   "source": [
    "I dati da noi ottenuti per la Betweenness Centrality sono i seguenti:"
   ]
  },
  {
   "cell_type": "code",
   "execution_count": 19,
   "metadata": {
    "vscode": {
     "languageId": "r"
    }
   },
   "outputs": [
    {
     "data": {
      "image/png": "[encoded data removed]",
      "text/plain": [
       "Plot with title \"Histogram of betweenness\""
      ]
     },
     "metadata": {
      "image/png": {
       "height": 420,
       "width": 420
      }
     },
     "output_type": "display_data"
    }
   ],
   "source": [
    "# Istogramma della Betweenness Centrality\n",
    "hist(betweenness)"
   ]
  },
  {
   "cell_type": "code",
   "execution_count": 20,
   "metadata": {
    "vscode": {
     "languageId": "r"
    }
   },
   "outputs": [
    {
     "data": {
      "text/plain": [
       "   Min. 1st Qu.  Median    Mean 3rd Qu.    Max. \n",
       "  0.000   0.000   8.899  90.763  60.417 899.793 "
      ]
     },
     "metadata": {},
     "output_type": "display_data"
    }
   ],
   "source": [
    "summary(betweenness)"
   ]
  },
  {
   "cell_type": "markdown",
   "metadata": {},
   "source": [
    "![](imagesWorldMaps/Betweenness_Centrality.png)\n",
    "\n",
    "Top 10 Nazioni rispetto alla Betweenness"
   ]
  },
  {
   "cell_type": "code",
   "execution_count": 21,
   "metadata": {
    "vscode": {
     "languageId": "r"
    }
   },
   "outputs": [
    {
     "data": {
      "text/html": [
       "0.132955452527705"
      ],
      "text/latex": [
       "0.132955452527705"
      ],
      "text/markdown": [
       "0.132955452527705"
      ],
      "text/plain": [
       "[1] 0.1329555"
      ]
     },
     "metadata": {},
     "output_type": "display_data"
    }
   ],
   "source": [
    "centr_betw(g, directed = TRUE)$centralization"
   ]
  },
  {
   "cell_type": "markdown",
   "metadata": {},
   "source": [
    "#### Conclusioni  \n",
    "\n",
    "- Dall'istogramma si può notare che molti paesi hanno una Betweenness bassa\n",
    "- Se interpretiamo la Betweenness centrality come la capacità di fare da \"tramite\" tra due paesi, dato che la transitività (e in particolare tau) è molto alta, non sembrerebbe esserci la necessità, infatti il valore di centralizzazione è molto vicino allo 0."
   ]
  },
  {
   "cell_type": "markdown",
   "metadata": {},
   "source": [
    "## EigenVector Centrality"
   ]
  },
  {
   "cell_type": "code",
   "execution_count": 22,
   "metadata": {
    "vscode": {
     "languageId": "r"
    }
   },
   "outputs": [],
   "source": [
    "eigen_centrality <- eigen_centrality(g)$vector"
   ]
  },
  {
   "cell_type": "markdown",
   "metadata": {},
   "source": [
    "I Dati da noi ottenuti per la EigenVector Centrality sono i seguenti:"
   ]
  },
  {
   "cell_type": "code",
   "execution_count": 23,
   "metadata": {
    "vscode": {
     "languageId": "r"
    }
   },
   "outputs": [
    {
     "data": {
      "image/png": "[encoded data removed]",
      "text/plain": [
       "Plot with title \"Histogram of eigen_centrality\""
      ]
     },
     "metadata": {
      "image/png": {
       "height": 420,
       "width": 420
      }
     },
     "output_type": "display_data"
    }
   ],
   "source": [
    "# Istrogramma dell'EigenVector Centrality\n",
    "hist(eigen_centrality)"
   ]
  },
  {
   "cell_type": "code",
   "execution_count": 24,
   "metadata": {
    "vscode": {
     "languageId": "r"
    }
   },
   "outputs": [
    {
     "data": {
      "text/plain": [
       "   Min. 1st Qu.  Median    Mean 3rd Qu.    Max. \n",
       "0.08979 0.19907 0.28056 0.34384 0.36383 1.00000 "
      ]
     },
     "metadata": {},
     "output_type": "display_data"
    }
   ],
   "source": [
    "summary(eigen_centrality)"
   ]
  },
  {
   "cell_type": "markdown",
   "metadata": {},
   "source": [
    "![](imagesWorldMaps/EigenVector_Centrality.png)\n",
    "\n",
    "Top 10 Nazioni rispetto all'EigenVector Value"
   ]
  },
  {
   "cell_type": "markdown",
   "metadata": {},
   "source": [
    "#### Conclusioni\n",
    "\n",
    "- Anche in questo caso i Top 10 sono i Paesi più sviluppati, che abbiamo menzionato in precedenza (nell'Out Degree)"
   ]
  },
  {
   "cell_type": "markdown",
   "metadata": {},
   "source": [
    "# Modelli"
   ]
  },
  {
   "cell_type": "markdown",
   "metadata": {},
   "source": [
    "## Simple Random Graph Model (SRG)"
   ]
  },
  {
   "cell_type": "markdown",
   "metadata": {},
   "source": [
    "Breve Introduzione al SRG\n",
    "\n",
    "Adesso andiamo ad analizzare il SRG model, che rappresenta una base di partenza per tutti gli altri modelli"
   ]
  },
  {
   "cell_type": "code",
   "execution_count": 25,
   "metadata": {
    "vscode": {
     "languageId": "r"
    }
   },
   "outputs": [
    {
     "data": {
      "text/plain": [
       "Call:\n",
       "ergm(formula = net ~ edges, control = control.ergm(seed = 1, \n",
       "    checkpoint = \"mod0_step_%03d.RData\"))\n",
       "\n",
       "Maximum Likelihood Results:\n",
       "\n",
       "      Estimate Std. Error MCMC % z value Pr(>|z|)    \n",
       "edges -1.67385    0.03449      0  -48.52   <1e-04 ***\n",
       "---\n",
       "Signif. codes:  0 '***' 0.001 '**' 0.01 '*' 0.05 '.' 0.1 ' ' 1\n",
       "\n",
       "     Null Deviance: 8761  on 6320  degrees of freedom\n",
       " Residual Deviance: 5513  on 6319  degrees of freedom\n",
       " \n",
       "AIC: 5515  BIC: 5522  (Smaller is better. MC Std. Err. = 0)"
      ]
     },
     "metadata": {},
     "output_type": "display_data"
    }
   ],
   "source": [
    "summary(model_SRG)"
   ]
  },
  {
   "cell_type": "markdown",
   "metadata": {},
   "source": [
    "Simuliamo il SRG model e vediamo quali statistiche riesce a catturare e quali no, così da avere una base di partenza per i modelli che andremo a creare"
   ]
  },
  {
   "cell_type": "code",
   "execution_count": 26,
   "metadata": {
    "vscode": {
     "languageId": "r"
    }
   },
   "outputs": [
    {
     "data": {
      "image/png": "[encoded data removed]",
      "text/plain": [
       "Plot with title \"Density Distribution on SRG\""
      ]
     },
     "metadata": {
      "image/png": {
       "height": 420,
       "width": 420
      }
     },
     "output_type": "display_data"
    }
   ],
   "source": [
    "extractInformationsFromGraph <- function(xx){\n",
    "\tig <- asIgraph(xx)\n",
    "\ttr <- transitivity(ig)\n",
    "\tideg <- sd(degree(ig, mode = \"in\"))\n",
    "\todeg <- sd(degree(ig, mode = \"out\"))\n",
    "\tdens <- edge_density(ig)\n",
    "\treturn(c(tr, ideg, odeg, dens))\n",
    "}\n",
    "\n",
    "sim_SRG <- suppressMessages(simulate(model_SRG, nsim = 100, verbose = TRUE, seed = 1))\n",
    "\n",
    "null.distr_SRG <- matrix(,100,4)\n",
    "for(b in 1:100){\n",
    "\tnull.distr_SRG[b,] <- extractInformationsFromGraph(sim_SRG[[b]])\n",
    "}\n",
    "\n",
    "par(mfrow = c(4,1))\n",
    "hist(unlist(null.distr_SRG[,2]), xlab = \"in-degree\", xlim = c(2,5), main = \"In Degree Distribution on SRG\"); abline(v = sd(degree(g, mode = \"in\")), col = \"red\")\n",
    "hist(unlist(null.distr_SRG[,3]), xlab = \"out-degree\", xlim=c(0, 22), main = \"Out Degree Distribution on SRG\"); abline(v = sd(degree(g, mode = \"out\")), col = \"red\")\n",
    "hist(unlist(null.distr_SRG[,1]), xlab = \"transitivity\", xlim=c(0.2, 0.5), main = \"Transitivity Distribution on SRG\"); abline(v = transitivity(g), col = \"red\")\n",
    "hist(unlist(null.distr_SRG[,4]), xlab = \"density\", main = \"Density Distribution on SRG\"); abline(v = edge_density(g), col = \"red\")"
   ]
  },
  {
   "cell_type": "markdown",
   "metadata": {},
   "source": [
    "Il nostro attuale modello è in grado di catturare la densità (come potevamo aspettarci) e la In-Degree."
   ]
  },
  {
   "cell_type": "markdown",
   "metadata": {},
   "source": [
    "## Exponential Random Graph Models (ERGMs)"
   ]
  },
  {
   "cell_type": "markdown",
   "metadata": {},
   "source": [
    "### Non-Homogeneus Simple Random Graph Model (NH-SRG)"
   ]
  },
  {
   "cell_type": "markdown",
   "metadata": {},
   "source": [
    "Breve Introduzione al NH-SRG e differenze con SRG\n",
    "\n",
    "Adesso andiamo ad analizzare i risultati ottenuti dal calcolo del NH-SRG model"
   ]
  },
  {
   "cell_type": "code",
   "execution_count": null,
   "metadata": {
    "vscode": {
     "languageId": "r"
    }
   },
   "outputs": [],
   "source": [
    "summary(model_NHSRG)"
   ]
  },
  {
   "cell_type": "markdown",
   "metadata": {},
   "source": [
    "Dato che il summary del NH-SRG richiedeva molto spazio, abbiamo deciso di inserire degli screenshot.\n",
    "\n",
    "\n",
    "![](images/model_NHSRG_p1.png)\n",
    "![](images/model_NHSRG_p2.png)"
   ]
  },
  {
   "cell_type": "markdown",
   "metadata": {},
   "source": [
    "Da come possiamo notare alcuni Sender Effect hanno valore Infinito, dunque siamo costretti a togliere dal modello il Sender Effect."
   ]
  },
  {
   "cell_type": "code",
   "execution_count": 28,
   "metadata": {
    "vscode": {
     "languageId": "r"
    }
   },
   "outputs": [
    {
     "data": {
      "text/plain": [
       "Call:\n",
       "ergm(formula = net ~ edges + receiver, control = control.ergm(seed = 1, \n",
       "    checkpoint = \"mod1_receiver_step_%03d.RData\"))\n",
       "\n",
       "Maximum Likelihood Results:\n",
       "\n",
       "             Estimate Std. Error MCMC % z value Pr(>|z|)    \n",
       "edges      -1.535e+00  2.946e-01      0  -5.211   <1e-04 ***\n",
       "receiver2  -8.938e-02  4.230e-01      0  -0.211   0.8326    \n",
       "receiver3   3.148e-01  3.984e-01      0   0.790   0.4295    \n",
       "receiver4  -8.938e-02  4.230e-01      0  -0.211   0.8326    \n",
       "receiver5  -2.863e-01  4.387e-01      0  -0.653   0.5140    \n",
       "receiver6  -5.159e-01  4.607e-01      0  -1.120   0.2627    \n",
       "receiver7  -8.938e-02  4.230e-01      0  -0.211   0.8326    \n",
       "receiver8  -2.863e-01  4.387e-01      0  -0.653   0.5140    \n",
       "receiver9  -1.845e-01  4.302e-01      0  -0.429   0.6681    \n",
       "receiver10 -8.938e-02  4.230e-01      0  -0.211   0.8326    \n",
       "receiver11 -5.159e-01  4.607e-01      0  -1.120   0.2627    \n",
       "receiver12  2.414e-01  4.022e-01      0   0.600   0.5484    \n",
       "receiver13 -6.479e-01  4.753e-01      0  -1.363   0.1728    \n",
       "receiver14 -3.282e-14  4.167e-01      0   0.000   1.0000    \n",
       "receiver15 -8.938e-02  4.230e-01      0  -0.211   0.8326    \n",
       "receiver16 -8.938e-02  4.230e-01      0  -0.211   0.8326    \n",
       "receiver17 -3.962e-01  4.487e-01      0  -0.883   0.3772    \n",
       "receiver18  8.450e-02  4.112e-01      0   0.205   0.8372    \n",
       "receiver19 -3.216e-14  4.167e-01      0   0.000   1.0000    \n",
       "receiver20  8.450e-02  4.112e-01      0   0.205   0.8372    \n",
       "receiver21 -8.938e-02  4.230e-01      0  -0.211   0.8326    \n",
       "receiver22 -1.845e-01  4.302e-01      0  -0.429   0.6681    \n",
       "receiver23  8.450e-02  4.112e-01      0   0.205   0.8372    \n",
       "receiver24 -3.962e-01  4.487e-01      0  -0.883   0.3772    \n",
       "receiver25 -1.396e+00  5.917e-01      0  -2.359   0.0183 *  \n",
       "receiver26  3.148e-01  3.984e-01      0   0.790   0.4295    \n",
       "receiver27 -8.938e-02  4.230e-01      0  -0.211   0.8326    \n",
       "receiver28 -1.159e+00  5.480e-01      0  -2.116   0.0344 *  \n",
       "receiver29 -8.938e-02  4.230e-01      0  -0.211   0.8326    \n",
       "receiver30 -3.110e-14  4.167e-01      0   0.000   1.0000    \n",
       "receiver31 -6.479e-01  4.753e-01      0  -1.363   0.1728    \n",
       "receiver32  8.450e-02  4.112e-01      0   0.205   0.8372    \n",
       "receiver33 -2.863e-01  4.387e-01      0  -0.653   0.5140    \n",
       "receiver34 -3.134e-14  4.167e-01      0   0.000   1.0000    \n",
       "receiver35 -2.971e-14  4.167e-01      0   0.000   1.0000    \n",
       "receiver36 -3.962e-01  4.487e-01      0  -0.883   0.3772    \n",
       "receiver37  8.450e-02  4.112e-01      0   0.205   0.8372    \n",
       "receiver38 -8.938e-02  4.230e-01      0  -0.211   0.8326    \n",
       "receiver39 -3.128e-14  4.167e-01      0   0.000   1.0000    \n",
       "receiver40  2.414e-01  4.022e-01      0   0.600   0.5484    \n",
       "receiver41 -3.962e-01  4.487e-01      0  -0.883   0.3772    \n",
       "receiver42 -3.962e-01  4.487e-01      0  -0.883   0.3772    \n",
       "receiver43 -3.962e-01  4.487e-01      0  -0.883   0.3772    \n",
       "receiver44 -3.090e-14  4.167e-01      0   0.000   1.0000    \n",
       "receiver45  8.450e-02  4.112e-01      0   0.205   0.8372    \n",
       "receiver46 -1.159e+00  5.480e-01      0  -2.116   0.0344 *  \n",
       "receiver47  8.450e-02  4.112e-01      0   0.205   0.8372    \n",
       "receiver48 -7.954e-01  4.935e-01      0  -1.612   0.1070    \n",
       "receiver49  8.450e-02  4.112e-01      0   0.205   0.8372    \n",
       "receiver50 -2.855e-14  4.167e-01      0   0.000   1.0000    \n",
       "receiver51  1.648e-01  4.064e-01      0   0.405   0.6852    \n",
       "receiver52 -1.845e-01  4.302e-01      0  -0.429   0.6681    \n",
       "receiver53 -8.938e-02  4.230e-01      0  -0.211   0.8326    \n",
       "receiver54 -5.159e-01  4.607e-01      0  -1.120   0.2627    \n",
       "receiver55 -3.962e-01  4.487e-01      0  -0.883   0.3772    \n",
       "receiver56 -2.863e-01  4.387e-01      0  -0.653   0.5140    \n",
       "receiver57 -3.962e-01  4.487e-01      0  -0.883   0.3772    \n",
       "receiver58  8.450e-02  4.112e-01      0   0.205   0.8372    \n",
       "receiver59 -3.236e-14  4.167e-01      0   0.000   1.0000    \n",
       "receiver60  8.450e-02  4.112e-01      0   0.205   0.8372    \n",
       "receiver61 -2.863e-01  4.387e-01      0  -0.653   0.5140    \n",
       "receiver62 -1.159e+00  5.480e-01      0  -2.116   0.0344 *  \n",
       "receiver63 -9.634e-01  5.169e-01      0  -1.864   0.0623 .  \n",
       "receiver64  1.648e-01  4.064e-01      0   0.405   0.6852    \n",
       "receiver65 -2.863e-01  4.387e-01      0  -0.653   0.5140    \n",
       "receiver66  1.648e-01  4.064e-01      0   0.405   0.6852    \n",
       "receiver67 -3.962e-01  4.487e-01      0  -0.883   0.3772    \n",
       "receiver68  3.148e-01  3.984e-01      0   0.790   0.4295    \n",
       "receiver69 -3.097e-14  4.167e-01      0   0.000   1.0000    \n",
       "receiver70  2.414e-01  4.022e-01      0   0.600   0.5484    \n",
       "receiver71  1.648e-01  4.064e-01      0   0.405   0.6852    \n",
       "receiver72 -3.962e-01  4.487e-01      0  -0.883   0.3772    \n",
       "receiver73 -3.962e-01  4.487e-01      0  -0.883   0.3772    \n",
       "receiver74 -2.863e-01  4.387e-01      0  -0.653   0.5140    \n",
       "receiver75 -3.476e-14  4.167e-01      0   0.000   1.0000    \n",
       "receiver76 -3.066e-14  4.167e-01      0   0.000   1.0000    \n",
       "receiver77  1.648e-01  4.064e-01      0   0.405   0.6852    \n",
       "receiver78 -3.344e-14  4.167e-01      0   0.000   1.0000    \n",
       "receiver79 -2.863e-01  4.387e-01      0  -0.653   0.5140    \n",
       "receiver80  8.450e-02  4.112e-01      0   0.205   0.8372    \n",
       "---\n",
       "Signif. codes:  0 '***' 0.001 '**' 0.01 '*' 0.05 '.' 0.1 ' ' 1\n",
       "\n",
       "     Null Deviance: 8761  on 6320  degrees of freedom\n",
       " Residual Deviance: 5432  on 6240  degrees of freedom\n",
       " \n",
       "AIC: 5592  BIC: 6132  (Smaller is better. MC Std. Err. = 0)"
      ]
     },
     "metadata": {},
     "output_type": "display_data"
    }
   ],
   "source": [
    "summary(model_NHSRG_onlyReceiver)"
   ]
  },
  {
   "cell_type": "markdown",
   "metadata": {},
   "source": [
    "Da come si può notare i Receiver Effect hanno dei livelli di significatività molto bassi, quindi valutiamo la rimozione di essi."
   ]
  },
  {
   "cell_type": "code",
   "execution_count": 29,
   "metadata": {
    "vscode": {
     "languageId": "r"
    }
   },
   "outputs": [],
   "source": [
    "table <- data.frame(\n",
    "    Modelli = c(\"model_SRG\", \"model_NHSRG_onlyReceiver\"),\n",
    "    BIC = BIC(model_SRG, model_NHSRG_onlyReceiver)\n",
    ")\n",
    "createImageFromTable(table, \"images/SRG_vs_NHSRG_BIC.png\", 900, 220, 230)"
   ]
  },
  {
   "cell_type": "markdown",
   "metadata": {},
   "source": [
    "![](images/SRG_vs_NHSRG_BIC.png)"
   ]
  },
  {
   "cell_type": "markdown",
   "metadata": {
    "vscode": {
     "languageId": "r"
    }
   },
   "source": [
    "Confrontando quindi questo modello con il modello SRG concludiamo che togliere il termine Receiver Effect è una buona scelta."
   ]
  },
  {
   "cell_type": "markdown",
   "metadata": {},
   "source": [
    "### P1 Model"
   ]
  },
  {
   "cell_type": "markdown",
   "metadata": {},
   "source": [
    "Adesso andiamo ad analizzare i risultati ottenuti per il nostro P1 Model"
   ]
  },
  {
   "cell_type": "code",
   "execution_count": 30,
   "metadata": {
    "vscode": {
     "languageId": "r"
    }
   },
   "outputs": [
    {
     "data": {
      "text/plain": [
       "Call:\n",
       "ergm(formula = net ~ edges + mutual, control = control.ergm(seed = 1))\n",
       "\n",
       "Monte Carlo Maximum Likelihood Results:\n",
       "\n",
       "       Estimate Std. Error MCMC % z value Pr(>|z|)    \n",
       "edges  -1.80765    0.04673      0 -38.684   <1e-04 ***\n",
       "mutual  0.69042    0.12252      0   5.635   <1e-04 ***\n",
       "---\n",
       "Signif. codes:  0 '***' 0.001 '**' 0.01 '*' 0.05 '.' 0.1 ' ' 1\n",
       "\n",
       "     Null Deviance: 8761  on 6320  degrees of freedom\n",
       " Residual Deviance: 5481  on 6318  degrees of freedom\n",
       " \n",
       "AIC: 5485  BIC: 5499  (Smaller is better. MC Std. Err. = 1.073)"
      ]
     },
     "metadata": {},
     "output_type": "display_data"
    }
   ],
   "source": [
    "summary(model_P1_onlyMutual)"
   ]
  },
  {
   "cell_type": "markdown",
   "metadata": {},
   "source": [
    "### Attributi Nodali"
   ]
  },
  {
   "cell_type": "markdown",
   "metadata": {},
   "source": [
    "Adesso introduciamo gli effetti principali e di omofilia rispetto agli Attributi Nodali"
   ]
  },
  {
   "cell_type": "code",
   "execution_count": 31,
   "metadata": {
    "vscode": {
     "languageId": "r"
    }
   },
   "outputs": [
    {
     "data": {
      "text/plain": [
       "Call:\n",
       "ergm(formula = net ~ edges + mutual + nodecov(\"gdp\") + nodefactor(\"continent\") + \n",
       "    nodefactor(\"partition\") + absdiff(\"gdp\") + nodematch(\"continent\") + \n",
       "    nodematch(\"partition\"), control = control.ergm(seed = 1))\n",
       "\n",
       "Monte Carlo Maximum Likelihood Results:\n",
       "\n",
       "                         Estimate Std. Error MCMC % z value Pr(>|z|)    \n",
       "edges                   3.074e+00  3.389e-01      0   9.069  < 1e-04 ***\n",
       "mutual                 -1.912e+00  1.795e-01      0 -10.655  < 1e-04 ***\n",
       "nodecov.gdp             1.251e-05  4.386e-06      0   2.852 0.004342 ** \n",
       "nodefactor.continent.2 -2.665e-02  1.265e-01      0  -0.211 0.833080    \n",
       "nodefactor.continent.3 -6.301e-01  1.314e-01      0  -4.795  < 1e-04 ***\n",
       "nodefactor.continent.4  9.280e-01  1.654e-01      0   5.609  < 1e-04 ***\n",
       "nodefactor.continent.5  7.066e-01  2.123e-01      0   3.328 0.000876 ***\n",
       "nodefactor.continent.6 -2.808e-02  1.304e-01      0  -0.215 0.829440    \n",
       "nodefactor.partition.2 -2.834e+00  1.500e-01      0 -18.890  < 1e-04 ***\n",
       "nodefactor.partition.3 -4.086e+00  1.946e-01      0 -20.993  < 1e-04 ***\n",
       "absdiff.gdp            -2.512e-05  5.522e-06      0  -4.550  < 1e-04 ***\n",
       "nodematch.continent     2.257e+00  1.266e-01      0  17.834  < 1e-04 ***\n",
       "nodematch.partition    -1.908e-01  1.333e-01      0  -1.431 0.152417    \n",
       "---\n",
       "Signif. codes:  0 '***' 0.001 '**' 0.01 '*' 0.05 '.' 0.1 ' ' 1\n",
       "\n",
       "     Null Deviance: 8761  on 6320  degrees of freedom\n",
       " Residual Deviance: 3845  on 6307  degrees of freedom\n",
       " \n",
       "AIC: 3871  BIC: 3959  (Smaller is better. MC Std. Err. = 1.166)"
      ]
     },
     "metadata": {},
     "output_type": "display_data"
    }
   ],
   "source": [
    "summary(model_P1_onlyMutual_NodeAttr)"
   ]
  },
  {
   "cell_type": "markdown",
   "metadata": {},
   "source": [
    "Dal summary possiamo notare che l'effetto di Omofilia dell'attributo Partition non risulta essere significativo, quindi procediamo a togliere tale effetto dal nostro modello"
   ]
  },
  {
   "cell_type": "code",
   "execution_count": 32,
   "metadata": {
    "vscode": {
     "languageId": "r"
    }
   },
   "outputs": [
    {
     "data": {
      "text/plain": [
       "Call:\n",
       "ergm(formula = net ~ edges + mutual + nodecov(\"gdp\") + nodefactor(\"continent\") + \n",
       "    nodefactor(\"partition\") + absdiff(\"gdp\") + nodematch(\"continent\"), \n",
       "    control = control.ergm(seed = 1))\n",
       "\n",
       "Monte Carlo Maximum Likelihood Results:\n",
       "\n",
       "                         Estimate Std. Error MCMC % z value Pr(>|z|)    \n",
       "edges                   3.116e+00  3.353e-01      0   9.294  < 1e-04 ***\n",
       "mutual                 -1.902e+00  1.809e-01      0 -10.515  < 1e-04 ***\n",
       "nodecov.gdp             1.184e-05  4.379e-06      0   2.703  0.00687 ** \n",
       "nodefactor.continent.2 -3.527e-02  1.278e-01      0  -0.276  0.78259    \n",
       "nodefactor.continent.3 -6.300e-01  1.337e-01      0  -4.713  < 1e-04 ***\n",
       "nodefactor.continent.4  9.170e-01  1.590e-01      0   5.769  < 1e-04 ***\n",
       "nodefactor.continent.5  6.947e-01  2.180e-01      0   3.187  0.00144 ** \n",
       "nodefactor.continent.6 -2.337e-02  1.359e-01      0  -0.172  0.86351    \n",
       "nodefactor.partition.2 -2.928e+00  1.355e-01      0 -21.615  < 1e-04 ***\n",
       "nodefactor.partition.3 -4.109e+00  1.943e-01      0 -21.148  < 1e-04 ***\n",
       "absdiff.gdp            -2.313e-05  5.542e-06      0  -4.173  < 1e-04 ***\n",
       "nodematch.continent     2.238e+00  1.214e-01      0  18.444  < 1e-04 ***\n",
       "---\n",
       "Signif. codes:  0 '***' 0.001 '**' 0.01 '*' 0.05 '.' 0.1 ' ' 1\n",
       "\n",
       "     Null Deviance: 8761  on 6320  degrees of freedom\n",
       " Residual Deviance: 3846  on 6308  degrees of freedom\n",
       " \n",
       "AIC: 3870  BIC: 3951  (Smaller is better. MC Std. Err. = 1.15)"
      ]
     },
     "metadata": {},
     "output_type": "display_data"
    }
   ],
   "source": [
    "summary(model_P1_onlyMutual_NodeAttr_noPartitionHomophily)"
   ]
  },
  {
   "cell_type": "markdown",
   "metadata": {
    "vscode": {
     "languageId": "r"
    }
   },
   "source": [
    "Adesso andiamo a comparare i modelli appena calcolati con il modello SRG per verificare quale tra di essi sia il migliore"
   ]
  },
  {
   "cell_type": "code",
   "execution_count": 33,
   "metadata": {
    "vscode": {
     "languageId": "r"
    }
   },
   "outputs": [],
   "source": [
    "table <- data.frame(\n",
    "    Modelli = c(\"model_SRG\", \"model_P1_onlyMutual\", \"model_P1_onlyMutual_NodeAttr\", \"model_P1_onlyMutual_NodeAttr_noPartitionHomophily\"),\n",
    "    BIC = BIC(model_SRG, model_P1_onlyMutual, model_P1_onlyMutual_NodeAttr, model_P1_onlyMutual_NodeAttr_noPartitionHomophily)\n",
    ")\n",
    "createImageFromTable(table, \"images/SRG_and_P1_Models_BIC.png\", 1350, 350, 230)"
   ]
  },
  {
   "cell_type": "markdown",
   "metadata": {},
   "source": [
    "![](images/SRG_and_P1_Models_BIC.png)"
   ]
  },
  {
   "cell_type": "markdown",
   "metadata": {},
   "source": [
    "\"model_P1_onlyMutual_NodeAttr\" e \"model_P1_onlyMutual_NodeAttr_noPartitionHomophily\" sono i due modelli migliori e differiscono tra di loro di veramente pochi punti, ragion per cui per decidere il miglior modello P1 confronteremo l'abilità di questi modelli nel simulare le statistiche di rete e le statistiche nodali."
   ]
  },
  {
   "cell_type": "code",
   "execution_count": 34,
   "metadata": {
    "vscode": {
     "languageId": "r"
    }
   },
   "outputs": [],
   "source": [
    "sim1 <- suppressMessages(simulate(model_P1_onlyMutual_NodeAttr, nsim = 100, verbose = TRUE, seed = 1))\n",
    "\n",
    "null.distr1 <- matrix(,100,4)\n",
    "for(b in 1:100){\n",
    "\tnull.distr1[b,] <- extractInformationsFromGraph(sim1[[b]])\n",
    "}\n",
    "\n",
    "sim2 <- suppressMessages((simulate(model_P1_onlyMutual_NodeAttr_noPartitionHomophily, nsim = 100, verbose = TRUE, seed = 1)))\n",
    "\n",
    "null.distr2 <- matrix(,100,4)\n",
    "for(b in 1:100){\n",
    "\tnull.distr2[b,] <- extractInformationsFromGraph(sim2[[b]])\n",
    "}\n"
   ]
  },
  {
   "cell_type": "code",
   "execution_count": 35,
   "metadata": {
    "vscode": {
     "languageId": "r"
    }
   },
   "outputs": [],
   "source": [
    "png(\"images/model_P1_onlyMutual_NodeAttr_VS_model_P1_onlyMutual_NodeAttr_noPartitionHomophily__Part1.png\", width = 1000, height = 1000, res = 150)\n",
    "par(mfrow = c(4,1))\n",
    "hist(unlist(null.distr1[,2]), xlab = \"in-degree\", xlim = c(2,12), main = \"In Degree Distribution with Partition Homophily\"); abline(v = sd(degree(g, mode = \"in\")), col = \"red\")\n",
    "hist(unlist(null.distr2[,2]), xlab = \"in-degree\", xlim = c(2,12), main = \"In Degree Distribution without Partition Homophily\"); abline(v = sd(degree(g, mode = \"in\")), col = \"red\")\n",
    "hist(unlist(null.distr1[,3]), xlab = \"out-degree\", xlim=c(5, 22), main = \"Out Degree Distribution with Partition Homophily\"); abline(v = sd(degree(g, mode = \"out\")), col = \"red\")\n",
    "hist(unlist(null.distr2[,3]), xlab = \"out-degree\", xlim=c(5, 22), main = \"Out Degree Distribution without Partition Homophily\"); abline(v = sd(degree(g, mode = \"out\")), col = \"red\")\n",
    "invisible(dev.off())\n",
    "\n",
    "png(\"images/model_P1_onlyMutual_NodeAttr_VS_model_P1_onlyMutual_NodeAttr_noPartitionHomophily__Part2.png\", width = 1000, height = 1000, res = 150)\n",
    "par(mfrow = c(4,1))\n",
    "hist(unlist(null.distr1[,1]), xlab = \"transitivity\", xlim=c(0.4, 0.5), main = \"Transitivity Distribution with Partition Homophily\"); abline(v = transitivity(g), col = \"red\")\n",
    "hist(unlist(null.distr2[,1]), xlab = \"transitivity\", xlim=c(0.4, 0.5), main = \"Transitivity Distribution without Partition Homophily\"); abline(v = transitivity(g), col = \"red\")\n",
    "hist(unlist(null.distr1[,4]), xlab = \"density\", main = \"Density Distribution with Partition Homophily\"); abline(v = edge_density(g), col = \"red\")\n",
    "hist(unlist(null.distr2[,4]), xlab = \"density\", main = \"Density Distribution without Partition Homophily\"); abline(v = edge_density(g), col = \"red\")\n",
    "invisible(dev.off())\n"
   ]
  },
  {
   "cell_type": "markdown",
   "metadata": {
    "vscode": {
     "languageId": "html"
    }
   },
   "source": [
    "![](images/model_P1_onlyMutual_NodeAttr_VS_model_P1_onlyMutual_NodeAttr_noPartitionHomophily__Part1.png)\n",
    "\n",
    "![](images/model_P1_onlyMutual_NodeAttr_VS_model_P1_onlyMutual_NodeAttr_noPartitionHomophily__Part2.png)"
   ]
  },
  {
   "cell_type": "markdown",
   "metadata": {},
   "source": [
    "Apparentemente dai metodi di valutazione AIC e BIC viene da pensare che questi ultimi due modelli siano migliori del modello SRG ma a quanto pare perdiamo la capacità di catturare la In-Degree della nostra Rete."
   ]
  },
  {
   "cell_type": "markdown",
   "metadata": {},
   "source": [
    "### Markov Graph Model\n",
    "\n",
    "Poi abbiamo provato a generare modelli di Markov, ma sfortunatamente molti di essi hanno dato Degeneracy Problems.\n",
    "\n",
    "L'unico modello di Markov che siamo riusciti a calcolare è stato il modello che utilizzava soltanto le 2 Star in Input."
   ]
  },
  {
   "cell_type": "code",
   "execution_count": 36,
   "metadata": {
    "vscode": {
     "languageId": "r"
    }
   },
   "outputs": [
    {
     "data": {
      "text/plain": [
       "Call:\n",
       "ergm(formula = net ~ edges + mutual + nodecov(\"gdp\") + nodefactor(\"continent\") + \n",
       "    nodefactor(\"partition\") + absdiff(\"gdp\") + nodematch(\"continent\") + \n",
       "    nodematch(\"partition\") + istar(2), control = control.ergm(seed = 1, \n",
       "    checkpoint = \"mod3_onlyIStar2/step_%03d.RData\"))\n",
       "\n",
       "Monte Carlo Maximum Likelihood Results:\n",
       "\n",
       "                         Estimate Std. Error MCMC % z value Pr(>|z|)    \n",
       "edges                   7.810e+00  5.413e-01      0  14.429  < 1e-04 ***\n",
       "mutual                 -1.002e+00  1.923e-01      0  -5.212  < 1e-04 ***\n",
       "nodecov.gdp             1.382e-05  5.058e-06      0   2.733  0.00628 ** \n",
       "nodefactor.continent.2  2.519e-01  1.684e-01      0   1.496  0.13461    \n",
       "nodefactor.continent.3 -3.721e-01  1.718e-01      0  -2.166  0.03027 *  \n",
       "nodefactor.continent.4  1.652e+00  2.226e-01      0   7.423  < 1e-04 ***\n",
       "nodefactor.continent.5  1.079e+00  2.653e-01      0   4.067  < 1e-04 ***\n",
       "nodefactor.continent.6  8.533e-02  1.771e-01      0   0.482  0.62992    \n",
       "nodefactor.partition.2 -3.309e+00  1.575e-01      0 -21.006  < 1e-04 ***\n",
       "nodefactor.partition.3 -5.518e+00  2.456e-01      0 -22.473  < 1e-04 ***\n",
       "absdiff.gdp            -2.757e-05  5.550e-06      0  -4.967  < 1e-04 ***\n",
       "nodematch.continent     2.236e+00  1.229e-01      0  18.199  < 1e-04 ***\n",
       "nodematch.partition    -2.008e-01  1.349e-01      0  -1.488  0.13667    \n",
       "istar2                 -3.572e-01  3.157e-02      0 -11.315  < 1e-04 ***\n",
       "---\n",
       "Signif. codes:  0 '***' 0.001 '**' 0.01 '*' 0.05 '.' 0.1 ' ' 1\n",
       "\n",
       "     Null Deviance: 8761  on 6320  degrees of freedom\n",
       " Residual Deviance: 3404  on 6306  degrees of freedom\n",
       " \n",
       "AIC: 3432  BIC: 3527  (Smaller is better. MC Std. Err. = 3.166)"
      ]
     },
     "metadata": {},
     "output_type": "display_data"
    }
   ],
   "source": [
    "summary(model_Markov_onlyIStar2)"
   ]
  },
  {
   "cell_type": "markdown",
   "metadata": {},
   "source": [
    "Dal summary possiamo notare che l'effetto di omofilia rispetto alla partizione non è significativa, quindi possiamo provare a ricalcolare il modello togliendo tale effetto e verificare se questo migliori oppure no"
   ]
  },
  {
   "cell_type": "code",
   "execution_count": 37,
   "metadata": {
    "vscode": {
     "languageId": "r"
    }
   },
   "outputs": [
    {
     "data": {
      "text/plain": [
       "Call:\n",
       "ergm(formula = net ~ edges + mutual + nodecov(\"gdp\") + nodefactor(\"continent\") + \n",
       "    nodefactor(\"partition\") + absdiff(\"gdp\") + nodematch(\"continent\") + \n",
       "    istar(2), control = control.ergm(seed = 1))\n",
       "\n",
       "Monte Carlo Maximum Likelihood Results:\n",
       "\n",
       "                         Estimate Std. Error MCMC % z value Pr(>|z|)    \n",
       "edges                   7.849e+00  5.324e-01      0  14.744  < 1e-04 ***\n",
       "mutual                 -1.002e+00  1.959e-01      0  -5.113  < 1e-04 ***\n",
       "nodecov.gdp             1.365e-05  5.215e-06      0   2.617  0.00888 ** \n",
       "nodefactor.continent.2  2.616e-01  1.669e-01      0   1.568  0.11699    \n",
       "nodefactor.continent.3 -3.625e-01  1.716e-01      0  -2.112  0.03465 *  \n",
       "nodefactor.continent.4  1.645e+00  2.208e-01      0   7.451  < 1e-04 ***\n",
       "nodefactor.continent.5  1.073e+00  2.670e-01      0   4.019  < 1e-04 ***\n",
       "nodefactor.continent.6  8.907e-02  1.746e-01      0   0.510  0.60988    \n",
       "nodefactor.partition.2 -3.405e+00  1.396e-01      0 -24.391  < 1e-04 ***\n",
       "nodefactor.partition.3 -5.521e+00  2.440e-01      0 -22.627  < 1e-04 ***\n",
       "absdiff.gdp            -2.659e-05  5.517e-06      0  -4.819  < 1e-04 ***\n",
       "nodematch.continent     2.207e+00  1.196e-01      0  18.453  < 1e-04 ***\n",
       "istar2                 -3.585e-01  3.106e-02      0 -11.542  < 1e-04 ***\n",
       "---\n",
       "Signif. codes:  0 '***' 0.001 '**' 0.01 '*' 0.05 '.' 0.1 ' ' 1\n",
       "\n",
       "     Null Deviance: 8761  on 6320  degrees of freedom\n",
       " Residual Deviance: 3398  on 6307  degrees of freedom\n",
       " \n",
       "AIC: 3424  BIC: 3511  (Smaller is better. MC Std. Err. = 3.975)"
      ]
     },
     "metadata": {},
     "output_type": "display_data"
    }
   ],
   "source": [
    "summary(model_Markov_onlyIStar2_noPartitionHomophily)"
   ]
  },
  {
   "cell_type": "markdown",
   "metadata": {},
   "source": [
    "Poi abbiamo provato ad utilizzare la variante delle Alternating K-Star per ridurre la probabilità che i modelli di Markov degenerasserò, sfortunatamente però alcuni modelli hanno comunque dato problemi di degenerazione.<br>\n",
    "Siamo stati in grado di calcolare solo due modelli:\n",
    "\n",
    "- Il primo modello tiene in considerazione le Alternating K-Star in Ingresso (model_Markov_onlyAlterantingInKStar)\n",
    "- Il secondo modello tiene in considerazione le Alternating K-Star in Uscita (model_Markov_onlyAlternatingOutKStar)"
   ]
  },
  {
   "cell_type": "code",
   "execution_count": 38,
   "metadata": {
    "vscode": {
     "languageId": "r"
    }
   },
   "outputs": [
    {
     "data": {
      "text/plain": [
       "Call:\n",
       "ergm(formula = net ~ edges + mutual + nodecov(\"gdp\") + nodefactor(\"continent\") + \n",
       "    nodefactor(\"partition\") + absdiff(\"gdp\") + nodematch(\"continent\") + \n",
       "    nodematch(\"partition\") + +gwidegree(decay = 1, fixed = TRUE), \n",
       "    control = control.ergm(seed = 1))\n",
       "\n",
       "Monte Carlo Maximum Likelihood Results:\n",
       "\n",
       "                         Estimate Std. Error MCMC % z value Pr(>|z|)    \n",
       "edges                   2.353e+00  3.952e-01      0   5.955   <1e-04 ***\n",
       "mutual                 -1.759e+00  1.827e-01      0  -9.629   <1e-04 ***\n",
       "nodecov.gdp             1.222e-05  4.826e-06      0   2.532   0.0113 *  \n",
       "nodefactor.continent.2  2.153e-01  1.604e-01      0   1.342   0.1797    \n",
       "nodefactor.continent.3 -3.934e-01  1.668e-01      0  -2.358   0.0184 *  \n",
       "nodefactor.continent.4  1.459e+00  2.107e-01      0   6.926   <1e-04 ***\n",
       "nodefactor.continent.5  1.007e+00  2.577e-01      0   3.908   <1e-04 ***\n",
       "nodefactor.continent.6  5.868e-02  1.744e-01      0   0.337   0.7365    \n",
       "nodefactor.partition.2 -3.022e+00  1.570e-01      0 -19.245   <1e-04 ***\n",
       "nodefactor.partition.3 -5.065e+00  2.419e-01      0 -20.937   <1e-04 ***\n",
       "absdiff.gdp            -2.561e-05  5.554e-06      0  -4.611   <1e-04 ***\n",
       "nodematch.continent     2.250e+00  1.242e-01      0  18.122   <1e-04 ***\n",
       "nodematch.partition    -1.546e-01  1.357e-01      0  -1.139   0.2546    \n",
       "gwideg.fixed.1          6.138e+01  7.741e+00      0   7.930   <1e-04 ***\n",
       "---\n",
       "Signif. codes:  0 '***' 0.001 '**' 0.01 '*' 0.05 '.' 0.1 ' ' 1\n",
       "\n",
       "     Null Deviance: 8761  on 6320  degrees of freedom\n",
       " Residual Deviance: 3684  on 6306  degrees of freedom\n",
       " \n",
       "AIC: 3712  BIC: 3807  (Smaller is better. MC Std. Err. = 1.53)"
      ]
     },
     "metadata": {},
     "output_type": "display_data"
    }
   ],
   "source": [
    "summary(model_Markov_onlyAlternatingInKStar)"
   ]
  },
  {
   "cell_type": "code",
   "execution_count": 39,
   "metadata": {
    "vscode": {
     "languageId": "r"
    }
   },
   "outputs": [
    {
     "data": {
      "text/plain": [
       "Call:\n",
       "ergm(formula = net ~ edges + mutual + nodecov(\"gdp\") + nodefactor(\"continent\") + \n",
       "    nodefactor(\"partition\") + absdiff(\"gdp\") + nodematch(\"continent\") + \n",
       "    nodematch(\"partition\") + +gwodegree(decay = 1, fixed = TRUE), \n",
       "    control = control.ergm(seed = 1), verbose = 3)\n",
       "\n",
       "Monte Carlo Maximum Likelihood Results:\n",
       "\n",
       "                         Estimate Std. Error MCMC % z value Pr(>|z|)    \n",
       "edges                   3.548e+00  2.707e-01      0  13.107  < 1e-04 ***\n",
       "mutual                 -1.616e+00  1.798e-01      0  -8.985  < 1e-04 ***\n",
       "nodecov.gdp             5.457e-06  2.979e-06      0   1.832 0.066966 .  \n",
       "nodefactor.continent.2 -2.627e-01  7.186e-02      0  -3.655 0.000257 ***\n",
       "nodefactor.continent.3 -7.824e-01  8.143e-02      0  -9.609  < 1e-04 ***\n",
       "nodefactor.continent.4  5.782e-01  1.295e-01      0   4.463  < 1e-04 ***\n",
       "nodefactor.continent.5  4.714e-01  1.453e-01      0   3.244 0.001178 ** \n",
       "nodefactor.continent.6 -1.768e-01  7.481e-02      0  -2.363 0.018131 *  \n",
       "nodefactor.partition.2 -2.605e+00  1.469e-01      0 -17.730  < 1e-04 ***\n",
       "nodefactor.partition.3 -3.353e+00  1.866e-01      0 -17.970  < 1e-04 ***\n",
       "absdiff.gdp            -2.128e-05  5.400e-06      0  -3.941  < 1e-04 ***\n",
       "nodematch.continent     2.500e+00  1.287e-01      0  19.421  < 1e-04 ***\n",
       "nodematch.partition    -2.509e-01  1.434e-01      0  -1.750 0.080126 .  \n",
       "gwodeg.fixed.1         -6.408e+00  2.510e-01      0 -25.530  < 1e-04 ***\n",
       "---\n",
       "Signif. codes:  0 '***' 0.001 '**' 0.01 '*' 0.05 '.' 0.1 ' ' 1\n",
       "\n",
       "     Null Deviance: 8761  on 6320  degrees of freedom\n",
       " Residual Deviance: 3199  on 6306  degrees of freedom\n",
       " \n",
       "AIC: 3227  BIC: 3321  (Smaller is better. MC Std. Err. = 0.9433)"
      ]
     },
     "metadata": {},
     "output_type": "display_data"
    }
   ],
   "source": [
    "summary(model_Markov_onlyAlternatingOutKStar)"
   ]
  },
  {
   "cell_type": "markdown",
   "metadata": {},
   "source": [
    "Dai dati sopra possiamo notare come:\n",
    "\n",
    "- Il primo modello risulta dare poca significatività all'effetto di omofilia della Partizione\n",
    "- Il secondo modello risulta dare poca significatività all'effetto principale dell'attributo GDP e all'effetto di omofilia della Partizione\n",
    "\n",
    "Possiamo provare a rimuovere tali effetti dai modelli e verificare se sussiste un miglioramento dei modelli oppure no"
   ]
  },
  {
   "cell_type": "code",
   "execution_count": 40,
   "metadata": {
    "vscode": {
     "languageId": "r"
    }
   },
   "outputs": [
    {
     "data": {
      "text/plain": [
       "Call:\n",
       "ergm(formula = net ~ edges + mutual + nodecov(\"gdp\") + nodefactor(\"continent\") + \n",
       "    nodefactor(\"partition\") + absdiff(\"gdp\") + nodematch(\"continent\") + \n",
       "    gwidegree(decay = 1, fixed = TRUE), control = control.ergm(seed = 1))\n",
       "\n",
       "Monte Carlo Maximum Likelihood Results:\n",
       "\n",
       "                         Estimate Std. Error MCMC % z value Pr(>|z|)    \n",
       "edges                   2.399e+00  3.964e-01      0   6.052  < 1e-04 ***\n",
       "mutual                 -1.756e+00  1.810e-01      0  -9.703  < 1e-04 ***\n",
       "nodecov.gdp             1.209e-05  4.717e-06      0   2.564 0.010361 *  \n",
       "nodefactor.continent.2  2.149e-01  1.627e-01      0   1.321 0.186506    \n",
       "nodefactor.continent.3 -3.838e-01  1.685e-01      0  -2.278 0.022718 *  \n",
       "nodefactor.continent.4  1.450e+00  2.147e-01      0   6.756  < 1e-04 ***\n",
       "nodefactor.continent.5  9.971e-01  2.615e-01      0   3.813 0.000137 ***\n",
       "nodefactor.continent.6  6.639e-02  1.783e-01      0   0.372 0.709680    \n",
       "nodefactor.partition.2 -3.105e+00  1.347e-01      0 -23.049  < 1e-04 ***\n",
       "nodefactor.partition.3 -5.101e+00  2.359e-01      0 -21.622  < 1e-04 ***\n",
       "absdiff.gdp            -2.491e-05  5.554e-06      0  -4.485  < 1e-04 ***\n",
       "nodematch.continent     2.229e+00  1.217e-01      0  18.308  < 1e-04 ***\n",
       "gwideg.fixed.1          6.106e+01  7.742e+00      0   7.887  < 1e-04 ***\n",
       "---\n",
       "Signif. codes:  0 '***' 0.001 '**' 0.01 '*' 0.05 '.' 0.1 ' ' 1\n",
       "\n",
       "     Null Deviance: 8761  on 6320  degrees of freedom\n",
       " Residual Deviance: 3686  on 6307  degrees of freedom\n",
       " \n",
       "AIC: 3712  BIC: 3800  (Smaller is better. MC Std. Err. = 0.9847)"
      ]
     },
     "metadata": {},
     "output_type": "display_data"
    }
   ],
   "source": [
    "summary(model_Markov_onlyAlternatingInKStar_noPartitionHomophily)"
   ]
  },
  {
   "cell_type": "code",
   "execution_count": 41,
   "metadata": {
    "vscode": {
     "languageId": "r"
    }
   },
   "outputs": [
    {
     "data": {
      "text/plain": [
       "Call:\n",
       "ergm(formula = net ~ edges + mutual + nodefactor(\"continent\") + \n",
       "    nodefactor(\"partition\") + absdiff(\"gdp\") + nodematch(\"continent\") + \n",
       "    +gwodegree(decay = 1, fixed = TRUE), control = control.ergm(seed = 1), \n",
       "    verbose = 3)\n",
       "\n",
       "Monte Carlo Maximum Likelihood Results:\n",
       "\n",
       "                         Estimate Std. Error MCMC % z value Pr(>|z|)    \n",
       "edges                   3.723e+00  2.656e-01      0  14.018  < 1e-04 ***\n",
       "mutual                 -1.582e+00  1.752e-01      0  -9.027  < 1e-04 ***\n",
       "nodefactor.continent.2 -2.492e-01  7.642e-02      0  -3.261 0.001110 ** \n",
       "nodefactor.continent.3 -7.339e-01  8.017e-02      0  -9.155  < 1e-04 ***\n",
       "nodefactor.continent.4  5.730e-01  1.313e-01      0   4.363  < 1e-04 ***\n",
       "nodefactor.continent.5  5.377e-01  1.387e-01      0   3.878 0.000105 ***\n",
       "nodefactor.continent.6 -1.568e-01  7.508e-02      0  -2.088 0.036785 *  \n",
       "nodefactor.partition.2 -2.784e+00  1.254e-01      0 -22.191  < 1e-04 ***\n",
       "nodefactor.partition.3 -3.457e+00  1.807e-01      0 -19.137  < 1e-04 ***\n",
       "absdiff.gdp            -1.747e-05  5.075e-06      0  -3.442 0.000577 ***\n",
       "nodematch.continent     2.483e+00  1.293e-01      0  19.208  < 1e-04 ***\n",
       "gwodeg.fixed.1         -6.425e+00  2.514e-01      0 -25.552  < 1e-04 ***\n",
       "---\n",
       "Signif. codes:  0 '***' 0.001 '**' 0.01 '*' 0.05 '.' 0.1 ' ' 1\n",
       "\n",
       "     Null Deviance: 8761  on 6320  degrees of freedom\n",
       " Residual Deviance: 3201  on 6308  degrees of freedom\n",
       " \n",
       "AIC: 3225  BIC: 3306  (Smaller is better. MC Std. Err. = 1.254)"
      ]
     },
     "metadata": {},
     "output_type": "display_data"
    }
   ],
   "source": [
    "summary(model_Markov_onlyAlternatingOutKStar_noPartitionHomophily_noGDPMain)"
   ]
  },
  {
   "cell_type": "code",
   "execution_count": 42,
   "metadata": {
    "vscode": {
     "languageId": "r"
    }
   },
   "outputs": [],
   "source": [
    "table <- data.frame(\n",
    "\tModelli = c(\"model_Markov_onlyIStar2\", \"model_Markov_onlyIStar2_noPartitionHomophily\", \"model_Markov_onlyAlternatingOutKStar\", \"model_Markov_onlyAlternatingOutKStar_noPartitionHomophily_noGDPMain\", \"model_Markov_onlyAlternatingInKStar\", \"model_Markov_onlyAlternatingInKStar_noPartitionHomophily\"),\n",
    "\tBIC = BIC(model_Markov_onlyIStar2, model_Markov_onlyIStar2_noPartitionHomophily, model_Markov_onlyAlternatingOutKStar, model_Markov_onlyAlternatingOutKStar_noPartitionHomophily_noGDPMain, model_Markov_onlyAlternatingInKStar, model_Markov_onlyAlternatingInKStar_noPartitionHomophily)\n",
    ")\n",
    "createImageFromTable(table, \"images/markovModels_BIC.png\", 1700, 470, 230)"
   ]
  },
  {
   "cell_type": "markdown",
   "metadata": {},
   "source": [
    "![](images/markovModels_BIC.png)"
   ]
  },
  {
   "cell_type": "markdown",
   "metadata": {},
   "source": [
    "A quanto pare i modelli migliori risultano essere 'model_Markov_onlyAlternatingOutKStar' e 'model_Markov_onlyAlternatingOutKStar_noPartitionHomophily_noGDPMain', adesso proviamo a simularli e verificare quale dei due modelli riesce a catturare meglio le statistiche di rete e le statistiche nodali."
   ]
  },
  {
   "cell_type": "code",
   "execution_count": 43,
   "metadata": {
    "vscode": {
     "languageId": "r"
    }
   },
   "outputs": [],
   "source": [
    "sim3 <- suppressMessages(simulate(model_Markov_onlyAlternatingOutKStar, nsim = 100, verbose = TRUE, seed = 1))\n",
    "\n",
    "null.distr3 <- matrix(,100,4)\n",
    "for(b in 1:100){\n",
    "\tnull.distr3[b,] <- extractInformationsFromGraph(sim3[[b]])\n",
    "}\n",
    "\n",
    "sim4 <- suppressMessages((simulate(model_Markov_onlyAlternatingOutKStar_noPartitionHomophily_noGDPMain, nsim = 100, verbose = TRUE, seed = 1)))\n",
    "\n",
    "null.distr4 <- matrix(,100,4)\n",
    "for(b in 1:100){\n",
    "\tnull.distr4[b,] <- extractInformationsFromGraph(sim4[[b]])\n",
    "}"
   ]
  },
  {
   "cell_type": "code",
   "execution_count": 44,
   "metadata": {
    "vscode": {
     "languageId": "r"
    }
   },
   "outputs": [],
   "source": [
    "png(\"images/model_Markov_onlyAlternatingOutKStar_VS_model_Markov_onlyAlternatingOutKStar_noPartitionHomophily_noGDPMain__Part1.png\", width = 1000, height = 1000, res = 150)\n",
    "par(mfrow = c(4,1))\n",
    "hist(unlist(null.distr3[,2]), xlab = \"in-degree\", xlim = c(2,10), main = \"In Degree Distribution with GDP Main and Partition Homophily\"); abline(v = sd(degree(g, mode = \"in\")), col = \"red\")\n",
    "hist(unlist(null.distr4[,2]), xlab = \"in-degree\", xlim = c(2,10), main = \"In Degree Distribution without GDP Main and Partition Homophily\"); abline(v = sd(degree(g, mode = \"in\")), col = \"red\")\n",
    "hist(unlist(null.distr3[,3]), xlab = \"out-degree\", xlim = c(12, 20), main = \"Out Degree Distribution with GDP Main and Partition Homophily\"); abline(v = sd(degree(g, mode = \"out\")), col = \"red\")\n",
    "hist(unlist(null.distr4[,3]), xlab = \"out-degree\", xlim = c(12, 20), main = \"Out Degree Distribution without GDP Main and Partition Homophily\"); abline(v = sd(degree(g, mode = \"out\")), col = \"red\")\n",
    "invisible(dev.off())\n",
    "\n",
    "png(\"images/model_Markov_onlyAlternatingOutKStar_VS_model_Markov_onlyAlternatingOutKStar_noPartitionHomophily_noGDPMain__Part2.png\", width = 1000, height = 1000, res = 150)\n",
    "par(mfrow = c(4,1))\n",
    "hist(unlist(null.distr3[,1]), xlab = \"transitivity\", xlim = c(0.40, 0.48), main = \"Transitivity Distribution with GDP Main and Partition Homophily\"); abline(v = transitivity(g), col = \"red\")\n",
    "hist(unlist(null.distr4[,1]), xlab = \"transitivity\", xlim = c(0.40, 0.48), main = \"Transitivity Distribution without GDP Main and Partition Homophily\"); abline(v = transitivity(g), col = \"red\")\n",
    "hist(unlist(null.distr3[,4]), xlab = \"density\", xlim = c(0.13, 0.19), main = \"Density Distribution with GDP Main and Partition Homophily\"); abline(v = edge_density(g), col = \"red\")\n",
    "hist(unlist(null.distr4[,4]), xlab = \"density\", xlim = c(0.13, 0.19), main = \"Density Distribution without GDP Main and Partition Homophily\"); abline(v = edge_density(g), col = \"red\")\n",
    "invisible(dev.off())"
   ]
  },
  {
   "cell_type": "markdown",
   "metadata": {},
   "source": [
    "![](images/model_Markov_onlyAlternatingOutKStar_VS_model_Markov_onlyAlternatingOutKStar_noPartitionHomophily_noGDPMain__Part1.png)\n",
    "\n",
    "![](images/model_Markov_onlyAlternatingOutKStar_VS_model_Markov_onlyAlternatingOutKStar_noPartitionHomophily_noGDPMain__Part2.png)"
   ]
  },
  {
   "cell_type": "markdown",
   "metadata": {},
   "source": [
    "I due modelli si comportano in modo molto simile. Il modello che scegliamo è il secondo (per via della minore complessità)."
   ]
  },
  {
   "cell_type": "markdown",
   "metadata": {},
   "source": [
    "### Social Circuit Model\n",
    "\n",
    "Infine abbiamo provato a generare dei modelli basati sulle condizioni del Social Circuit, ma sfortunatamente alcuni di essi hanno dato Degeneracy Problems.<br>\n",
    "Siamo stati in grado di generare soltanto un modello basato sulle K-2 Paths."
   ]
  },
  {
   "cell_type": "code",
   "execution_count": 45,
   "metadata": {
    "vscode": {
     "languageId": "r"
    }
   },
   "outputs": [
    {
     "data": {
      "text/plain": [
       "Call:\n",
       "ergm(formula = net ~ edges + mutual + nodecov(\"gdp\") + nodefactor(\"continent\") + \n",
       "    nodefactor(\"partition\") + absdiff(\"gdp\") + nodematch(\"continent\") + \n",
       "    nodematch(\"partition\") + gwdsp(decay = 1, fixed = T), control = control.ergm(seed = 1), \n",
       "    verbose = 2)\n",
       "\n",
       "Monte Carlo Maximum Likelihood Results:\n",
       "\n",
       "                         Estimate Std. Error MCMC % z value Pr(>|z|)    \n",
       "edges                   3.841e+00  3.459e-01      0  11.104   <1e-04 ***\n",
       "mutual                 -1.302e-01  1.851e-01      0  -0.704   0.4816    \n",
       "nodecov.gdp             3.804e-06  3.636e-06      0   1.046   0.2954    \n",
       "nodefactor.continent.2  3.563e-02  1.217e-01      0   0.293   0.7696    \n",
       "nodefactor.continent.3 -7.404e-01  1.274e-01      0  -5.812   <1e-04 ***\n",
       "nodefactor.continent.4  1.028e+00  1.572e-01      0   6.540   <1e-04 ***\n",
       "nodefactor.continent.5  7.795e-01  1.803e-01      0   4.323   <1e-04 ***\n",
       "nodefactor.continent.6  2.247e-02  1.263e-01      0   0.178   0.8588    \n",
       "nodefactor.partition.2 -2.547e+00  1.621e-01      0 -15.709   <1e-04 ***\n",
       "nodefactor.partition.3 -4.068e+00  1.931e-01      0 -21.069   <1e-04 ***\n",
       "absdiff.gdp            -9.804e-06  4.931e-06      0  -1.988   0.0468 *  \n",
       "nodematch.continent     2.243e+00  1.192e-01      0  18.813   <1e-04 ***\n",
       "nodematch.partition    -8.017e-01  1.467e-01      0  -5.466   <1e-04 ***\n",
       "gwdsp.OTP.fixed.1      -1.272e-01  5.888e-03      0 -21.605   <1e-04 ***\n",
       "---\n",
       "Signif. codes:  0 '***' 0.001 '**' 0.01 '*' 0.05 '.' 0.1 ' ' 1\n",
       "\n",
       "     Null Deviance: 8761  on 6320  degrees of freedom\n",
       " Residual Deviance: 2985  on 6306  degrees of freedom\n",
       " \n",
       "AIC: 3013  BIC: 3108  (Smaller is better. MC Std. Err. = 1.056)"
      ]
     },
     "metadata": {},
     "output_type": "display_data"
    }
   ],
   "source": [
    "summary(model_SocialCirtcuit_onlyK2Paths)"
   ]
  },
  {
   "cell_type": "markdown",
   "metadata": {},
   "source": [
    "Dal summary si può notare che l'effetto di reciprocità e l'effetto principale del GDP non vengono considerati come significativi, quindi proviamo a calcolare un modello togliendo tali effetti."
   ]
  },
  {
   "cell_type": "code",
   "execution_count": 46,
   "metadata": {
    "vscode": {
     "languageId": "r"
    }
   },
   "outputs": [
    {
     "data": {
      "text/plain": [
       "Call:\n",
       "ergm(formula = net ~ edges + nodefactor(\"continent\") + nodefactor(\"partition\") + \n",
       "    absdiff(\"gdp\") + nodematch(\"continent\") + nodematch(\"partition\") + \n",
       "    gwdsp(decay = 1, fixed = T), control = control.ergm(seed = 1, \n",
       "    checkpoint = \"mod5_gwdsp_2/step_%03d.RData\"), verbose = 2)\n",
       "\n",
       "Monte Carlo Maximum Likelihood Results:\n",
       "\n",
       "                         Estimate Std. Error MCMC % z value Pr(>|z|)    \n",
       "edges                   3.932e+00  3.055e-01      0  12.870   <1e-04 ***\n",
       "nodefactor.continent.2  4.571e-02  1.167e-01      0   0.392   0.6952    \n",
       "nodefactor.continent.3 -7.139e-01  1.235e-01      0  -5.780   <1e-04 ***\n",
       "nodefactor.continent.4  1.028e+00  1.531e-01      0   6.716   <1e-04 ***\n",
       "nodefactor.continent.5  7.981e-01  1.705e-01      0   4.680   <1e-04 ***\n",
       "nodefactor.continent.6  3.193e-02  1.255e-01      0   0.254   0.7992    \n",
       "nodefactor.partition.2 -2.567e+00  1.452e-01      0 -17.682   <1e-04 ***\n",
       "nodefactor.partition.3 -4.086e+00  1.570e-01      0 -26.028   <1e-04 ***\n",
       "absdiff.gdp            -9.242e-06  4.867e-06      0  -1.899   0.0576 .  \n",
       "nodematch.continent     2.210e+00  1.074e-01      0  20.574   <1e-04 ***\n",
       "nodematch.partition    -8.075e-01  1.460e-01      0  -5.530   <1e-04 ***\n",
       "gwdsp.OTP.fixed.1      -1.298e-01  4.480e-03      0 -28.968   <1e-04 ***\n",
       "---\n",
       "Signif. codes:  0 '***' 0.001 '**' 0.01 '*' 0.05 '.' 0.1 ' ' 1\n",
       "\n",
       "     Null Deviance: 8761  on 6320  degrees of freedom\n",
       " Residual Deviance: 2988  on 6308  degrees of freedom\n",
       " \n",
       "AIC: 3012  BIC: 3093  (Smaller is better. MC Std. Err. = 0.8983)"
      ]
     },
     "metadata": {},
     "output_type": "display_data"
    }
   ],
   "source": [
    "summary(model_SocialCirtcuit_onlyK2Paths_NoMutualEffect_NoGDPMain)"
   ]
  },
  {
   "cell_type": "markdown",
   "metadata": {
    "vscode": {
     "languageId": "r"
    }
   },
   "source": [
    "Adesso andiamo a confrontare i modelli appena calcolati con il precedente migliore modello (cioè 'model_Markov_onlyAlternatingOutKStar_noPartitionHomophily_noGDPMain')"
   ]
  },
  {
   "cell_type": "code",
   "execution_count": 47,
   "metadata": {
    "vscode": {
     "languageId": "r"
    }
   },
   "outputs": [],
   "source": [
    "table <- data.frame(\n",
    "    Modelli = c(\"model_Markov_onlyAlternatingOutKStar_noPartitionHomophily_noGDPMain\", \"model_SocialCirtcuit_onlyK2Paths\", \"model_SocialCirtcuit_onlyK2Paths_NoMutualEffect_NoGDPMain\"),\n",
    "    BIC = BIC(model_Markov_onlyAlternatingOutKStar_noPartitionHomophily_noGDPMain, model_SocialCirtcuit_onlyK2Paths, model_SocialCirtcuit_onlyK2Paths_NoMutualEffect_NoGDPMain)\n",
    ")\n",
    "createImageFromTable(table, \"images/socialCircuitModels_BIC.png\", 1700, 300, 230)"
   ]
  },
  {
   "cell_type": "markdown",
   "metadata": {},
   "source": [
    "![](images/socialCircuitModels_BIC.png)"
   ]
  },
  {
   "cell_type": "markdown",
   "metadata": {},
   "source": [
    "I due nuovi modelli sono entrambi migliori del precedente e hanno punteggi molto simili, quindi andiamo a verificare quale dei due riesce a catturare meglio le statistiche di rete e le statistiche nodali"
   ]
  },
  {
   "cell_type": "code",
   "execution_count": 48,
   "metadata": {
    "vscode": {
     "languageId": "r"
    }
   },
   "outputs": [],
   "source": [
    "sim5 <- suppressMessages(simulate(model_SocialCirtcuit_onlyK2Paths, nsim = 100, verbose = TRUE, seed = 1))\n",
    "\n",
    "null.distr5 <- matrix(,100,4)\n",
    "for(b in 1:100){\n",
    "\tnull.distr5[b,] <- extractInformationsFromGraph(sim5[[b]])\n",
    "}\n",
    "\n",
    "sim6 <- suppressMessages((simulate(model_SocialCirtcuit_onlyK2Paths_NoMutualEffect_NoGDPMain, nsim = 100, verbose = TRUE, seed = 1)))\n",
    "\n",
    "null.distr6 <- matrix(,100,4)\n",
    "for(b in 1:100){\n",
    "\tnull.distr6[b,] <- extractInformationsFromGraph(sim6[[b]])\n",
    "}"
   ]
  },
  {
   "cell_type": "code",
   "execution_count": 49,
   "metadata": {
    "vscode": {
     "languageId": "r"
    }
   },
   "outputs": [],
   "source": [
    "png(\"images/model_SocialCirtcuit_onlyK2Paths_VS_model_SocialCirtcuit_onlyK2Paths_NoMutualEffect_NoGDPMain__Part1.png\", width = 1000, height = 1000, res = 150)\n",
    "par(mfrow = c(4,1))\n",
    "hist(unlist(null.distr5[,2]), xlab = \"in-degree\", xlim = c(2,10), main = \"In Degree Distribution with Mutual Effect and GDP Main\"); abline(v = sd(degree(g, mode = \"in\")), col = \"red\")\n",
    "hist(unlist(null.distr6[,2]), xlab = \"in-degree\", xlim = c(0,20), main = \"In Degree Distribution without Mutual Effect and GDP Main\"); abline(v = sd(degree(g, mode = \"in\")), col = \"red\")\n",
    "hist(unlist(null.distr5[,3]), xlab = \"out-degree\", xlim=c(12, 20), main = \"Out Degree Distribution with Mutual Effect and GDP Main\"); abline(v = sd(degree(g, mode = \"out\")), col = \"red\")\n",
    "hist(unlist(null.distr6[,3]), xlab = \"out-degree\", xlim=c(0, 20), main = \"Out Degree Distribution without Mutual Effect and GDP Main\"); abline(v = sd(degree(g, mode = \"out\")), col = \"red\")\n",
    "invisible(dev.off())\n",
    "\n",
    "png(\"images/model_SocialCirtcuit_onlyK2Paths_VS_model_SocialCirtcuit_onlyK2Paths_NoMutualEffect_NoGDPMain__Part2.png\", width = 1000, height = 1000, res = 150)\n",
    "par(mfrow = c(4,1))\n",
    "hist(unlist(null.distr5[,1]), xlab = \"transitivity\", main = \"Transitivity Distribution with Mutual Effect and GDP Main\"); abline(v = transitivity(g), col = \"red\")\n",
    "hist(unlist(null.distr6[,1]), xlab = \"transitivity\", main = \"Transitivity Distribution without Mutual Effect and GDP Main\"); abline(v = transitivity(g), col = \"red\")\n",
    "hist(unlist(null.distr5[,4]), xlab = \"density\", main = \"Density Distribution with Mutual Effect and GDP Main\"); abline(v = edge_density(g), col = \"red\")\n",
    "hist(unlist(null.distr6[,4]), xlab = \"density\", main = \"Density Distribution without Mutual Effect and GDP Main\"); abline(v = edge_density(g), col = \"red\")\n",
    "invisible(dev.off())"
   ]
  },
  {
   "cell_type": "markdown",
   "metadata": {},
   "source": [
    "![](images/model_SocialCirtcuit_onlyK2Paths_VS_model_SocialCirtcuit_onlyK2Paths_NoMutualEffect_NoGDPMain__Part1.png)\n",
    "\n",
    "![](images/model_SocialCirtcuit_onlyK2Paths_VS_model_SocialCirtcuit_onlyK2Paths_NoMutualEffect_NoGDPMain__Part2.png)"
   ]
  },
  {
   "cell_type": "markdown",
   "metadata": {},
   "source": [
    "Anche se secondo il BIC il secondo modello dovrebbe essere leggermente meglio, prendendo in considerazione anche questi istogrammi ci rendiamo conto come il primo modello in realtà sia nettamente superiore rispetto al secondo."
   ]
  },
  {
   "cell_type": "markdown",
   "metadata": {},
   "source": [
    "## Finite Mixtures"
   ]
  },
  {
   "cell_type": "markdown",
   "metadata": {},
   "source": [
    "### Stochastic Block Model"
   ]
  },
  {
   "cell_type": "markdown",
   "metadata": {},
   "source": [
    "Adesso andiamo a calcolare lo Stochastic Block Model per la nostra rete"
   ]
  },
  {
   "cell_type": "code",
   "execution_count": 50,
   "metadata": {
    "vscode": {
     "languageId": "r"
    }
   },
   "outputs": [
    {
     "name": "stdout",
     "output_type": "stream",
     "text": [
      "-> Estimation for 1 groups\n",
      "-> Computation of eigen decomposition used for initalizations\n",
      "\n",
      "-> Pass 1\n",
      "-> Pass 2\n",
      "-> Pass 3\n",
      "-> Pass 4\n"
     ]
    }
   ],
   "source": [
    "png(\"images/estimateSBM.png\", width = 1000, height = 1000, res = 150)\n",
    "sbm1 <- estimateSimpleSBM(as.matrix(Y), \"bernoulli\", dimLabels = 'nations',\n",
    "\t\t\t\t\t\t\t\t\t\t\t\t estimOptions = list(verbosity = 1))\n",
    "invisible(dev.off())"
   ]
  },
  {
   "cell_type": "markdown",
   "metadata": {},
   "source": [
    "![](images/estimateSBM.png)"
   ]
  },
  {
   "cell_type": "markdown",
   "metadata": {},
   "source": [
    "A quanto pare il numero migliore di blocchi per la nostra rete è 6 (che corrisponde al numero di contienti della nostra rete)."
   ]
  },
  {
   "cell_type": "code",
   "execution_count": 51,
   "metadata": {
    "vscode": {
     "languageId": "r"
    }
   },
   "outputs": [
    {
     "data": {
      "text/plain": [
       "Fit of a Simple Stochastic Block Model -- bernoulli variant\n",
       "=====================================================================\n",
       "Dimension = ( 80 ) - ( 6 ) blocks and no covariate(s).\n",
       "=====================================================================\n",
       "* Useful fields \n",
       "  $nbNodes, $modelName, $dimLabels, $nbBlocks, $nbCovariates, $nbDyads\n",
       "  $blockProp, $connectParam, $covarParam, $covarList, $covarEffect \n",
       "  $expectation, $indMemberships, $memberships \n",
       "* R6 and S3 methods \n",
       "  $rNetwork, $rMemberships, $rEdges, plot, print, coef \n",
       "* Additional fields\n",
       "  $probMemberships, $loglik, $ICL, $storedModels, \n",
       "* Additional methods \n",
       "  predict, fitted, $setModel, $reorder "
      ]
     },
     "metadata": {},
     "output_type": "display_data"
    }
   ],
   "source": [
    "sbm1"
   ]
  },
  {
   "cell_type": "code",
   "execution_count": 52,
   "metadata": {
    "vscode": {
     "languageId": "r"
    }
   },
   "outputs": [],
   "source": [
    "m <- matrix(round(sbm1$connectParam$mean, 3), nrow = 6, \n",
    "  byrow = FALSE, \n",
    "  dimnames = list(c(\"B1\", \"B2\", \"B3\", \"B4\", \"B5\", \"B6\"), c(\"B1\", \"B2\", \"B3\", \"B4\", \"B5\", \"B6\")))\n",
    "\n",
    "png(\"images/SBM_HeatMap.png\", width = 1000, height = 1000, res = 150)\n",
    "\n",
    "image(1:nrow(m), 1:ncol(m), t(apply(m, 2, rev)), axes = FALSE, main = \"Matrix Heatmap of SBM\", xlab = \"\", ylab = \"\", zlim = c(0, 1))\n",
    "\n",
    "for(i in 1:nrow(m)) {\n",
    "  for(j in 1:ncol(m)) {\n",
    "    text(i, ncol(m)-j+1, labels = t(m)[i,j], cex = 1.2)\n",
    "  }\n",
    "}\n",
    "\n",
    "mtext(rownames(m), side = 3, at = 1:nrow(m), line = 0.2)\n",
    "mtext(rev(colnames(m)), side = 2, at = 1:ncol(m), line = 0.2)\n",
    "\n",
    "invisible(dev.off())"
   ]
  },
  {
   "cell_type": "markdown",
   "metadata": {},
   "source": [
    "![](images/SBM_HeatMap.png)"
   ]
  },
  {
   "cell_type": "markdown",
   "metadata": {},
   "source": [
    "Analizzando l'Heatmap possiamo dedurre che:\n",
    "\n",
    "- Il Blocco 1, composto da Paesi molto sviluppati (come Germania, Italia e Stati Uniti), invia collegamenti a tutti, specialmente a sé stesso, al Blocco 3 e al Blocco 5.\n",
    "- Il Blocco 2, composto solamente da Paesi europei, invia collegamenti a tutti, anche se in minore quantità rispetto al Blocco 1, specialmente con sé stesso e il Blocco 5.\n",
    "- Il Blocco 3, composto solamente da Paesi asiatici, invia collegamenti principalmente a sé stesso e in minore quantità anche con il Blocco 1 e il Blocco 6.\n",
    "- Il Blocco 4, composto solamente da Paesi Americani, invia pochi collegamenti e principalmente a sé stesso.\n",
    "- Il Blocco 5, composto solamente da Paesi europei, invia pochissimi collegamenti e principalmente a sé stesso, il Blocco 1 e il Blocco 6\n",
    "- Il Blocco 6, composto dai Paesi rimanenti (principlamente poco sviluppati), invia quasi nessun collegamento."
   ]
  },
  {
   "cell_type": "markdown",
   "metadata": {
    "vscode": {
     "languageId": "r"
    }
   },
   "source": [
    "![](imagesWorldMaps/Stochastic_Blockmodel.png)\n",
    "\n",
    "Divisione degli 80 Paesi in base ai Blocchi del SBM"
   ]
  },
  {
   "cell_type": "markdown",
   "metadata": {},
   "source": [
    "# Conclusioni\n"
   ]
  },
  {
   "cell_type": "markdown",
   "metadata": {},
   "source": [
    "Alla fine possiamo trarre la conclusione che esiste una correlazione significativa tra lo scambio di metalli e la ricchezza di un paese. Questo fenomeno può essere attribuito al fatto che nei Paesi più sviluppati economicamente, il costo della manodopera è generalmente più elevato rispetto ai Paesi meno sviluppati. Inoltre, i metalli sono spesso utilizzati come materie prime per l'industria manifatturiera e l'edilizia, settori strettamente legati alla crescita economica. Di conseguenza, risulta più conveniente per i Paesi più ricchi importare i metalli piuttosto che estrarli autonomamente. Tuttavia, è importante sottolineare che ulteriori ricerche e analisi sono necessarie per approfondire la natura di questa relazione e comprendere appieno i fattori che la influenzano."
   ]
  }
 ],
 "metadata": {
  "kernelspec": {
   "display_name": "R",
   "language": "R",
   "name": "ir"
  },
  "language_info": {
   "codemirror_mode": "r",
   "file_extension": ".r",
   "mimetype": "text/x-r-source",
   "name": "R",
   "pygments_lexer": "r",
   "version": "4.3.3"
  }
 },
 "nbformat": 4,
 "nbformat_minor": 4
}
