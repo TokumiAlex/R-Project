{
 "cells": [
  {
   "cell_type": "markdown",
   "metadata": {
    "vscode": {
     "languageId": "r"
    }
   },
   "source": [
    "# Relazione di Web Mining\n",
    "\n",
    "## 1. Introduzione\n",
    "### 1.1 Ambiente di Sviluppo\n",
    "### 1.2 Introduzione alla nostra Rete\n",
    "#### Proprietà della Rete\n",
    "#### Statistiche di Rete\n"
   ]
  },
  {
   "cell_type": "markdown",
   "metadata": {},
   "source": [
    "## 1. Introduzione\n",
    "### 1.1 Ambiente di Sviluppo\n",
    "Nel nostro caso abbiamo deciso di utilizzare come ambiente di sviluppo i Github Codespaces offerti dall'Università, utilizzando delle impostazioni di configurazione manuale per impostare R e Jupiter.\\\n",
    "È possibile trovare le configurazioni da noi utilizzate direttamente nella cartella .devcontainer."
   ]
  },
  {
   "cell_type": "markdown",
   "metadata": {},
   "source": [
    "\n",
    "### 1.2 Introduzione alla nostra Rete\n",
    "La rete da noi scelta (http://vlado.fmf.uni-lj.si/pub/networks/data/esna/metalWT.htm) descrive il commercio di oggetti in metallo tra 80 paesi nel mondo nel 1994. \\\n",
    "Un collegamento $Y_{ij}$ rappresenta le importazioni da un paese ad un altro riguardanti le importazioni di oggetti in metallo, in parole semplici possiamo vedere un collegamento $Y_{ij}$ come la richiesta di oggetti in metallo da parte del nodo $i$ al nodo $j$. \n",
    "#### Proprietà della Rete\n",
    "La nostra rete contiene 80 nodi (paesi) e 1000 collegamenti (linee di commercio) e ogni nodo contiene i seguenti attributi:\n",
    "- Il loro Continente di appartenenza\n",
    "- La loro posizione rispetto alla struttura del sistema mondiale nel 1994\n",
    "- Il loro PIL diviso per il numero di cittadini all'interno di tale paese nel 1995\n",
    "#### Statistiche di Rete\n"
   ]
  },
  {
   "cell_type": "code",
   "execution_count": null,
   "metadata": {
    "vscode": {
     "languageId": "r"
    }
   },
   "outputs": [],
   "source": []
  }
 ],
 "metadata": {
  "language_info": {
   "name": "python"
  }
 },
 "nbformat": 4,
 "nbformat_minor": 2
}
