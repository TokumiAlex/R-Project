{
 "cells": [
  {
   "cell_type": "markdown",
   "metadata": {
    "vscode": {
     "languageId": "r"
    }
   },
   "source": [
    "# Relazione di Web Mining\n",
    "\n",
    "1. Introduzione\n",
    "    1. [Ambiente di Sviluppo](###-1.1-Ambiente-di-Sviluppo)\n",
    "    2. [Introdizuone alla nostra Rete](###-1.2-Introduzione-alla-nostra-Rete)\n",
    "        - Proprietà della Rete\n",
    "        - Statistiche di Rete\n"
   ]
  },
  {
   "cell_type": "markdown",
   "metadata": {},
   "source": [
    "# 1. Introduzione\n",
    "## 1.1 Ambiente di Sviluppo\n",
    "Nel nostro caso abbiamo deciso di utilizzare come ambiente di sviluppo i Github Codespaces offerti dall'Università, utilizzando delle impostazioni di configurazione manuale per impostare R, linguaggio di programmazione utilizzato durante il corso, e Jupiter, un ambiente di sviluppo interattivo con il quale è stata scritta questa relazione.\\\n",
    "Per ottenere un ambiente di sviluppo identico al nostro basta creare una repository di Github, inserire la cartella .devcontainer al suo interno e poi creare un codespace sulla repository."
   ]
  },
  {
   "cell_type": "markdown",
   "metadata": {},
   "source": [
    "\n",
    "## 1.2 Introduzione alla nostra Rete\n",
    "La [rete da noi scelta](http://vlado.fmf.uni-lj.si/pub/networks/data/esna/metalWT.htm) descrive il commercio di oggetti in metallo tra 80 paesi nel mondo nel 1994. \\\n",
    "Un collegamento $Y_{ij}$ rappresenta le importazioni da un paese ad un altro riguardanti oggetti in metallo, in parole semplici possiamo vedere un collegamento $Y_{ij}$ come la richiesta di oggetti in metallo da parte del nodo $i$ al nodo $j$. \n",
    "### Proprietà della Rete\n",
    "La nostra rete contiene 80 nodi (paesi) e 1000 collegamenti (scambi commerciali) e ogni nodo contiene i seguenti attributi:\n",
    "- Il loro Continente di appartenenza\n",
    "- La loro Posizione rispetto alla Struttura del Sistema Mondiale nel 1994\n",
    "- Il loro PIL diviso per il numero di cittadini all'interno di tale paese nel 1995\n",
    "---\n",
    "Dal sito è possibile scaricare soltanto il file 'world_trade.paj' che contiene i nomi delle nazioni, la edge list corrispondente alla nostra rete e gli attributi nodali.\n",
    "Da questo file abbiamo ricavato il file 'edge_list.txt', contenente la lista degli archi della nostra rete, e 'nodes_attr.txt' contenente i nomi e i relativi attributi nodali dei nodi.\n",
    "Dopodiché tramite l'utilizzo della libreria igraph abbiamo impostato la nostra rete in R:\n",
    "\n"
   ]
  },
  {
   "cell_type": "code",
   "execution_count": 67,
   "metadata": {
    "vscode": {
     "languageId": "r"
    }
   },
   "outputs": [],
   "source": [
    "# Rimozione dati dalla sessione di R in caso fossero presenti\n",
    "rm(list = ls())\n",
    "\n",
    "# Abilita l'utilizzo della libreria 'igraph'\n",
    "library(igraph)\n",
    "library(ergm)\n",
    "library(intergraph)\n",
    "library(sbm)\n",
    "library(ggplot2)\n",
    "library(grid)\n",
    "library(gridExtra)"
   ]
  },
  {
   "cell_type": "code",
   "execution_count": 68,
   "metadata": {
    "vscode": {
     "languageId": "r"
    }
   },
   "outputs": [
    {
     "name": "stdout",
     "output_type": "stream",
     "text": [
      "IGRAPH 93401a7 DN-- 80 1000 -- \n",
      "+ attr: continent (v/n), gdp (v/n), world_partition (v/n), xCoordinate\n",
      "| (v/n), yCoordinate (v/n), name (v/c)\n",
      "+ edges from 93401a7 (vertex names):\n",
      " [1] United States->French Guiana France       ->French Guiana\n",
      " [3] Germany      ->French Guiana Italy        ->French Guiana\n",
      " [5] United States->Guadeloupe    Belgium/Lux. ->Guadeloupe   \n",
      " [7] France       ->Guadeloupe    Germany      ->Guadeloupe   \n",
      " [9] Italy        ->Guadeloupe    United States->Norway       \n",
      "[11] Japan        ->Norway        China        ->Norway       \n",
      "[13] Belgium/Lux. ->Norway        Denmark      ->Norway       \n",
      "+ ... omitted several edges\n"
     ]
    }
   ],
   "source": [
    "# Importazione della edge list \n",
    "edgeList <- read.table(\"edge_list.txt\", sep = \"\", head = FALSE)\n",
    "\n",
    "# Importazione degli attributi dei nodi\n",
    "attr <- read.table(\"nodes_attr.txt\", sep = \"\", head = TRUE)\n",
    "\n",
    "# Creazione del grafo e assegnazione degli attributi ai nodi\n",
    "g <- graph_from_edgelist(as.matrix(edgeList), directed = TRUE)\n",
    "V(g)$continent <- attr$Continents\n",
    "V(g)$gdp <- attr$GDP\n",
    "V(g)$world_partition <- attr$World_Partitions\n",
    "V(g)$xCoordinate <- attr$xCoordinates\n",
    "V(g)$yCoordinate <- attr$yCoordinates\n",
    "V(g)$name <- attr$Names\n",
    "\n",
    "print(g)"
   ]
  },
  {
   "cell_type": "markdown",
   "metadata": {},
   "source": [
    "\n",
    "<img src=\"MapChart_Map.png\" alt=\"drawing\" width=\"1400\"/> <br>\n",
    "Questa è una rappresentazione dei nostri 80 paesi divisi in base all'attributo \"Continent\" secondo i nostri dati"
   ]
  },
  {
   "cell_type": "markdown",
   "metadata": {},
   "source": [
    "### Statistiche di Rete\n",
    "Dopodichè tramite l'utilizzo dei seguenti comandi abbiamo calcolato le nostre statistiche di Rete."
   ]
  },
  {
   "cell_type": "code",
   "execution_count": 69,
   "metadata": {
    "vscode": {
     "languageId": "r"
    }
   },
   "outputs": [
    {
     "name": "stdout",
     "output_type": "stream",
     "text": [
      " Name                            Value    \n",
      " Edge Density                    0.1582278\n",
      " Reciprocity                     0.2460000\n",
      " Transitivity                    0.4595687\n",
      " Tau                             4.5239900\n",
      " Assortativity (Continent)       0.3472101\n",
      " Assortativity (GDP)             0.1603055\n",
      " Assortativity (World Partition) 0.1960746\n"
     ]
    },
    {
     "data": {
      "text/plain": [
       "\n",
       "\n",
       "|Name                            |     Value|\n",
       "|:-------------------------------|---------:|\n",
       "|Edge Density                    | 0.1582278|\n",
       "|Reciprocity                     | 0.2460000|\n",
       "|Transitivity                    | 0.4595687|\n",
       "|Tau                             | 4.5239900|\n",
       "|Assortativity (Continent)       | 0.3472101|\n",
       "|Assortativity (GDP)             | 0.1603055|\n",
       "|Assortativity (World Partition) | 0.1960746|"
      ]
     },
     "metadata": {},
     "output_type": "display_data"
    }
   ],
   "source": [
    "# Creazione della matrice di adiacenza relativa al grafo g\n",
    "Y <- as_adjacency_matrix(g)\n",
    "diag(Y) <- NA\n",
    "\n",
    "# Calcolo delle statistiche di rete\n",
    "rho <- edge_density(g)\n",
    "reciprocity <- reciprocity(g)\n",
    "transitivity <- transitivity(g)\n",
    "odd_rho <- rho / (1 - rho)\n",
    "odd_transitivity <- transitivity / (1 - transitivity)\n",
    "tau <- odd_transitivity / odd_rho\n",
    "assortativity_continent <- assortativity(g, V(g)$continent, directed = TRUE)\n",
    "assortativity_gdp <- assortativity(g, V(g)$gdp, directed = TRUE)\n",
    "assortativity_worldpartition <- assortativity(g, V(g)$world_partition, directed = TRUE)\n",
    "\n",
    "# Create a table with names and values\n",
    "table <- data.frame(\n",
    "\tName = c(\"Edge Density\", \"Reciprocity\", \"Transitivity\", \"Tau\", \"Assortativity (Continent)\", \"Assortativity (GDP)\", \"Assortativity (World Partition)\"),\n",
    "\tValue = c(rho, reciprocity, transitivity, tau, assortativity_continent, assortativity_gdp, assortativity_worldpartition)\n",
    ")\n",
    "\n",
    "print.data.frame(table, right = 0, row.names = FALSE)\n",
    "knitr::kable(table)"
   ]
  },
  {
   "cell_type": "markdown",
   "metadata": {},
   "source": [
    "Dall'immagine sopra possiamo estrapolare delle informazioni riguardo alla nostra rete, cioè: \n",
    "- Circa 1/4 delle connessioni è reciprocata.\n",
    "- La transitività nella nostra rete è molto alta, circa 4 volte di più rispetto al caso random.\n",
    "- Il coefficiente di assortatività è positivo per tutti e 3 gli attributi nodali.\n",
    "Con queste informazioni possiamo già dire che la nostra rete ha un'alta tendenza a formare dei cluster (o gruppi)."
   ]
  },
  {
   "cell_type": "markdown",
   "metadata": {},
   "source": [
    "### Statistiche Nodali\n",
    "Per quanto riguarda le Statistiche Nodali, cioè:\n",
    "- In Degree Centrality\n",
    "- Out Degree Centrality\n",
    "- In Closeness Centrality\n",
    "- Out Closeness Centrality\n",
    "- Betweenness Centrality\n",
    "- Eigen-Vector Centrality\n",
    "abbiamo ottenuto i seguenti risultati:"
   ]
  },
  {
   "cell_type": "markdown",
   "metadata": {},
   "source": [
    "#### Degree Centrality\n",
    "Essendo la nostra rete una rete direzionata, dobbiamo osservare sia la In-Degree Centrality che la Out-Degree Centrality."
   ]
  },
  {
   "cell_type": "code",
   "execution_count": 70,
   "metadata": {
    "vscode": {
     "languageId": "r"
    }
   },
   "outputs": [],
   "source": [
    "in_degree <- degree(g, mode = \"in\")\n",
    "out_degree <- degree(g, mode = \"out\")"
   ]
  },
  {
   "cell_type": "markdown",
   "metadata": {},
   "source": [
    "##### In-Degree Centrality\n",
    "I dati da noi ottenuti per la In-Degree Centrality sono i seguenti:"
   ]
  },
  {
   "cell_type": "code",
   "execution_count": 71,
   "metadata": {
    "vscode": {
     "languageId": "r"
    }
   },
   "outputs": [
    {
     "data": {
      "image/png": "[encoded data removed]",
      "text/plain": [
       "Plot with title “Histogram of in_degree”"
      ]
     },
     "metadata": {
      "image/png": {
       "height": 420,
       "width": 420
      }
     },
     "output_type": "display_data"
    }
   ],
   "source": [
    "# Istogramma dell'In Degree Centrality\n",
    "hist(in_degree)"
   ]
  },
  {
   "cell_type": "code",
   "execution_count": 72,
   "metadata": {
    "vscode": {
     "languageId": "r"
    }
   },
   "outputs": [
    {
     "data": {
      "text/plain": [
       "   Min. 1st Qu.  Median    Mean 3rd Qu.    Max. \n",
       "    4.0    10.0    13.0    12.5    15.0    18.0 "
      ]
     },
     "metadata": {},
     "output_type": "display_data"
    }
   ],
   "source": [
    "# Stampo il Summary dell'In Degree Centrality\n",
    "summary(in_degree)"
   ]
  },
  {
   "cell_type": "code",
   "execution_count": 73,
   "metadata": {
    "vscode": {
     "languageId": "r"
    }
   },
   "outputs": [
    {
     "data": {
      "text/plain": [
       "\n",
       "\n",
       "|                | IN_Degree|\n",
       "|:---------------|---------:|\n",
       "|Australia       |        18|\n",
       "|Germany         |        18|\n",
       "|Southern Africa |        18|\n",
       "|Chile           |        17|\n",
       "|Jordan          |        17|"
      ]
     },
     "metadata": {},
     "output_type": "display_data"
    }
   ],
   "source": [
    "# Stampo le 5 Nazioni con In Degree più Alto\n",
    "# matrix(c(V(g)$name[order(in_degree, decreasing = TRUE)[1:5]], in_degree[order(in_degree, decreasing = TRUE)[1:5]]), \n",
    "#     nrow = 2, ncol = 5, byrow = TRUE,\n",
    "#     dimnames = list(c(\"Nazioni\", \"In Degree\"), c(1:5)))\n",
    "\n",
    "# Create a table with names and values\n",
    "table <- data.frame(\n",
    "\tIN_Degree = c(in_degree[order(in_degree, decreasing = TRUE)[1:5]])\n",
    ")\n",
    "\n",
    "#print.data.frame(table, right = 0, row.names = FALSE)\n",
    "knitr::kable(table)\n"
   ]
  },
  {
   "cell_type": "code",
   "execution_count": 74,
   "metadata": {
    "vscode": {
     "languageId": "r"
    }
   },
   "outputs": [
    {
     "data": {
      "text/html": [
       "0.0705015221919564"
      ],
      "text/latex": [
       "0.0705015221919564"
      ],
      "text/markdown": [
       "0.0705015221919564"
      ],
      "text/plain": [
       "[1] 0.07050152"
      ]
     },
     "metadata": {},
     "output_type": "display_data"
    }
   ],
   "source": [
    "# Stampo la centralità della Rete rispetto all'In Degree\n",
    "centr_degree(g, loops = FALSE, mode = \"in\")$centralization"
   ]
  },
  {
   "cell_type": "markdown",
   "metadata": {},
   "source": [
    "Dai dati sopra osservati possiamo giungere alle seguenti conclusioni:\n",
    "- Nella Rete non sono presenti nodi che non ricevono dei collegamenti\n",
    "- Le In Degree sono ben distribuite all'interno della Rete\n",
    "- Il valore di centralizzazione è molto basso, il che implica che la rete non è centralizzata su dei nodi specifici\n",
    " \n"
   ]
  },
  {
   "cell_type": "markdown",
   "metadata": {},
   "source": [
    "##### Out-Degree Centrality\n",
    "Invece per quanto riguarda la Out-Degree Centrality abbiamo ottenuto i seguenti risultati:"
   ]
  },
  {
   "cell_type": "code",
   "execution_count": 75,
   "metadata": {
    "vscode": {
     "languageId": "r"
    }
   },
   "outputs": [
    {
     "data": {
      "image/png": "[encoded data removed]",
      "text/plain": [
       "Plot with title “Histogram of out_degree”"
      ]
     },
     "metadata": {
      "image/png": {
       "height": 420,
       "width": 420
      }
     },
     "output_type": "display_data"
    }
   ],
   "source": [
    "# Istogramma dell'In Degree Centrality\n",
    "hist(out_degree, breaks = 10)"
   ]
  },
  {
   "cell_type": "code",
   "execution_count": 76,
   "metadata": {
    "vscode": {
     "languageId": "r"
    }
   },
   "outputs": [
    {
     "data": {
      "text/plain": [
       "   Min. 1st Qu.  Median    Mean 3rd Qu.    Max. \n",
       "    0.0     0.0     4.0    12.5    13.0    77.0 "
      ]
     },
     "metadata": {},
     "output_type": "display_data"
    }
   ],
   "source": [
    "# Stampo il Summary dell'In Degree Centrality\n",
    "summary(out_degree)"
   ]
  },
  {
   "cell_type": "code",
   "execution_count": 77,
   "metadata": {
    "vscode": {
     "languageId": "r"
    }
   },
   "outputs": [
    {
     "data": {
      "text/plain": [
       "\n",
       "\n",
       "|               | Out_Degree|\n",
       "|:--------------|----------:|\n",
       "|Germany        |         77|\n",
       "|Italy          |         72|\n",
       "|United States  |         72|\n",
       "|United Kingdom |         63|\n",
       "|China          |         57|"
      ]
     },
     "metadata": {},
     "output_type": "display_data"
    }
   ],
   "source": [
    "# Create a table with names and values\n",
    "table <- data.frame(\n",
    "\tOut_Degree = c(out_degree[order(out_degree, decreasing = TRUE)[1:5]])\n",
    ")\n",
    "\n",
    "#print.data.frame(table, right = 0, row.names = FALSE)\n",
    "knitr::kable(table)"
   ]
  },
  {
   "cell_type": "code",
   "execution_count": 78,
   "metadata": {
    "vscode": {
     "languageId": "r"
    }
   },
   "outputs": [
    {
     "data": {
      "text/html": [
       "0.826790578432943"
      ],
      "text/latex": [
       "0.826790578432943"
      ],
      "text/markdown": [
       "0.826790578432943"
      ],
      "text/plain": [
       "[1] 0.8267906"
      ]
     },
     "metadata": {},
     "output_type": "display_data"
    }
   ],
   "source": [
    "# Stampo la centralità della Rete rispetto all'In Degree\n",
    "centr_degree(g, loops = FALSE, mode = \"out\")$centralization"
   ]
  },
  {
   "cell_type": "markdown",
   "metadata": {
    "vscode": {
     "languageId": "r"
    }
   },
   "source": [
    "Dai dati sopra osservati possiamo giungere alle seguenti conclusioni:\n",
    "- La maggior parte dei nodi ha da 0 a 10 nodi uscenti\n",
    "- Le Out Degree all'interno della rete non sono distribuite in modo uniforme\n",
    "- Il valore di Centralizzazione è molto alto, il che indica che la rete dipende da dei nodi in particolare."
   ]
  }
 ],
 "metadata": {
  "kernelspec": {
   "display_name": "R",
   "language": "R",
   "name": "ir"
  },
  "language_info": {
   "codemirror_mode": "r",
   "file_extension": ".r",
   "mimetype": "text/x-r-source",
   "name": "R",
   "pygments_lexer": "r",
   "version": "4.3.3"
  }
 },
 "nbformat": 4,
 "nbformat_minor": 2
}
