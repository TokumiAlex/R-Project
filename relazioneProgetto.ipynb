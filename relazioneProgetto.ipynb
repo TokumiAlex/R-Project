{
 "cells": [
  {
   "cell_type": "markdown",
   "metadata": {
    "vscode": {
     "languageId": "r"
    }
   },
   "source": [
    "# Relazione di Web Mining\n",
    "\n",
    "1. Introduzione\n",
    "    1. [Ambiente di Sviluppo](###-1.1-Ambiente-di-Sviluppo)\n",
    "    2. [Introdizuone alla nostra Rete](###-1.2-Introduzione-alla-nostra-Rete)\n",
    "        - Proprietà della Rete\n",
    "        - Statistiche di Rete\n"
   ]
  },
  {
   "cell_type": "markdown",
   "metadata": {},
   "source": [
    "## 1. Introduzione\n",
    "### 1.1 Ambiente di Sviluppo\n",
    "Nel nostro caso abbiamo deciso di utilizzare come ambiente di sviluppo i Github Codespaces offerti dall'Università, utilizzando delle impostazioni di configurazione manuale per impostare R, linguaggio di programmazione utilizzato durante il corso, e Jupiter, un ambiente di sviluppo interattivo con il quale è stata scritta questa relazione.\\\n",
    "Per ottenere un ambiente di sviluppo identico al nostro basta creare una repository di Github, inserire la cartella .devcontainer al suo interno e poi creare un codespace sulla repository."
   ]
  },
  {
   "cell_type": "markdown",
   "metadata": {},
   "source": [
    "\n",
    "### 1.2 Introduzione alla nostra Rete\n",
    "La [rete da noi scelta](http://vlado.fmf.uni-lj.si/pub/networks/data/esna/metalWT.htm) descrive il commercio di oggetti in metallo tra 80 paesi nel mondo nel 1994. \\\n",
    "Un collegamento $Y_{ij}$ rappresenta le importazioni da un paese ad un altro riguardanti oggetti in metallo, in parole semplici possiamo vedere un collegamento $Y_{ij}$ come la richiesta di oggetti in metallo da parte del nodo $i$ al nodo $j$. \n",
    "#### Proprietà della Rete\n",
    "La nostra rete contiene 80 nodi (paesi) e 1000 collegamenti (scambi commerciali) e ogni nodo contiene i seguenti attributi:\n",
    "- Il loro Continente di appartenenza\n",
    "- La loro Posizione rispetto alla Struttura del Sistema Mondiale nel 1994\n",
    "- Il loro PIL diviso per il numero di cittadini all'interno di tale paese nel 1995\n",
    "---\n",
    "Dal sito è possibile scaricare soltanto il file 'world_trade.paj' che contiene i nomi delle nazioni, la edge list corrispondente alla nostra rete e gli attributi nodali.\n",
    "Da questo file abbiamo ricavato il file 'edge_list.txt', contenente la lista degli archi della nostra rete, e 'nodes_attr.txt' contenente i nomi e i relativi attributi nodali dei nodi.\n",
    "Dopodiché tramite l'utilizzo della libreria igraph abbiamo impostato la nostra rete in R:\n",
    "\n"
   ]
  },
  {
   "cell_type": "code",
   "execution_count": 2,
   "metadata": {
    "vscode": {
     "languageId": "r"
    }
   },
   "outputs": [
    {
     "name": "stderr",
     "output_type": "stream",
     "text": [
      "\n",
      "Attaching package: ‘igraph’\n",
      "\n",
      "\n",
      "The following objects are masked from ‘package:stats’:\n",
      "\n",
      "    decompose, spectrum\n",
      "\n",
      "\n",
      "The following object is masked from ‘package:base’:\n",
      "\n",
      "    union\n",
      "\n",
      "\n"
     ]
    },
    {
     "name": "stdout",
     "output_type": "stream",
     "text": [
      "IGRAPH f8ed693 DN-- 80 1000 -- \n",
      "+ attr: continent (v/n), gdp (v/n), world_partition (v/n), xCoordinate\n",
      "| (v/n), yCoordinate (v/n), name (v/c)\n",
      "+ edges from f8ed693 (vertex names):\n",
      " [1] United States->French Guiana France       ->French Guiana\n",
      " [3] Germany      ->French Guiana Italy        ->French Guiana\n",
      " [5] United States->Guadeloupe    Belgium/Lux. ->Guadeloupe   \n",
      " [7] France       ->Guadeloupe    Germany      ->Guadeloupe   \n",
      " [9] Italy        ->Guadeloupe    United States->Norway       \n",
      "[11] Japan        ->Norway        China        ->Norway       \n",
      "[13] Belgium/Lux. ->Norway        Denmark      ->Norway       \n",
      "+ ... omitted several edges\n"
     ]
    }
   ],
   "source": [
    "# Rimozione dati dalla sessione di R in caso fossero presenti\n",
    "rm(list = ls())\n",
    "\n",
    "# Abilita l'utilizzo della libreria 'igraph'\n",
    "library(igraph)\n",
    "\n",
    "# Importazione della edge list \n",
    "edgeList <- read.table(\"edge_list.txt\", sep = \"\", head = FALSE)\n",
    "\n",
    "# Importazione degli attributi dei nodi\n",
    "attr <- read.table(\"nodes_attr.txt\", sep = \"\", head = TRUE)\n",
    "\n",
    "# Creazione del grafo e assegnazione degli attributi ai nodi\n",
    "g <- graph_from_edgelist(as.matrix(edgeList), directed = TRUE)\n",
    "V(g)$continent <- attr$Continents\n",
    "V(g)$gdp <- attr$GDP\n",
    "V(g)$world_partition <- attr$World_Partitions\n",
    "V(g)$xCoordinate <- attr$xCoordinates\n",
    "V(g)$yCoordinate <- attr$yCoordinates\n",
    "V(g)$name <- attr$Names\n",
    "\n",
    "print(g)"
   ]
  },
  {
   "cell_type": "markdown",
   "metadata": {},
   "source": [
    "#### Statistiche di Rete\n",
    "Dopodichè tramite l'utilizzo dei seguenti comandi abbiamo calcolato le nostre statistiche di Rete."
   ]
  },
  {
   "cell_type": "code",
   "execution_count": 39,
   "metadata": {
    "vscode": {
     "languageId": "r"
    }
   },
   "outputs": [
    {
     "data": {
      "image/png": "[encoded data removed]",
      "text/plain": [
       "plot without title"
      ]
     },
     "metadata": {
      "image/png": {
       "height": 420,
       "width": 420
      }
     },
     "output_type": "display_data"
    }
   ],
   "source": [
    "# Creazione della matrice di adiacenza relativa al grafo g\n",
    "Y <- as_adjacency_matrix(g)\n",
    "diag(Y) <- NA\n",
    "\n",
    "# Calcolo delle statistiche di rete\n",
    "rho <- edge_density(g)\n",
    "reciprocity <- reciprocity(g)\n",
    "transitivity <- transitivity(g)\n",
    "odd_rho <- rho / (1 - rho)\n",
    "odd_transitivity <- transitivity / (1 - transitivity)\n",
    "tau <- odd_transitivity / odd_rho\n",
    "assortativity_continent <- assortativity(g, V(g)$continent, directed = TRUE)\n",
    "assortativity_gdp <- assortativity(g, V(g)$gdp, directed = TRUE)\n",
    "assortativity_worldpartition <- assortativity(g, V(g)$world_partition, directed = TRUE)\n",
    "\n",
    "# Create a table with names and values\n",
    "library(gridExtra)\n",
    "library(grid)\n",
    "table <- data.frame(\n",
    "\tNames = c(\"Edge Density\", \"Reciprocity\", \"Transitivity\", \"Tau\", \"Assortativity (Continent)\", \"Assortativity (GDP)\", \"Assortativity (World Partition)\"),\n",
    "\tValues = c(rho, reciprocity, transitivity, tau, assortativity_continent, assortativity_gdp, assortativity_worldpartition)\n",
    ")\n",
    "\n",
    "grid.table(table, rows = NULL)"
   ]
  },
  {
   "cell_type": "markdown",
   "metadata": {},
   "source": [
    "Dall'immagine sopra possiamo estrapolare delle informazioni riguardo alla nostra rete, cioè: \n",
    "- Circa 1/4 delle connessioni è reciprocata.\n",
    "- La transitività nella nostra rete è molto alta, circa 4 volte di più rispetto al caso random.\n",
    "- Il coefficiente di assortatività è positivo per tutti e 3 gli attributi nodali.\n",
    "Con queste informazioni possiamo già dire che la nostra rete ha un'alta tendenza a formare dei cluster (o gruppi)."
   ]
  },
  {
   "cell_type": "markdown",
   "metadata": {},
   "source": [
    "#### Statistiche Nodali\n",
    "Per quanto riguarda le Statistiche Nodali, cioè:\n",
    "- In Degree Centrality\n",
    "- Out Degree Centrality\n",
    "- In Closeness Centrality\n",
    "- Out Closeness Centrality\n",
    "- Betweenness Centrality\n",
    "- Eigen-Vector Centrality\n",
    "abbiamo ottenuto i seguenti risultati:"
   ]
  },
  {
   "cell_type": "markdown",
   "metadata": {},
   "source": [
    "##### In Degree Centrality\n",
    "Per quanto riguarda la In Degree Centrality abbiamo ottenuto i seguenti risultati"
   ]
  },
  {
   "cell_type": "code",
   "execution_count": 40,
   "metadata": {
    "vscode": {
     "languageId": "r"
    }
   },
   "outputs": [
    {
     "data": {
      "image/png": "[encoded data removed]",
      "text/plain": [
       "Plot with title “Histogram of in_degree”"
      ]
     },
     "metadata": {
      "image/png": {
       "height": 420,
       "width": 420
      }
     },
     "output_type": "display_data"
    }
   ],
   "source": [
    "# Calcolo della InDegree Centrality\n",
    "in_degree <- degree(g, mode = \"in\")\n",
    "# Istogramma dell'In Degree Centrality\n",
    "hist(in_degree)"
   ]
  },
  {
   "cell_type": "code",
   "execution_count": 35,
   "metadata": {
    "vscode": {
     "languageId": "r"
    }
   },
   "outputs": [
    {
     "data": {
      "text/plain": [
       "   Min. 1st Qu.  Median    Mean 3rd Qu.    Max. \n",
       "    4.0    10.0    13.0    12.5    15.0    18.0 "
      ]
     },
     "metadata": {},
     "output_type": "display_data"
    }
   ],
   "source": [
    "# Stampo il Summary dell'In Degree Centrality\n",
    "summary(in_degree)"
   ]
  },
  {
   "cell_type": "code",
   "execution_count": 33,
   "metadata": {
    "vscode": {
     "languageId": "r"
    }
   },
   "outputs": [
    {
     "data": {
      "text/html": [
       "<table class=\"dataframe\">\n",
       "<caption>A matrix: 2 × 5 of type chr</caption>\n",
       "<thead>\n",
       "\t<tr><th></th><th scope=col>1</th><th scope=col>2</th><th scope=col>3</th><th scope=col>4</th><th scope=col>5</th></tr>\n",
       "</thead>\n",
       "<tbody>\n",
       "\t<tr><th scope=row>Nazioni</th><td>Australia</td><td>Germany</td><td>Southern Africa</td><td>Chile</td><td>Jordan</td></tr>\n",
       "\t<tr><th scope=row>In Degree Value</th><td>18       </td><td>18     </td><td>18             </td><td>17   </td><td>17    </td></tr>\n",
       "</tbody>\n",
       "</table>\n"
      ],
      "text/latex": [
       "A matrix: 2 × 5 of type chr\n",
       "\\begin{tabular}{r|lllll}\n",
       "  & 1 & 2 & 3 & 4 & 5\\\\\n",
       "\\hline\n",
       "\tNazioni & Australia & Germany & Southern Africa & Chile & Jordan\\\\\n",
       "\tIn Degree Value & 18        & 18      & 18              & 17    & 17    \\\\\n",
       "\\end{tabular}\n"
      ],
      "text/markdown": [
       "\n",
       "A matrix: 2 × 5 of type chr\n",
       "\n",
       "| <!--/--> | 1 | 2 | 3 | 4 | 5 |\n",
       "|---|---|---|---|---|---|\n",
       "| Nazioni | Australia | Germany | Southern Africa | Chile | Jordan |\n",
       "| In Degree Value | 18        | 18      | 18              | 17    | 17     |\n",
       "\n"
      ],
      "text/plain": [
       "                1         2       3               4     5     \n",
       "Nazioni         Australia Germany Southern Africa Chile Jordan\n",
       "In Degree Value 18        18      18              17    17    "
      ]
     },
     "metadata": {},
     "output_type": "display_data"
    }
   ],
   "source": [
    "# Stampo le 5 Nazioni con In Degree più Alto\n",
    "matrix(c(V(g)$name[order(in_degree, decreasing = TRUE)[1:5]], in_degree[order(in_degree, decreasing = TRUE)[1:5]]), \n",
    "    nrow = 2, ncol = 5, byrow = TRUE,\n",
    "    dimnames = list(c(\"Nazioni\", \"In Degree Value\"), c(1:5)))"
   ]
  },
  {
   "cell_type": "code",
   "execution_count": 38,
   "metadata": {
    "vscode": {
     "languageId": "r"
    }
   },
   "outputs": [
    {
     "data": {
      "text/html": [
       "0.0705015221919564"
      ],
      "text/latex": [
       "0.0705015221919564"
      ],
      "text/markdown": [
       "0.0705015221919564"
      ],
      "text/plain": [
       "[1] 0.07050152"
      ]
     },
     "metadata": {},
     "output_type": "display_data"
    }
   ],
   "source": [
    "# Stampo la centralità della Rete rispetto all'In Degree\n",
    "centr_degree(g, loops = FALSE, mode = \"in\")$centralization"
   ]
  },
  {
   "cell_type": "markdown",
   "metadata": {},
   "source": [
    "Dai dati sopra osservati possiamo affermare che la nostra rete è una rete molto ben distribuita per quanto riguarda la Statistica Nodale In Degree, questo significa che LO SCOPRIREMO DOMANI HIHIHIHIHI"
   ]
  }
 ],
 "metadata": {
  "kernelspec": {
   "display_name": "R",
   "language": "R",
   "name": "ir"
  },
  "language_info": {
   "codemirror_mode": "r",
   "file_extension": ".r",
   "mimetype": "text/x-r-source",
   "name": "R",
   "pygments_lexer": "r",
   "version": "4.3.3"
  }
 },
 "nbformat": 4,
 "nbformat_minor": 2
}
